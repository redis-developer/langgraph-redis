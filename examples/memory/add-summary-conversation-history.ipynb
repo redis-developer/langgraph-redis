{
 "cells": [
  {
   "cell_type": "markdown",
   "id": "51466c8d-8ce4-4b3d-be4e-18fdbeda5f53",
   "metadata": {},
   "source": [
    "# How to add summary of the conversation history\n",
    "\n",
    "One of the most common use cases for persistence is to use it to keep track of conversation history. This is great - it makes it easy to continue conversations. As conversations get longer and longer, however, this conversation history can build up and take up more and more of the context window. This can often be undesirable as it leads to more expensive and longer calls to the LLM, and potentially ones that error. One way to work around that is to create a summary of the conversation to date, and use that with the past N messages. This guide will go through an example of how to do that.\n",
    "\n",
    "This will involve a few steps:\n",
    "\n",
    "- Check if the conversation is too long (can be done by checking number of messages or length of messages)\n",
    "- If yes, the create summary (will need a prompt for this)\n",
    "- Then remove all except the last N messages\n",
    "\n",
    "A big part of this is deleting old messages. For an in depth guide on how to do that, see [this guide](../delete-messages)"
   ]
  },
  {
   "cell_type": "markdown",
   "id": "7cbd446a-808f-4394-be92-d45ab818953c",
   "metadata": {},
   "source": [
    "## Setup\n",
    "\n",
    "First, let's set up the packages we're going to want to use"
   ]
  },
  {
   "cell_type": "code",
   "execution_count": 1,
   "id": "af4ce0ba-7596-4e5f-8bf8-0b0bd6e62833",
   "metadata": {},
   "outputs": [],
   "source": [
    "%%capture --no-stderr\n",
    "%pip install --quiet -U langgraph langchain_anthropic"
   ]
  },
  {
   "cell_type": "markdown",
   "id": "0abe11f4-62ed-4dc4-8875-3db21e260d1d",
   "metadata": {},
   "source": [
    "Next, we need to set API keys for Anthropic (the LLM we will use)"
   ]
  },
  {
   "cell_type": "code",
   "execution_count": 2,
   "id": "c903a1cf-2977-4e2d-ad7d-8b3946821d89",
   "metadata": {},
   "outputs": [
    {
     "name": "stdin",
     "output_type": "stream",
     "text": [
      "ANTHROPIC_API_KEY:  ········\n"
     ]
    }
   ],
   "source": [
    "import getpass\n",
    "import os\n",
    "\n",
    "\n",
    "def _set_env(var: str):\n",
    "    if not os.environ.get(var):\n",
    "        os.environ[var] = getpass.getpass(f\"{var}: \")\n",
    "\n",
    "\n",
    "_set_env(\"ANTHROPIC_API_KEY\")"
   ]
  },
  {
   "cell_type": "markdown",
   "id": "f0ed46a8-effe-4596-b0e1-a6a29ee16f5c",
   "metadata": {},
   "source": [
    "<div class=\"admonition tip\">\n",
    "    <p class=\"admonition-title\">Set up <a href=\"https://smith.langchain.com\">LangSmith</a> for LangGraph development</p>\n",
    "    <p style=\"padding-top: 5px;\">\n",
    "        Sign up for LangSmith to quickly spot issues and improve the performance of your LangGraph projects. LangSmith lets you use trace data to debug, test, and monitor your LLM apps built with LangGraph — read more about how to get started <a href=\"https://docs.smith.langchain.com\">here</a>. \n",
    "    </p>\n",
    "</div>"
   ]
  },
  {
   "cell_type": "markdown",
   "id": "84835fdb-a5f3-4c90-85f3-0e6257650aba",
   "metadata": {},
   "source": [
    "## Build the chatbot\n",
    "\n",
    "Let's now build the chatbot."
   ]
  },
  {
   "cell_type": "code",
   "execution_count": 3,
   "id": "378899a9-3b9a-4748-95b6-eb00e0828677",
   "metadata": {},
   "outputs": [
    {
     "name": "stdout",
     "output_type": "stream",
     "text": [
      "19:51:26 langgraph.checkpoint.redis INFO   Redis client is a standalone client\n",
      "19:51:26 redisvl.index.index INFO   Index already exists, not overwriting.\n",
      "19:51:26 redisvl.index.index INFO   Index already exists, not overwriting.\n",
      "19:51:26 redisvl.index.index INFO   Index already exists, not overwriting.\n"
     ]
    }
   ],
   "source": [
    "from typing import Literal\n",
    "\n",
    "from langchain_anthropic import ChatAnthropic\n",
    "from langchain_core.messages import SystemMessage, RemoveMessage\n",
    "from langgraph.checkpoint.redis import RedisSaver\n",
    "from langgraph.graph import MessagesState, StateGraph, START, END\n",
    "\n",
    "# Set up Redis connection for checkpointer\n",
    "REDIS_URI = \"redis://redis:6379\"\n",
    "memory = None\n",
    "with RedisSaver.from_conn_string(REDIS_URI) as cp:\n",
    "    cp.setup()\n",
    "    memory = cp\n",
    "\n",
    "\n",
    "# We will add a `summary` attribute (in addition to `messages` key,\n",
    "# which MessagesState already has)\n",
    "class State(MessagesState):\n",
    "    summary: str\n",
    "\n",
    "\n",
    "# We will use this model for both the conversation and the summarization\n",
    "model = ChatAnthropic(model_name=\"claude-3-haiku-20240307\")\n",
    "\n",
    "\n",
    "# Define the logic to call the model\n",
    "def call_model(state: State):\n",
    "    # If a summary exists, we add this in as a system message\n",
    "    summary = state.get(\"summary\", \"\")\n",
    "    if summary:\n",
    "        system_message = f\"Summary of conversation earlier: {summary}\"\n",
    "        messages = [SystemMessage(content=system_message)] + state[\"messages\"]\n",
    "    else:\n",
    "        messages = state[\"messages\"]\n",
    "    response = model.invoke(messages)\n",
    "    # We return a list, because this will get added to the existing list\n",
    "    return {\"messages\": [response]}\n",
    "\n",
    "\n",
    "# We now define the logic for determining whether to end or summarize the conversation\n",
    "def should_continue(state: State) -> Literal[\"summarize_conversation\", END]:\n",
    "    \"\"\"Return the next node to execute.\"\"\"\n",
    "    messages = state[\"messages\"]\n",
    "    # If there are more than six messages, then we summarize the conversation\n",
    "    if len(messages) > 6:\n",
    "        return \"summarize_conversation\"\n",
    "    # Otherwise we can just end\n",
    "    return END\n",
    "\n",
    "\n",
    "def summarize_conversation(state: State):\n",
    "    # First, we summarize the conversation\n",
    "    summary = state.get(\"summary\", \"\")\n",
    "    if summary:\n",
    "        # If a summary already exists, we use a different system prompt\n",
    "        # to summarize it than if one didn't\n",
    "        summary_message = (\n",
    "            f\"This is summary of the conversation to date: {summary}\\n\\n\"\n",
    "            \"Extend the summary by taking into account the new messages above:\"\n",
    "        )\n",
    "    else:\n",
    "        summary_message = \"Create a summary of the conversation above:\"\n",
    "\n",
    "    messages = state[\"messages\"] + [HumanMessage(content=summary_message)]\n",
    "    response = model.invoke(messages)\n",
    "    # We now need to delete messages that we no longer want to show up\n",
    "    # I will delete all but the last two messages, but you can change this\n",
    "    delete_messages = [RemoveMessage(id=m.id) for m in state[\"messages\"][:-2]]\n",
    "    return {\"summary\": response.content, \"messages\": delete_messages}\n",
    "\n",
    "\n",
    "# Define a new graph\n",
    "workflow = StateGraph(State)\n",
    "\n",
    "# Define the conversation node and the summarize node\n",
    "workflow.add_node(\"conversation\", call_model)\n",
    "workflow.add_node(summarize_conversation)\n",
    "\n",
    "# Set the entrypoint as conversation\n",
    "workflow.add_edge(START, \"conversation\")\n",
    "\n",
    "# We now add a conditional edge\n",
    "workflow.add_conditional_edges(\n",
    "    # First, we define the start node. We use `conversation`.\n",
    "    # This means these are the edges taken after the `conversation` node is called.\n",
    "    \"conversation\",\n",
    "    # Next, we pass in the function that will determine which node is called next.\n",
    "    should_continue,\n",
    ")\n",
    "\n",
    "# We now add a normal edge from `summarize_conversation` to END.\n",
    "# This means that after `summarize_conversation` is called, we end.\n",
    "workflow.add_edge(\"summarize_conversation\", END)\n",
    "\n",
    "# Finally, we compile it!\n",
    "app = workflow.compile(checkpointer=memory)"
   ]
  },
  {
   "cell_type": "markdown",
   "id": "41c2872e-04b3-4c44-9e03-9e84a5230adf",
   "metadata": {},
   "source": [
    "## Using the graph"
   ]
  },
  {
   "cell_type": "code",
   "execution_count": 4,
   "id": "dc697132-8fa1-4bf5-9722-56a9859331ab",
   "metadata": {},
   "outputs": [],
   "source": [
    "def print_update(update):\n",
    "    for k, v in update.items():\n",
    "        for m in v[\"messages\"]:\n",
    "            m.pretty_print()\n",
    "        if \"summary\" in v:\n",
    "            print(v[\"summary\"])"
   ]
  },
  {
   "cell_type": "code",
   "execution_count": 5,
   "id": "57b27553-21be-43e5-ac48-d1d0a3aa0dca",
   "metadata": {},
   "outputs": [
    {
     "name": "stdout",
     "output_type": "stream",
     "text": [
      "================================\u001b[1m Human Message \u001b[0m=================================\n",
      "\n",
      "hi! I'm bob\n",
      "19:51:27 httpx INFO   HTTP Request: POST https://api.anthropic.com/v1/messages \"HTTP/1.1 200 OK\"\n",
      "==================================\u001b[1m Ai Message \u001b[0m==================================\n",
      "\n",
      "Hi Bob! It's nice to meet you. I'm an AI assistant created by Anthropic. I don't actually have information about the current weather in specific locations, since I don't have access to real-time weather data. I should have been more clear that I don't have location-specific weather information. Please let me know if there's anything else I can assist you with!\n",
      "================================\u001b[1m Human Message \u001b[0m=================================\n",
      "\n",
      "what's my name?\n",
      "19:51:28 httpx INFO   HTTP Request: POST https://api.anthropic.com/v1/messages \"HTTP/1.1 200 OK\"\n",
      "==================================\u001b[1m Ai Message \u001b[0m==================================\n",
      "\n",
      "You said your name is Bob, so your name is Bob.\n",
      "================================\u001b[1m Human Message \u001b[0m=================================\n",
      "\n",
      "i like the celtics!\n",
      "19:51:29 httpx INFO   HTTP Request: POST https://api.anthropic.com/v1/messages \"HTTP/1.1 200 OK\"\n",
      "==================================\u001b[1m Ai Message \u001b[0m==================================\n",
      "\n",
      "That's great, the Celtics are a really exciting NBA team! Do you follow them closely? What do you like most about the team? I don't have strong sports knowledge myself, but I'm always happy to chat about topics that interest you.\n",
      "19:51:30 httpx INFO   HTTP Request: POST https://api.anthropic.com/v1/messages \"HTTP/1.1 200 OK\"\n",
      "================================\u001b[1m Remove Message \u001b[0m================================\n",
      "\n",
      "\n",
      "================================\u001b[1m Remove Message \u001b[0m================================\n",
      "\n",
      "\n",
      "================================\u001b[1m Remove Message \u001b[0m================================\n",
      "\n",
      "\n",
      "================================\u001b[1m Remove Message \u001b[0m================================\n",
      "\n",
      "\n",
      "================================\u001b[1m Remove Message \u001b[0m================================\n",
      "\n",
      "\n",
      "================================\u001b[1m Remove Message \u001b[0m================================\n",
      "\n",
      "\n",
      "Here is a summary of the conversation so far:\n",
      "\n",
      "The conversation started with you asking about the weather in SF, to which I incorrectly responded that it was sunny in LA. I then clarified that I don't actually have access to real-time weather data for specific locations. \n",
      "\n",
      "You then introduced yourself as Bob, and I acknowledged that your name is Bob. \n",
      "\n",
      "You expressed that you like the Celtics basketball team, and I showed interest in discussing your fandom for them, though I don't have in-depth sports knowledge myself.\n",
      "\n",
      "The key points are:\n",
      "- Confusion about weather information\n",
      "- Confirmation of your name being Bob\n",
      "- Your interest in the Celtics\n",
      "\n",
      "Please let me know if I've missed or mischaracterized anything in this summary.\n"
     ]
    }
   ],
   "source": [
    "from langchain_core.messages import HumanMessage\n",
    "\n",
    "config = {\"configurable\": {\"thread_id\": \"4\"}}\n",
    "input_message = HumanMessage(content=\"hi! I'm bob\")\n",
    "input_message.pretty_print()\n",
    "for event in app.stream({\"messages\": [input_message]}, config, stream_mode=\"updates\"):\n",
    "    print_update(event)\n",
    "\n",
    "input_message = HumanMessage(content=\"what's my name?\")\n",
    "input_message.pretty_print()\n",
    "for event in app.stream({\"messages\": [input_message]}, config, stream_mode=\"updates\"):\n",
    "    print_update(event)\n",
    "\n",
    "input_message = HumanMessage(content=\"i like the celtics!\")\n",
    "input_message.pretty_print()\n",
    "for event in app.stream({\"messages\": [input_message]}, config, stream_mode=\"updates\"):\n",
    "    print_update(event)"
   ]
  },
  {
   "cell_type": "markdown",
   "id": "9760e219-a7fc-4d81-b4e8-1334c5afc510",
   "metadata": {},
   "source": [
    "We can see that so far no summarization has happened - this is because there are only six messages in the list."
   ]
  },
  {
   "cell_type": "code",
   "execution_count": 6,
   "id": "935265a0-d511-475a-8a0d-b3c3cc5e42a0",
   "metadata": {},
   "outputs": [
    {
     "data": {
      "text/plain": [
       "{'messages': [HumanMessage(content='i like the celtics!', additional_kwargs={}, response_metadata={}, id='e18daa5f-6131-464c-9a7c-0c5abf376d68'),\n",
       "  AIMessage(content=\"That's great, the Celtics are a really exciting NBA team! Do you follow them closely? What do you like most about the team? I don't have strong sports knowledge myself, but I'm always happy to chat about topics that interest you.\", additional_kwargs={}, response_metadata={'id': 'msg_01N7BAiX5zGXrEvYUrtphnWw', 'model': 'claude-3-haiku-20240307', 'stop_reason': 'end_turn', 'stop_sequence': None, 'usage': {'cache_creation_input_tokens': 0, 'cache_read_input_tokens': 0, 'input_tokens': 146, 'output_tokens': 55, 'server_tool_use': None, 'service_tier': 'standard'}, 'model_name': 'claude-3-haiku-20240307'}, id='run--f1d2ab88-5864-4243-83c4-55253227c9b2-0', usage_metadata={'input_tokens': 146, 'output_tokens': 55, 'total_tokens': 201, 'input_token_details': {'cache_creation': 0, 'cache_read': 0}})],\n",
       " 'summary': \"Here is a summary of the conversation so far:\\n\\nThe conversation started with you asking about the weather in SF, to which I incorrectly responded that it was sunny in LA. I then clarified that I don't actually have access to real-time weather data for specific locations. \\n\\nYou then introduced yourself as Bob, and I acknowledged that your name is Bob. \\n\\nYou expressed that you like the Celtics basketball team, and I showed interest in discussing your fandom for them, though I don't have in-depth sports knowledge myself.\\n\\nThe key points are:\\n- Confusion about weather information\\n- Confirmation of your name being Bob\\n- Your interest in the Celtics\\n\\nPlease let me know if I've missed or mischaracterized anything in this summary.\"}"
      ]
     },
     "execution_count": 6,
     "metadata": {},
     "output_type": "execute_result"
    }
   ],
   "source": [
    "values = app.get_state(config).values\n",
    "values"
   ]
  },
  {
   "cell_type": "markdown",
   "id": "bb40eddb-9a31-4410-a4c0-9762e2d89e56",
   "metadata": {},
   "source": [
    "Now let's send another message in"
   ]
  },
  {
   "cell_type": "code",
   "execution_count": 7,
   "id": "048805a4-3d97-4e76-ac45-8d80d4364c46",
   "metadata": {},
   "outputs": [
    {
     "name": "stdout",
     "output_type": "stream",
     "text": [
      "================================\u001b[1m Human Message \u001b[0m=================================\n",
      "\n",
      "i like how much they win\n",
      "19:51:32 httpx INFO   HTTP Request: POST https://api.anthropic.com/v1/messages \"HTTP/1.1 200 OK\"\n",
      "==================================\u001b[1m Ai Message \u001b[0m==================================\n",
      "\n",
      "That's a great point about the Celtics! They have definitely been one of the more successful and consistent franchises in the NBA over the years. Some key things about the Celtics' winning ways:\n",
      "\n",
      "- They have won a record 17 NBA championships, the most of any team. Their most recent title was in 2008.\n",
      "\n",
      "- They have made the playoffs in 32 of the last 35 seasons, showing their sustained excellence and competitiveness.\n",
      "\n",
      "- Key players like Larry Bird, Kevin McHale, and Paul Pierce have led championship-caliber Celtics teams over the decades.\n",
      "\n",
      "- Under coach Brad Stevens, they've remained a top contender in the Eastern Conference in recent years, making the playoffs every season since 2015.\n",
      "\n",
      "I can see why you're drawn to a team with such a winning pedigree and tradition. The Celtics' ability to consistently compete for titles must be very satisfying as a fan. Do you have a favorite Celtics player or season you particularly enjoyed watching?\n"
     ]
    }
   ],
   "source": [
    "input_message = HumanMessage(content=\"i like how much they win\")\n",
    "input_message.pretty_print()\n",
    "for event in app.stream({\"messages\": [input_message]}, config, stream_mode=\"updates\"):\n",
    "    print_update(event)"
   ]
  },
  {
   "cell_type": "markdown",
   "id": "6b196367-6151-4982-9430-3db7373de06e",
   "metadata": {},
   "source": [
    "If we check the state now, we can see that we have a summary of the conversation, as well as the last two messages"
   ]
  },
  {
   "cell_type": "code",
   "execution_count": 8,
   "id": "09ebb693-4738-4474-a095-6491def5c5f9",
   "metadata": {},
   "outputs": [
    {
     "data": {
      "text/plain": [
       "{'messages': [HumanMessage(content='i like the celtics!', additional_kwargs={}, response_metadata={}, id='e18daa5f-6131-464c-9a7c-0c5abf376d68'),\n",
       "  AIMessage(content=\"That's great, the Celtics are a really exciting NBA team! Do you follow them closely? What do you like most about the team? I don't have strong sports knowledge myself, but I'm always happy to chat about topics that interest you.\", additional_kwargs={}, response_metadata={'id': 'msg_01N7BAiX5zGXrEvYUrtphnWw', 'model': 'claude-3-haiku-20240307', 'stop_reason': 'end_turn', 'stop_sequence': None, 'usage': {'cache_creation_input_tokens': 0, 'cache_read_input_tokens': 0, 'input_tokens': 146, 'output_tokens': 55, 'server_tool_use': None, 'service_tier': 'standard'}, 'model_name': 'claude-3-haiku-20240307'}, id='run--f1d2ab88-5864-4243-83c4-55253227c9b2-0', usage_metadata={'input_tokens': 146, 'output_tokens': 55, 'total_tokens': 201, 'input_token_details': {'cache_creation': 0, 'cache_read': 0}}),\n",
       "  HumanMessage(content='i like how much they win', additional_kwargs={}, response_metadata={}, id='7ff737dd-19e8-4cfd-8847-032516e1666e'),\n",
       "  AIMessage(content=\"That's a great point about the Celtics! They have definitely been one of the more successful and consistent franchises in the NBA over the years. Some key things about the Celtics' winning ways:\\n\\n- They have won a record 17 NBA championships, the most of any team. Their most recent title was in 2008.\\n\\n- They have made the playoffs in 32 of the last 35 seasons, showing their sustained excellence and competitiveness.\\n\\n- Key players like Larry Bird, Kevin McHale, and Paul Pierce have led championship-caliber Celtics teams over the decades.\\n\\n- Under coach Brad Stevens, they've remained a top contender in the Eastern Conference in recent years, making the playoffs every season since 2015.\\n\\nI can see why you're drawn to a team with such a winning pedigree and tradition. The Celtics' ability to consistently compete for titles must be very satisfying as a fan. Do you have a favorite Celtics player or season you particularly enjoyed watching?\", additional_kwargs={}, response_metadata={'id': 'msg_01Ce3TQnFa49akkAobXkXK13', 'model': 'claude-3-haiku-20240307', 'stop_reason': 'end_turn', 'stop_sequence': None, 'usage': {'cache_creation_input_tokens': 0, 'cache_read_input_tokens': 0, 'input_tokens': 246, 'output_tokens': 222, 'server_tool_use': None, 'service_tier': 'standard'}, 'model_name': 'claude-3-haiku-20240307'}, id='run--ad74a07f-eb5f-4682-8856-ad99cd80790a-0', usage_metadata={'input_tokens': 246, 'output_tokens': 222, 'total_tokens': 468, 'input_token_details': {'cache_creation': 0, 'cache_read': 0}})],\n",
       " 'summary': \"Here is a summary of the conversation so far:\\n\\nThe conversation started with you asking about the weather in SF, to which I incorrectly responded that it was sunny in LA. I then clarified that I don't actually have access to real-time weather data for specific locations. \\n\\nYou then introduced yourself as Bob, and I acknowledged that your name is Bob. \\n\\nYou expressed that you like the Celtics basketball team, and I showed interest in discussing your fandom for them, though I don't have in-depth sports knowledge myself.\\n\\nThe key points are:\\n- Confusion about weather information\\n- Confirmation of your name being Bob\\n- Your interest in the Celtics\\n\\nPlease let me know if I've missed or mischaracterized anything in this summary.\"}"
      ]
     },
     "execution_count": 8,
     "metadata": {},
     "output_type": "execute_result"
    }
   ],
   "source": [
    "values = app.get_state(config).values\n",
    "values"
   ]
  },
  {
   "cell_type": "markdown",
   "id": "966e4177-c0fc-4fd0-a494-dd03f7f2fddb",
   "metadata": {},
   "source": [
    "We can now resume having a conversation! Note that even though we only have the last two messages, we can still ask it questions about things mentioned earlier in the conversation (because we summarized those)"
   ]
  },
  {
   "cell_type": "code",
   "execution_count": 9,
   "id": "7094c5ab-66f8-42ff-b1c3-90c8a9468e62",
   "metadata": {},
   "outputs": [
    {
     "name": "stdout",
     "output_type": "stream",
     "text": [
      "================================\u001b[1m Human Message \u001b[0m=================================\n",
      "\n",
      "what's my name?\n",
      "19:51:33 httpx INFO   HTTP Request: POST https://api.anthropic.com/v1/messages \"HTTP/1.1 200 OK\"\n",
      "==================================\u001b[1m Ai Message \u001b[0m==================================\n",
      "\n",
      "Ah, you're right, I should have kept that detail in mind. Your name is Bob, as you mentioned earlier in our conversation. My apologies for not remembering that detail more clearly. Please feel free to remind me of important details like your name - it helps me have a more coherent and personalized conversation with you.\n"
     ]
    }
   ],
   "source": [
    "input_message = HumanMessage(content=\"what's my name?\")\n",
    "input_message.pretty_print()\n",
    "for event in app.stream({\"messages\": [input_message]}, config, stream_mode=\"updates\"):\n",
    "    print_update(event)"
   ]
  },
  {
   "cell_type": "code",
   "execution_count": 10,
   "id": "40e5db8e-9db9-4ac7-9d76-a99fd4034bf3",
   "metadata": {},
   "outputs": [
    {
     "name": "stdout",
     "output_type": "stream",
     "text": [
      "================================\u001b[1m Human Message \u001b[0m=================================\n",
      "\n",
      "what NFL team do you think I like?\n",
      "19:51:34 httpx INFO   HTTP Request: POST https://api.anthropic.com/v1/messages \"HTTP/1.1 200 OK\"\n",
      "==================================\u001b[1m Ai Message \u001b[0m==================================\n",
      "\n",
      "Hmm, that's a good question. Since I don't have any prior information about your specific NFL team preferences, I don't want to make an assumption. As an AI assistant without detailed knowledge of your personal interests, the best I can do is ask you directly - what NFL team do you like?  I'm happy to discuss whichever team you're a fan of, but I don't want to guess incorrectly. Could you please let me know your favorite NFL team?\n",
      "19:51:36 httpx INFO   HTTP Request: POST https://api.anthropic.com/v1/messages \"HTTP/1.1 200 OK\"\n",
      "================================\u001b[1m Remove Message \u001b[0m================================\n",
      "\n",
      "\n",
      "================================\u001b[1m Remove Message \u001b[0m================================\n",
      "\n",
      "\n",
      "================================\u001b[1m Remove Message \u001b[0m================================\n",
      "\n",
      "\n",
      "================================\u001b[1m Remove Message \u001b[0m================================\n",
      "\n",
      "\n",
      "================================\u001b[1m Remove Message \u001b[0m================================\n",
      "\n",
      "\n",
      "================================\u001b[1m Remove Message \u001b[0m================================\n",
      "\n",
      "\n",
      "Got it, thank you for providing that helpful summary of our conversation so far. To extend the summary:\n",
      "\n",
      "After confirming your name is Bob, you asked what NFL team I think you like. Since I don't have any prior information about your NFL team preferences, I explained that I didn't want to make an assumption, and instead asked you directly to share your favorite NFL team.\n",
      "\n",
      "So the full summary is:\n",
      "\n",
      "- Confusion about weather information\n",
      "- Confirmation of your name being Bob \n",
      "- Your interest in the Celtics basketball team\n",
      "- Your question about what NFL team I think you like, to which I responded by asking you to share your favorite NFL team, as I didn't want to guess incorrectly.\n",
      "\n",
      "Please let me know if I'm still missing or mischaracterizing anything in this extended summary of our discussion so far. I appreciate you taking the time to ensure I have an accurate understanding.\n"
     ]
    }
   ],
   "source": [
    "input_message = HumanMessage(content=\"what NFL team do you think I like?\")\n",
    "input_message.pretty_print()\n",
    "for event in app.stream({\"messages\": [input_message]}, config, stream_mode=\"updates\"):\n",
    "    print_update(event)"
   ]
  },
  {
   "cell_type": "code",
   "execution_count": 11,
   "id": "0a1a0fda-5309-45f0-9465-9f3dff604d74",
   "metadata": {},
   "outputs": [
    {
     "name": "stdout",
     "output_type": "stream",
     "text": [
      "================================\u001b[1m Human Message \u001b[0m=================================\n",
      "\n",
      "i like the patriots!\n",
      "19:51:37 httpx INFO   HTTP Request: POST https://api.anthropic.com/v1/messages \"HTTP/1.1 200 OK\"\n",
      "==================================\u001b[1m Ai Message \u001b[0m==================================\n",
      "\n",
      "Ah I see, got it! Thanks for sharing that you're a fan of the New England Patriots. That's a great NFL team with a very successful history over the past couple of decades. \n",
      "\n",
      "Since you've now told me your favorite team is the Patriots, I'm happy to discuss them with you. What do you enjoy most about being a Patriots fan? Do you have a favorite player on the team currently or from their past championship teams? I'm always interested to hear fans' perspectives on their favorite teams and players.\n",
      "\n",
      "Let me know what you'd like to chat about regarding the Patriots. I'm glad I was able to get the right information from you directly instead of making an assumption earlier. Discussing shared interests is more fun when we have the facts straight!\n"
     ]
    }
   ],
   "source": [
    "input_message = HumanMessage(content=\"i like the patriots!\")\n",
    "input_message.pretty_print()\n",
    "for event in app.stream({\"messages\": [input_message]}, config, stream_mode=\"updates\"):\n",
    "    print_update(event)"
   ]
  }
 ],
 "metadata": {
  "kernelspec": {
   "display_name": "Python 3 (ipykernel)",
   "language": "python",
   "name": "python3"
  },
  "language_info": {
   "codemirror_mode": {
    "name": "ipython",
    "version": 3
   },
   "file_extension": ".py",
   "mimetype": "text/x-python",
   "name": "python",
   "nbconvert_exporter": "python",
   "pygments_lexer": "ipython3",
   "version": "3.11.13"
  }
 },
 "nbformat": 4,
 "nbformat_minor": 5
}
