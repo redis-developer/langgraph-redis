{
 "cells": [
  {
   "cell_type": "markdown",
   "id": "51466c8d-8ce4-4b3d-be4e-18fdbeda5f53",
   "metadata": {},
   "source": [
    "# How to use the Redis checkpointer for persistence\n",
    "\n",
    "<div class=\"admonition tip\">\n",
    "    <p class=\"admonition-title\">Prerequisites</p>\n",
    "    <p>\n",
    "        This guide assumes familiarity with the following:\n",
    "        <ul>\n",
    "            <li>\n",
    "                <a href=\"https://langchain-ai.github.io/langgraph/concepts/persistence/\">\n",
    "                    Persistence\n",
    "                </a>\n",
    "            </li>       \n",
    "            <li>\n",
    "                <a href=\"https://www.redis.io/\">\n",
    "                    Redis\n",
    "                </a>\n",
    "            </li>        \n",
    "        </ul>\n",
    "    </p>\n",
    "</div> \n",
    "\n",
    "When creating LangGraph agents, you can also set them up so that they persist their state. This allows you to do things like interact with an agent multiple times and have it remember previous interactions.\n",
    "\n",
    "This how-to guide shows how to use `Redis` as the backend for persisting checkpoint state using the [`langgraph-checkpoint-redis`](https://github.com/redis-developer/langgraph-redis) library.\n",
    "\n",
    "For demonstration purposes we add persistence to the [pre-built create react agent](https://langchain-ai.github.io/langgraph/reference/prebuilt/#langgraph.prebuilt.chat_agent_executor.create_react_agent). \n",
    "\n",
    "In general, you can add a checkpointer to any custom graph that you build like this:\n",
    "\n",
    "```python\n",
    "from langgraph.graph import StateGraph\n",
    "\n",
    "builder = StateGraph(....)\n",
    "# ... define the graph\n",
    "checkpointer = # postgres checkpointer (see examples below)\n",
    "graph = builder.compile(checkpointer=checkpointer)\n",
    "...\n",
    "```\n",
    "\n",
    "!!! info \"Setup\"\n",
    "    You need to run `.setup()` once on your checkpointer to initialize the database before you can use it."
   ]
  },
  {
   "cell_type": "markdown",
   "id": "456fa19c-93a5-4750-a410-f2d810b964ad",
   "metadata": {},
   "source": [
    "## Setup\n",
    "\n",
    "First, let's install the required dependencies and ensure we have a Redis instance running.\n",
    "\n",
    "Ensure you have a Redis server running. You can start one using Docker with:\n",
    "\n",
    "```\n",
    "docker run -d -p 6379:6379 redis:latest\n",
    "```\n",
    "\n",
    "Or install and run Redis locally according to your operating system's instructions."
   ]
  },
  {
   "cell_type": "code",
   "execution_count": 1,
   "id": "330e2d96-2dde-4cee-9f7d-6755c5579535",
   "metadata": {},
   "outputs": [
    {
     "name": "stdout",
     "output_type": "stream",
     "text": [
      "langgraph-checkpoint-redis: langgraph-checkpoint-redis_v0.0.1\n"
     ]
    }
   ],
   "source": [
    "# ruff: noqa: T201, I001, E501\n",
    "from langgraph.checkpoint.redis import __lib_name__\n",
    "\n",
    "print(f\"langgraph-checkpoint-redis: {__lib_name__}\")"
   ]
  },
  {
   "cell_type": "markdown",
   "id": "ee3b5fbf-f3e0-4755-9e21-bdff180832a4",
   "metadata": {},
   "source": [
    "Next, let's install the required packages and set our API keys"
   ]
  },
  {
   "cell_type": "code",
   "execution_count": 2,
   "id": "faadfb1b-cebe-4dcf-82fd-34044c380bc4",
   "metadata": {},
   "outputs": [],
   "source": [
    "%%capture --no-stderr\n",
    "%pip install -U langgraph langchain-openai\n",
    "# %pip install -U langgraph-checkpoint-redis - already installed"
   ]
  },
  {
   "cell_type": "code",
   "execution_count": 3,
   "id": "eca9aafb-a155-407a-8036-682a2f1297d7",
   "metadata": {},
   "outputs": [
    {
     "name": "stdin",
     "output_type": "stream",
     "text": [
      "OPENAI_API_KEY:  ········\n"
     ]
    }
   ],
   "source": [
    "import getpass\n",
    "import os\n",
    "\n",
    "\n",
    "def _set_env(var: str):\n",
    "    if not os.environ.get(var):\n",
    "        os.environ[var] = getpass.getpass(f\"{var}: \")\n",
    "\n",
    "\n",
    "_set_env(\"OPENAI_API_KEY\")"
   ]
  },
  {
   "cell_type": "markdown",
   "id": "b394e26c",
   "metadata": {},
   "source": [
    "<div class=\"admonition tip\">\n",
    "    <p class=\"admonition-title\">Set up <a href=\"https://smith.langchain.com\">LangSmith</a> for LangGraph development</p>\n",
    "    <p style=\"padding-top: 5px;\">\n",
    "        Sign up for LangSmith to quickly spot issues and improve the performance of your LangGraph projects. LangSmith lets you use trace data to debug, test, and monitor your LLM apps built with LangGraph — read more about how to get started <a href=\"https://docs.smith.langchain.com\">here</a>. \n",
    "    </p>\n",
    "</div>"
   ]
  },
  {
   "cell_type": "markdown",
   "id": "e26b3204-cca2-414c-800e-7e09032445ae",
   "metadata": {},
   "source": [
    "## Define model and tools for the graph"
   ]
  },
  {
   "cell_type": "code",
   "execution_count": 4,
   "id": "e5213193-5a7d-43e7-aeba-fe732bb1cd7a",
   "metadata": {},
   "outputs": [],
   "source": [
    "from typing import Literal\n",
    "\n",
    "from langchain_core.tools import tool\n",
    "from langchain_openai import ChatOpenAI\n",
    "from langgraph.prebuilt import create_react_agent\n",
    "from langgraph.checkpoint.redis import RedisSaver\n",
    "\n",
    "\n",
    "@tool\n",
    "def get_weather(city: Literal[\"nyc\", \"sf\"]):\n",
    "    \"\"\"Use this to get weather information.\"\"\"\n",
    "    if city == \"nyc\":\n",
    "        return \"It might be cloudy in nyc\"\n",
    "    elif city == \"sf\":\n",
    "        return \"It's always sunny in sf\"\n",
    "    else:\n",
    "        raise AssertionError(\"Unknown city\")\n",
    "\n",
    "\n",
    "tools = [get_weather]\n",
    "model = ChatOpenAI(model_name=\"gpt-4o-mini\", temperature=0)"
   ]
  },
  {
   "cell_type": "markdown",
   "id": "e9342c62-dbb4-40f6-9271-7393f1ca48c4",
   "metadata": {},
   "source": [
    "## Use sync connection\n",
    "\n",
    "This sets up a synchronous connection to the database. \n",
    "\n",
    "Synchronous connections execute operations in a blocking manner, meaning each operation waits for completion before moving to the next one. The `REDIS_URI` is the Redis database connection URI:"
   ]
  },
  {
   "cell_type": "code",
   "execution_count": 5,
   "id": "2b9d13b1-9d72-48a0-b63a-adc062c06c29",
   "metadata": {},
   "outputs": [],
   "source": [
    "REDIS_URI = \"redis://redis:6379\""
   ]
  },
  {
   "cell_type": "markdown",
   "id": "e39fc712-9e1c-4831-9077-dd07b0c13594",
   "metadata": {},
   "source": [
    "### With a connection string\n",
    "\n",
    "This manages create a Redis client internal to the saver: \n"
   ]
  },
  {
   "cell_type": "code",
   "execution_count": 6,
   "id": "bd235fc7-1e5c-4db6-a90b-ea75462ccf7d",
   "metadata": {},
   "outputs": [],
   "source": [
    "with RedisSaver.from_conn_string(REDIS_URI) as checkpointer:\n",
    "    # NOTE: you need to call .setup() the first time you're using your checkpointer\n",
    "    checkpointer.setup()\n",
    "\n",
    "    graph = create_react_agent(model, tools=tools, checkpointer=checkpointer)\n",
    "    config = {\"configurable\": {\"thread_id\": \"1\"}}\n",
    "    res = graph.invoke({\"messages\": [(\"human\", \"what's the weather in sf\")]}, config)\n",
    "    checkpoint = checkpointer.get(config)"
   ]
  },
  {
   "cell_type": "markdown",
   "id": "ebb59926-bf7b-4481-ae72-6a67d3b826bf",
   "metadata": {},
   "source": [
    "#### Examine the response"
   ]
  },
  {
   "cell_type": "code",
   "execution_count": 7,
   "id": "a7e0e7ec-a675-470b-9270-e4bdc59d4a4d",
   "metadata": {},
   "outputs": [
    {
     "data": {
      "text/plain": [
       "{'messages': [HumanMessage(content=\"what's the weather in sf\", additional_kwargs={}, response_metadata={}, id='9dd88740-f964-44ce-a42c-1fe3a518822d'),\n",
       "  AIMessage(content='', additional_kwargs={'tool_calls': [{'id': 'call_zF5Vape4mCfkIzvhE26maM6H', 'function': {'arguments': '{\"city\":\"sf\"}', 'name': 'get_weather'}, 'type': 'function'}], 'refusal': None}, response_metadata={'token_usage': {'completion_tokens': 15, 'prompt_tokens': 57, 'total_tokens': 72, 'completion_tokens_details': {'accepted_prediction_tokens': 0, 'audio_tokens': 0, 'reasoning_tokens': 0, 'rejected_prediction_tokens': 0}, 'prompt_tokens_details': {'audio_tokens': 0, 'cached_tokens': 0}}, 'model_name': 'gpt-4o-mini-2024-07-18', 'system_fingerprint': 'fp_72ed7ab54c', 'finish_reason': 'tool_calls', 'logprobs': None}, id='run-c37be841-bb51-497f-b2bf-2c6f5e69bb10-0', tool_calls=[{'name': 'get_weather', 'args': {'city': 'sf'}, 'id': 'call_zF5Vape4mCfkIzvhE26maM6H', 'type': 'tool_call'}], usage_metadata={'input_tokens': 57, 'output_tokens': 15, 'total_tokens': 72, 'input_token_details': {'audio': 0, 'cache_read': 0}, 'output_token_details': {'audio': 0, 'reasoning': 0}}),\n",
       "  ToolMessage(content=\"It's always sunny in sf\", name='get_weather', id='e2fe1324-04b6-445c-b5e2-e8065b43896f', tool_call_id='call_zF5Vape4mCfkIzvhE26maM6H'),\n",
       "  AIMessage(content='The weather in San Francisco is always sunny!', additional_kwargs={'refusal': None}, response_metadata={'token_usage': {'completion_tokens': 11, 'prompt_tokens': 84, 'total_tokens': 95, 'completion_tokens_details': {'accepted_prediction_tokens': 0, 'audio_tokens': 0, 'reasoning_tokens': 0, 'rejected_prediction_tokens': 0}, 'prompt_tokens_details': {'audio_tokens': 0, 'cached_tokens': 0}}, 'model_name': 'gpt-4o-mini-2024-07-18', 'system_fingerprint': 'fp_72ed7ab54c', 'finish_reason': 'stop', 'logprobs': None}, id='run-e0a342e3-e8f5-4f61-bc36-92ca6ea22cf2-0', usage_metadata={'input_tokens': 84, 'output_tokens': 11, 'total_tokens': 95, 'input_token_details': {'audio': 0, 'cache_read': 0}, 'output_token_details': {'audio': 0, 'reasoning': 0}})]}"
      ]
     },
     "execution_count": 7,
     "metadata": {},
     "output_type": "execute_result"
    }
   ],
   "source": [
    "res"
   ]
  },
  {
   "cell_type": "markdown",
   "id": "bd183588-b0c0-4aa6-a38a-ddd91683f8c3",
   "metadata": {},
   "source": [
    "#### Examine the last checkpoint"
   ]
  },
  {
   "cell_type": "code",
   "execution_count": 8,
   "id": "96efd8b2-97c9-4207-83b2-00131723a75a",
   "metadata": {},
   "outputs": [],
   "source": [
    "checkpoint"
   ]
  },
  {
   "cell_type": "markdown",
   "id": "967c95c7-e392-4819-bd71-f29e91c68df3",
   "metadata": {},
   "source": [
    "### Bring your own client\n",
    "\n",
    "You can pass a Redis client directly to the RedisSaver using the `redis_client` parameter:"
   ]
  },
  {
   "cell_type": "code",
   "execution_count": 9,
   "id": "180d6daf-8fa7-4608-bd2e-bfbf44ed5836",
   "metadata": {},
   "outputs": [],
   "source": [
    "from redis import Redis\n",
    "\n",
    "client = Redis.from_url(REDIS_URI)\n",
    "\n",
    "with RedisSaver.from_conn_string(redis_client=client) as checkpointer:\n",
    "    # NOTE: you need to call .setup() the first time you're using your checkpointer\n",
    "    # checkpointer.setup()\n",
    "    graph = create_react_agent(model, tools=tools, checkpointer=checkpointer)\n",
    "    config = {\"configurable\": {\"thread_id\": \"2\"}}\n",
    "    res = graph.invoke({\"messages\": [(\"human\", \"what's the weather in sf\")]}, config)\n",
    "\n",
    "    checkpoint_tuple = checkpointer.get_tuple(config)"
   ]
  },
  {
   "cell_type": "markdown",
   "id": "aa066eac-7c19-40d7-94af-2e715d00278c",
   "metadata": {},
   "source": [
    "#### Retrieve a tuple containing a checkpoint and its associated data"
   ]
  },
  {
   "cell_type": "code",
   "execution_count": 10,
   "id": "613d0bbc-0e38-45c4-aace-1f6f7ae27c7b",
   "metadata": {},
   "outputs": [],
   "source": [
    "checkpoint_tuple"
   ]
  },
  {
   "cell_type": "markdown",
   "id": "6e6e1619-ab3e-4d08-918b-c25cfe9518dd",
   "metadata": {},
   "source": [
    "#### Retrieve all the checkpoint tuples"
   ]
  },
  {
   "cell_type": "code",
   "execution_count": 11,
   "id": "b2ce743b-5896-443b-9ec0-a655b065895c",
   "metadata": {},
   "outputs": [
    {
     "data": {
      "text/plain": [
       "[CheckpointTuple(config={'configurable': {'thread_id': '2', 'checkpoint_ns': '', 'checkpoint_id': '1efe4d9d-2355-618c-bfff-890a4384da60'}}, checkpoint={'type': 'json', 'v': 1, 'ts': '2025-02-06T22:29:25.752044+00:00', 'id': '1efe4d9d-2355-618c-bfff-890a4384da60', 'channel_values': {'__start__': {'messages': [['human', \"what's the weather in sf\"]]}}, 'channel_versions': {'__start__': '00000000000000000000000000000001.0.8699756920863937'}, 'versions_seen': {'__input__': {}}, 'pending_sends': []}, metadata={'source': 'input', 'writes': {'__start__': {'messages': [['human', \"what's the weather in sf\"]]}}, 'thread_id': '2', 'step': -1, 'parents': {}}, parent_config=None, pending_writes=[('72f5084f-8889-55ee-0461-248207a14686', 'messages', [['human', \"what's the weather in sf\"]]), ('72f5084f-8889-55ee-0461-248207a14686', 'start:agent', '__start__')]),\n",
       " CheckpointTuple(config={'configurable': {'thread_id': '2', 'checkpoint_ns': '', 'checkpoint_id': '1efe4d9d-2358-666d-8000-16712d7311c5'}}, checkpoint={'type': 'json', 'v': 1, 'ts': '2025-02-06T22:29:25.753395+00:00', 'id': '1efe4d9d-2358-666d-8000-16712d7311c5', 'channel_values': {'messages': [HumanMessage(content=\"what's the weather in sf\", additional_kwargs={}, response_metadata={}, id='d46ba81f-45d9-407a-93ff-3ee8f830a1fc')], 'start:agent': '__start__'}, 'channel_versions': {'__start__': '00000000000000000000000000000002.0.6230650089556942', 'messages': '00000000000000000000000000000002.0.34126320575230196', 'start:agent': '00000000000000000000000000000002.0.7900681980782398'}, 'versions_seen': {'__input__': {}, '__start__': {'__start__': '00000000000000000000000000000001.0.8699756920863937'}}, 'pending_sends': []}, metadata={'source': 'loop', 'writes': None, 'thread_id': '2', 'step': 0, 'parents': {}}, parent_config=None, pending_writes=[('41142cee-c7b4-d363-7b8a-e8098b1e972a', 'messages', [AIMessage(content='', additional_kwargs={'tool_calls': [{'id': 'call_LERzljH0jlW5LDxlfNZRlyi5', 'function': {'arguments': '{\"city\":\"sf\"}', 'name': 'get_weather'}, 'type': 'function'}], 'refusal': None}, response_metadata={'token_usage': {'completion_tokens': 15, 'prompt_tokens': 57, 'total_tokens': 72, 'completion_tokens_details': {'accepted_prediction_tokens': 0, 'audio_tokens': 0, 'reasoning_tokens': 0, 'rejected_prediction_tokens': 0}, 'prompt_tokens_details': {'audio_tokens': 0, 'cached_tokens': 0}}, 'model_name': 'gpt-4o-mini-2024-07-18', 'system_fingerprint': 'fp_bd83329f63', 'finish_reason': 'tool_calls', 'logprobs': None}, id='run-04e83170-5884-4032-8120-122ac8597c43-0', tool_calls=[{'name': 'get_weather', 'args': {'city': 'sf'}, 'id': 'call_LERzljH0jlW5LDxlfNZRlyi5', 'type': 'tool_call'}], usage_metadata={'input_tokens': 57, 'output_tokens': 15, 'total_tokens': 72, 'input_token_details': {'audio': 0, 'cache_read': 0}, 'output_token_details': {'audio': 0, 'reasoning': 0}})]), ('41142cee-c7b4-d363-7b8a-e8098b1e972a', 'agent', 'agent'), ('41142cee-c7b4-d363-7b8a-e8098b1e972a', 'branch:agent:should_continue:tools', 'agent')]),\n",
       " CheckpointTuple(config={'configurable': {'thread_id': '2', 'checkpoint_ns': '', 'checkpoint_id': '1efe4d9d-2a87-6823-8001-dffe02b92767'}}, checkpoint={'type': 'json', 'v': 1, 'ts': '2025-02-06T22:29:26.506671+00:00', 'id': '1efe4d9d-2a87-6823-8001-dffe02b92767', 'channel_values': {'messages': [HumanMessage(content=\"what's the weather in sf\", additional_kwargs={}, response_metadata={}, id='d46ba81f-45d9-407a-93ff-3ee8f830a1fc'), AIMessage(content='', additional_kwargs={'tool_calls': [{'id': 'call_LERzljH0jlW5LDxlfNZRlyi5', 'function': {'arguments': '{\"city\":\"sf\"}', 'name': 'get_weather'}, 'type': 'function'}], 'refusal': None}, response_metadata={'token_usage': {'completion_tokens': 15, 'prompt_tokens': 57, 'total_tokens': 72, 'completion_tokens_details': {'accepted_prediction_tokens': 0, 'audio_tokens': 0, 'reasoning_tokens': 0, 'rejected_prediction_tokens': 0}, 'prompt_tokens_details': {'audio_tokens': 0, 'cached_tokens': 0}}, 'model_name': 'gpt-4o-mini-2024-07-18', 'system_fingerprint': 'fp_bd83329f63', 'finish_reason': 'tool_calls', 'logprobs': None}, id='run-04e83170-5884-4032-8120-122ac8597c43-0', tool_calls=[{'name': 'get_weather', 'args': {'city': 'sf'}, 'id': 'call_LERzljH0jlW5LDxlfNZRlyi5', 'type': 'tool_call'}], usage_metadata={'input_tokens': 57, 'output_tokens': 15, 'total_tokens': 72, 'input_token_details': {'audio': 0, 'cache_read': 0}, 'output_token_details': {'audio': 0, 'reasoning': 0}})], 'agent': 'agent', 'branch:agent:should_continue:tools': 'agent'}, 'channel_versions': {'__start__': '00000000000000000000000000000002.0.6230650089556942', 'messages': '00000000000000000000000000000003.0.36280482926876056', 'start:agent': '00000000000000000000000000000003.0.17279995818914917', 'agent': '00000000000000000000000000000003.0.0776862858779197', 'branch:agent:should_continue:tools': '00000000000000000000000000000003.0.9492534277475211'}, 'versions_seen': {'__input__': {}, '__start__': {'__start__': '00000000000000000000000000000001.0.8699756920863937'}, 'agent': {'start:agent': '00000000000000000000000000000002.0.7900681980782398'}}, 'pending_sends': []}, metadata={'source': 'loop', 'writes': {'agent': {'messages': [{'lc': 1, 'type': 'constructor', 'id': ['langchain', 'schema', 'messages', 'AIMessage'], 'kwargs': {'content': '', 'additional_kwargs': {'tool_calls': [{'id': 'call_LERzljH0jlW5LDxlfNZRlyi5', 'function': {'arguments': '{\"city\":\"sf\"}', 'name': 'get_weather'}, 'type': 'function'}], 'refusal': None}, 'response_metadata': {'token_usage': {'completion_tokens': 15, 'prompt_tokens': 57, 'total_tokens': 72, 'completion_tokens_details': {'accepted_prediction_tokens': 0, 'audio_tokens': 0, 'reasoning_tokens': 0, 'rejected_prediction_tokens': 0}, 'prompt_tokens_details': {'audio_tokens': 0, 'cached_tokens': 0}}, 'model_name': 'gpt-4o-mini-2024-07-18', 'system_fingerprint': 'fp_bd83329f63', 'finish_reason': 'tool_calls', 'logprobs': None}, 'type': 'ai', 'id': 'run-04e83170-5884-4032-8120-122ac8597c43-0', 'tool_calls': [{'name': 'get_weather', 'args': {'city': 'sf'}, 'id': 'call_LERzljH0jlW5LDxlfNZRlyi5', 'type': 'tool_call'}], 'usage_metadata': {'input_tokens': 57, 'output_tokens': 15, 'total_tokens': 72, 'input_token_details': {'audio': 0, 'cache_read': 0}, 'output_token_details': {'audio': 0, 'reasoning': 0}}, 'invalid_tool_calls': []}}]}}, 'thread_id': '2', 'step': 1, 'parents': {}}, parent_config=None, pending_writes=[('5d5c810c-e9b2-0a45-f41a-fe346c69326c', 'messages', [ToolMessage(content=\"It's always sunny in sf\", name='get_weather', id='c5c1a501-ba2b-49f3-b801-2310c35b568e', tool_call_id='call_LERzljH0jlW5LDxlfNZRlyi5')]), ('5d5c810c-e9b2-0a45-f41a-fe346c69326c', 'tools', 'tools')]),\n",
       " CheckpointTuple(config={'configurable': {'thread_id': '2', 'checkpoint_ns': '', 'checkpoint_id': '1efe4d9d-2a93-6fa8-8002-8bde4a0dc85d'}}, checkpoint={'type': 'json', 'v': 1, 'ts': '2025-02-06T22:29:26.511781+00:00', 'id': '1efe4d9d-2a93-6fa8-8002-8bde4a0dc85d', 'channel_values': {'messages': [HumanMessage(content=\"what's the weather in sf\", additional_kwargs={}, response_metadata={}, id='d46ba81f-45d9-407a-93ff-3ee8f830a1fc'), AIMessage(content='', additional_kwargs={'tool_calls': [{'id': 'call_LERzljH0jlW5LDxlfNZRlyi5', 'function': {'arguments': '{\"city\":\"sf\"}', 'name': 'get_weather'}, 'type': 'function'}], 'refusal': None}, response_metadata={'token_usage': {'completion_tokens': 15, 'prompt_tokens': 57, 'total_tokens': 72, 'completion_tokens_details': {'accepted_prediction_tokens': 0, 'audio_tokens': 0, 'reasoning_tokens': 0, 'rejected_prediction_tokens': 0}, 'prompt_tokens_details': {'audio_tokens': 0, 'cached_tokens': 0}}, 'model_name': 'gpt-4o-mini-2024-07-18', 'system_fingerprint': 'fp_bd83329f63', 'finish_reason': 'tool_calls', 'logprobs': None}, id='run-04e83170-5884-4032-8120-122ac8597c43-0', tool_calls=[{'name': 'get_weather', 'args': {'city': 'sf'}, 'id': 'call_LERzljH0jlW5LDxlfNZRlyi5', 'type': 'tool_call'}], usage_metadata={'input_tokens': 57, 'output_tokens': 15, 'total_tokens': 72, 'input_token_details': {'audio': 0, 'cache_read': 0}, 'output_token_details': {'audio': 0, 'reasoning': 0}}), ToolMessage(content=\"It's always sunny in sf\", name='get_weather', id='c5c1a501-ba2b-49f3-b801-2310c35b568e', tool_call_id='call_LERzljH0jlW5LDxlfNZRlyi5')], 'tools': 'tools'}, 'channel_versions': {'__start__': '00000000000000000000000000000002.0.6230650089556942', 'messages': '00000000000000000000000000000004.0.278390079000582', 'start:agent': '00000000000000000000000000000003.0.17279995818914917', 'agent': '00000000000000000000000000000004.0.4200595272263641', 'branch:agent:should_continue:tools': '00000000000000000000000000000004.0.13362364513036484', 'tools': '00000000000000000000000000000004.0.5902608274110829'}, 'versions_seen': {'__input__': {}, '__start__': {'__start__': '00000000000000000000000000000001.0.8699756920863937'}, 'agent': {'start:agent': '00000000000000000000000000000002.0.7900681980782398'}, 'tools': {'branch:agent:should_continue:tools': '00000000000000000000000000000003.0.9492534277475211'}}, 'pending_sends': []}, metadata={'source': 'loop', 'writes': {'tools': {'messages': [{'lc': 1, 'type': 'constructor', 'id': ['langchain', 'schema', 'messages', 'ToolMessage'], 'kwargs': {'content': \"It's always sunny in sf\", 'type': 'tool', 'name': 'get_weather', 'id': 'c5c1a501-ba2b-49f3-b801-2310c35b568e', 'tool_call_id': 'call_LERzljH0jlW5LDxlfNZRlyi5', 'status': 'success'}}]}}, 'thread_id': '2', 'step': 2, 'parents': {}}, parent_config=None, pending_writes=[('c64c7afe-6313-ff83-6c00-726309d72083', 'messages', [AIMessage(content='The weather in San Francisco is always sunny!', additional_kwargs={'refusal': None}, response_metadata={'token_usage': {'completion_tokens': 11, 'prompt_tokens': 84, 'total_tokens': 95, 'completion_tokens_details': {'accepted_prediction_tokens': 0, 'audio_tokens': 0, 'reasoning_tokens': 0, 'rejected_prediction_tokens': 0}, 'prompt_tokens_details': {'audio_tokens': 0, 'cached_tokens': 0}}, 'model_name': 'gpt-4o-mini-2024-07-18', 'system_fingerprint': 'fp_72ed7ab54c', 'finish_reason': 'stop', 'logprobs': None}, id='run-519f4b4b-57e7-42e4-a547-a39aaca78f53-0', usage_metadata={'input_tokens': 84, 'output_tokens': 11, 'total_tokens': 95, 'input_token_details': {'audio': 0, 'cache_read': 0}, 'output_token_details': {'audio': 0, 'reasoning': 0}})]), ('c64c7afe-6313-ff83-6c00-726309d72083', 'agent', 'agent')]),\n",
       " CheckpointTuple(config={'configurable': {'thread_id': '2', 'checkpoint_ns': '', 'checkpoint_id': '1efe4d9d-32bf-6211-8003-0dc8dd051cf0'}}, checkpoint={'type': 'json', 'v': 1, 'ts': '2025-02-06T22:29:27.368306+00:00', 'id': '1efe4d9d-32bf-6211-8003-0dc8dd051cf0', 'channel_values': {'messages': [HumanMessage(content=\"what's the weather in sf\", additional_kwargs={}, response_metadata={}, id='d46ba81f-45d9-407a-93ff-3ee8f830a1fc'), AIMessage(content='', additional_kwargs={'tool_calls': [{'id': 'call_LERzljH0jlW5LDxlfNZRlyi5', 'function': {'arguments': '{\"city\":\"sf\"}', 'name': 'get_weather'}, 'type': 'function'}], 'refusal': None}, response_metadata={'token_usage': {'completion_tokens': 15, 'prompt_tokens': 57, 'total_tokens': 72, 'completion_tokens_details': {'accepted_prediction_tokens': 0, 'audio_tokens': 0, 'reasoning_tokens': 0, 'rejected_prediction_tokens': 0}, 'prompt_tokens_details': {'audio_tokens': 0, 'cached_tokens': 0}}, 'model_name': 'gpt-4o-mini-2024-07-18', 'system_fingerprint': 'fp_bd83329f63', 'finish_reason': 'tool_calls', 'logprobs': None}, id='run-04e83170-5884-4032-8120-122ac8597c43-0', tool_calls=[{'name': 'get_weather', 'args': {'city': 'sf'}, 'id': 'call_LERzljH0jlW5LDxlfNZRlyi5', 'type': 'tool_call'}], usage_metadata={'input_tokens': 57, 'output_tokens': 15, 'total_tokens': 72, 'input_token_details': {'audio': 0, 'cache_read': 0}, 'output_token_details': {'audio': 0, 'reasoning': 0}}), ToolMessage(content=\"It's always sunny in sf\", name='get_weather', id='c5c1a501-ba2b-49f3-b801-2310c35b568e', tool_call_id='call_LERzljH0jlW5LDxlfNZRlyi5'), AIMessage(content='The weather in San Francisco is always sunny!', additional_kwargs={'refusal': None}, response_metadata={'token_usage': {'completion_tokens': 11, 'prompt_tokens': 84, 'total_tokens': 95, 'completion_tokens_details': {'accepted_prediction_tokens': 0, 'audio_tokens': 0, 'reasoning_tokens': 0, 'rejected_prediction_tokens': 0}, 'prompt_tokens_details': {'audio_tokens': 0, 'cached_tokens': 0}}, 'model_name': 'gpt-4o-mini-2024-07-18', 'system_fingerprint': 'fp_72ed7ab54c', 'finish_reason': 'stop', 'logprobs': None}, id='run-519f4b4b-57e7-42e4-a547-a39aaca78f53-0', usage_metadata={'input_tokens': 84, 'output_tokens': 11, 'total_tokens': 95, 'input_token_details': {'audio': 0, 'cache_read': 0}, 'output_token_details': {'audio': 0, 'reasoning': 0}})], 'agent': 'agent'}, 'channel_versions': {'__start__': '00000000000000000000000000000002.0.6230650089556942', 'messages': '00000000000000000000000000000005.0.44349618328487184', 'start:agent': '00000000000000000000000000000003.0.17279995818914917', 'agent': '00000000000000000000000000000005.0.40977766417907246', 'branch:agent:should_continue:tools': '00000000000000000000000000000004.0.13362364513036484', 'tools': '00000000000000000000000000000005.0.925545529266102'}, 'versions_seen': {'__input__': {}, '__start__': {'__start__': '00000000000000000000000000000001.0.8699756920863937'}, 'agent': {'start:agent': '00000000000000000000000000000002.0.7900681980782398', 'tools': '00000000000000000000000000000004.0.5902608274110829'}, 'tools': {'branch:agent:should_continue:tools': '00000000000000000000000000000003.0.9492534277475211'}}, 'pending_sends': []}, metadata={'source': 'loop', 'writes': {'agent': {'messages': [{'lc': 1, 'type': 'constructor', 'id': ['langchain', 'schema', 'messages', 'AIMessage'], 'kwargs': {'content': 'The weather in San Francisco is always sunny!', 'additional_kwargs': {'refusal': None}, 'response_metadata': {'token_usage': {'completion_tokens': 11, 'prompt_tokens': 84, 'total_tokens': 95, 'completion_tokens_details': {'accepted_prediction_tokens': 0, 'audio_tokens': 0, 'reasoning_tokens': 0, 'rejected_prediction_tokens': 0}, 'prompt_tokens_details': {'audio_tokens': 0, 'cached_tokens': 0}}, 'model_name': 'gpt-4o-mini-2024-07-18', 'system_fingerprint': 'fp_72ed7ab54c', 'finish_reason': 'stop', 'logprobs': None}, 'type': 'ai', 'id': 'run-519f4b4b-57e7-42e4-a547-a39aaca78f53-0', 'usage_metadata': {'input_tokens': 84, 'output_tokens': 11, 'total_tokens': 95, 'input_token_details': {'audio': 0, 'cache_read': 0}, 'output_token_details': {'audio': 0, 'reasoning': 0}}, 'tool_calls': [], 'invalid_tool_calls': []}}]}}, 'thread_id': '2', 'step': 3, 'parents': {}}, parent_config=None, pending_writes=[])]"
      ]
     },
     "execution_count": 11,
     "metadata": {},
     "output_type": "execute_result"
    }
   ],
   "source": [
    "checkpoint_tuples = list(checkpointer.list(config))\n",
    "checkpoint_tuples"
   ]
  },
  {
   "cell_type": "markdown",
   "id": "c0a47d3e-e588-48fc-a5d4-2145dff17e77",
   "metadata": {},
   "source": [
    "## Use async connection\n",
    "\n",
    "This sets up an asynchronous connection to the database. \n",
    "\n",
    "Async connections allow non-blocking database operations. This means other parts of your application can continue running while waiting for database operations to complete. It's particularly useful in high-concurrency scenarios or when dealing with I/O-bound operations."
   ]
  },
  {
   "cell_type": "code",
   "execution_count": 12,
   "id": "4faf6087-73cc-4957-9a4f-f3509a32a740",
   "metadata": {},
   "outputs": [
    {
     "name": "stdout",
     "output_type": "stream",
     "text": [
      "22:29:27 redisvl.index.index INFO   Index already exists, not overwriting.\n",
      "22:29:27 redisvl.index.index INFO   Index already exists, not overwriting.\n",
      "22:29:27 redisvl.index.index INFO   Index already exists, not overwriting.\n"
     ]
    }
   ],
   "source": [
    "from langgraph.checkpoint.redis.aio import AsyncRedisSaver\n",
    "\n",
    "async with AsyncRedisSaver.from_conn_string(REDIS_URI) as checkpointer:\n",
    "    # NOTE: you need to call .setup() the first time you're using your checkpointer\n",
    "    await checkpointer.asetup()\n",
    "\n",
    "    graph = create_react_agent(model, tools=tools, checkpointer=checkpointer)\n",
    "    config = {\"configurable\": {\"thread_id\": \"4\"}}\n",
    "    res = await graph.ainvoke(\n",
    "        {\"messages\": [(\"human\", \"what's the weather in nyc\")]}, config\n",
    "    )\n",
    "\n",
    "    checkpoint = await checkpointer.aget(config)\n",
    "    checkpoint_tuple = await checkpointer.aget_tuple(config)\n",
    "    checkpoint_tuples = [c async for c in checkpointer.alist(config)]"
   ]
  },
  {
   "cell_type": "code",
   "execution_count": 13,
   "id": "e0c42044-4de6-4742-8e00-fe295d50c95a",
   "metadata": {},
   "outputs": [
    {
     "data": {
      "text/plain": [
       "{'type': 'json',\n",
       " 'v': 1,\n",
       " 'ts': '2025-02-06T22:29:28.536731+00:00',\n",
       " 'id': '1efe4d9d-3de3-6b2d-8003-d65f369ea5d2',\n",
       " 'channel_values': {'messages': [HumanMessage(content=\"what's the weather in nyc\", additional_kwargs={}, response_metadata={}, id='973d79dc-7317-42c1-bf58-8334c3aaf8a5'),\n",
       "   AIMessage(content='', additional_kwargs={'tool_calls': [{'id': 'call_D1mD8lkXMIGDiy0MQAD5sxIX', 'function': {'arguments': '{\"city\":\"nyc\"}', 'name': 'get_weather'}, 'type': 'function'}], 'refusal': None}, response_metadata={'token_usage': {'completion_tokens': 16, 'prompt_tokens': 58, 'total_tokens': 74, 'completion_tokens_details': {'accepted_prediction_tokens': 0, 'audio_tokens': 0, 'reasoning_tokens': 0, 'rejected_prediction_tokens': 0}, 'prompt_tokens_details': {'audio_tokens': 0, 'cached_tokens': 0}}, 'model_name': 'gpt-4o-mini-2024-07-18', 'system_fingerprint': 'fp_72ed7ab54c', 'finish_reason': 'tool_calls', 'logprobs': None}, id='run-93c27419-bad8-49cc-bdce-ef8442cbd72e-0', tool_calls=[{'name': 'get_weather', 'args': {'city': 'nyc'}, 'id': 'call_D1mD8lkXMIGDiy0MQAD5sxIX', 'type': 'tool_call'}], usage_metadata={'input_tokens': 58, 'output_tokens': 16, 'total_tokens': 74, 'input_token_details': {'audio': 0, 'cache_read': 0}, 'output_token_details': {'audio': 0, 'reasoning': 0}}),\n",
       "   ToolMessage(content='It might be cloudy in nyc', name='get_weather', id='9c79a83e-bbb7-4a40-8ec2-c4a3e97d2bd5', tool_call_id='call_D1mD8lkXMIGDiy0MQAD5sxIX'),\n",
       "   AIMessage(content='The weather in NYC might be cloudy.', additional_kwargs={'refusal': None}, response_metadata={'token_usage': {'completion_tokens': 10, 'prompt_tokens': 88, 'total_tokens': 98, 'completion_tokens_details': {'accepted_prediction_tokens': 0, 'audio_tokens': 0, 'reasoning_tokens': 0, 'rejected_prediction_tokens': 0}, 'prompt_tokens_details': {'audio_tokens': 0, 'cached_tokens': 0}}, 'model_name': 'gpt-4o-mini-2024-07-18', 'system_fingerprint': 'fp_72ed7ab54c', 'finish_reason': 'stop', 'logprobs': None}, id='run-5976ec44-4507-4b9e-9d91-985249465669-0', usage_metadata={'input_tokens': 88, 'output_tokens': 10, 'total_tokens': 98, 'input_token_details': {'audio': 0, 'cache_read': 0}, 'output_token_details': {'audio': 0, 'reasoning': 0}})],\n",
       "  'agent': 'agent'},\n",
       " 'channel_versions': {'__start__': '00000000000000000000000000000002.0.6080359436424668',\n",
       "  'messages': '00000000000000000000000000000005.0.0414236748232204',\n",
       "  'start:agent': '00000000000000000000000000000003.0.5560335482828312',\n",
       "  'agent': '00000000000000000000000000000005.0.38859013600061787',\n",
       "  'branch:agent:should_continue:tools': '00000000000000000000000000000004.0.8896201020861668',\n",
       "  'tools': '00000000000000000000000000000005.0.49822831701234793'},\n",
       " 'versions_seen': {'__input__': {},\n",
       "  '__start__': {'__start__': '00000000000000000000000000000001.0.8415032714074774'},\n",
       "  'agent': {'start:agent': '00000000000000000000000000000002.0.523640257950563',\n",
       "   'tools': '00000000000000000000000000000004.0.19215578470836003'},\n",
       "  'tools': {'branch:agent:should_continue:tools': '00000000000000000000000000000003.0.5594797434351543'}},\n",
       " 'pending_sends': []}"
      ]
     },
     "execution_count": 13,
     "metadata": {},
     "output_type": "execute_result"
    }
   ],
   "source": [
    "checkpoint"
   ]
  },
  {
   "cell_type": "code",
   "execution_count": 14,
   "id": "d1ed1344-c923-4a46-b04e-cc3646737d48",
   "metadata": {},
   "outputs": [
    {
     "data": {
      "text/plain": [
       "CheckpointTuple(config={'configurable': {'thread_id': '4', 'checkpoint_ns': '', 'checkpoint_id': '1efe4d9d-3de3-6b2d-8003-d65f369ea5d2'}}, checkpoint={'type': 'json', 'v': 1, 'ts': '2025-02-06T22:29:28.536731+00:00', 'id': '1efe4d9d-3de3-6b2d-8003-d65f369ea5d2', 'channel_values': {'messages': [HumanMessage(content=\"what's the weather in nyc\", additional_kwargs={}, response_metadata={}, id='973d79dc-7317-42c1-bf58-8334c3aaf8a5'), AIMessage(content='', additional_kwargs={'tool_calls': [{'id': 'call_D1mD8lkXMIGDiy0MQAD5sxIX', 'function': {'arguments': '{\"city\":\"nyc\"}', 'name': 'get_weather'}, 'type': 'function'}], 'refusal': None}, response_metadata={'token_usage': {'completion_tokens': 16, 'prompt_tokens': 58, 'total_tokens': 74, 'completion_tokens_details': {'accepted_prediction_tokens': 0, 'audio_tokens': 0, 'reasoning_tokens': 0, 'rejected_prediction_tokens': 0}, 'prompt_tokens_details': {'audio_tokens': 0, 'cached_tokens': 0}}, 'model_name': 'gpt-4o-mini-2024-07-18', 'system_fingerprint': 'fp_72ed7ab54c', 'finish_reason': 'tool_calls', 'logprobs': None}, id='run-93c27419-bad8-49cc-bdce-ef8442cbd72e-0', tool_calls=[{'name': 'get_weather', 'args': {'city': 'nyc'}, 'id': 'call_D1mD8lkXMIGDiy0MQAD5sxIX', 'type': 'tool_call'}], usage_metadata={'input_tokens': 58, 'output_tokens': 16, 'total_tokens': 74, 'input_token_details': {'audio': 0, 'cache_read': 0}, 'output_token_details': {'audio': 0, 'reasoning': 0}}), ToolMessage(content='It might be cloudy in nyc', name='get_weather', id='9c79a83e-bbb7-4a40-8ec2-c4a3e97d2bd5', tool_call_id='call_D1mD8lkXMIGDiy0MQAD5sxIX'), AIMessage(content='The weather in NYC might be cloudy.', additional_kwargs={'refusal': None}, response_metadata={'token_usage': {'completion_tokens': 10, 'prompt_tokens': 88, 'total_tokens': 98, 'completion_tokens_details': {'accepted_prediction_tokens': 0, 'audio_tokens': 0, 'reasoning_tokens': 0, 'rejected_prediction_tokens': 0}, 'prompt_tokens_details': {'audio_tokens': 0, 'cached_tokens': 0}}, 'model_name': 'gpt-4o-mini-2024-07-18', 'system_fingerprint': 'fp_72ed7ab54c', 'finish_reason': 'stop', 'logprobs': None}, id='run-5976ec44-4507-4b9e-9d91-985249465669-0', usage_metadata={'input_tokens': 88, 'output_tokens': 10, 'total_tokens': 98, 'input_token_details': {'audio': 0, 'cache_read': 0}, 'output_token_details': {'audio': 0, 'reasoning': 0}})], 'agent': 'agent'}, 'channel_versions': {'__start__': '00000000000000000000000000000002.0.6080359436424668', 'messages': '00000000000000000000000000000005.0.0414236748232204', 'start:agent': '00000000000000000000000000000003.0.5560335482828312', 'agent': '00000000000000000000000000000005.0.38859013600061787', 'branch:agent:should_continue:tools': '00000000000000000000000000000004.0.8896201020861668', 'tools': '00000000000000000000000000000005.0.49822831701234793'}, 'versions_seen': {'__input__': {}, '__start__': {'__start__': '00000000000000000000000000000001.0.8415032714074774'}, 'agent': {'start:agent': '00000000000000000000000000000002.0.523640257950563', 'tools': '00000000000000000000000000000004.0.19215578470836003'}, 'tools': {'branch:agent:should_continue:tools': '00000000000000000000000000000003.0.5594797434351543'}}, 'pending_sends': []}, metadata={'source': 'loop', 'writes': {'agent': {'messages': [{'lc': 1, 'type': 'constructor', 'id': ['langchain', 'schema', 'messages', 'AIMessage'], 'kwargs': {'content': 'The weather in NYC might be cloudy.', 'additional_kwargs': {'refusal': None}, 'response_metadata': {'token_usage': {'completion_tokens': 10, 'prompt_tokens': 88, 'total_tokens': 98, 'completion_tokens_details': {'accepted_prediction_tokens': 0, 'audio_tokens': 0, 'reasoning_tokens': 0, 'rejected_prediction_tokens': 0}, 'prompt_tokens_details': {'audio_tokens': 0, 'cached_tokens': 0}}, 'model_name': 'gpt-4o-mini-2024-07-18', 'system_fingerprint': 'fp_72ed7ab54c', 'finish_reason': 'stop', 'logprobs': None}, 'type': 'ai', 'id': 'run-5976ec44-4507-4b9e-9d91-985249465669-0', 'usage_metadata': {'input_tokens': 88, 'output_tokens': 10, 'total_tokens': 98, 'input_token_details': {'audio': 0, 'cache_read': 0}, 'output_token_details': {'audio': 0, 'reasoning': 0}}, 'tool_calls': [], 'invalid_tool_calls': []}}]}}, 'thread_id': '4', 'step': 3, 'parents': {}}, parent_config=None, pending_writes=[])"
      ]
     },
     "execution_count": 14,
     "metadata": {},
     "output_type": "execute_result"
    }
   ],
   "source": [
    "checkpoint_tuple"
   ]
  },
  {
   "cell_type": "code",
   "execution_count": 15,
   "id": "2b6d73ca-519e-45f7-90c2-1b8596624505",
   "metadata": {},
   "outputs": [
    {
     "data": {
      "text/plain": [
       "[CheckpointTuple(config={'configurable': {'thread_id': '4', 'checkpoint_ns': '', 'checkpoint_id': '1efe4d9d-3332-6824-bfff-fa0fc6d0e969'}}, checkpoint={'type': 'json', 'v': 1, 'ts': '2025-02-06T22:29:27.415601+00:00', 'id': '1efe4d9d-3332-6824-bfff-fa0fc6d0e969', 'channel_values': {'__start__': {'messages': [['human', \"what's the weather in nyc\"]]}}, 'channel_versions': {'__start__': '00000000000000000000000000000001.0.8415032714074774'}, 'versions_seen': {'__input__': {}}, 'pending_sends': []}, metadata={'source': 'input', 'writes': {'__start__': {'messages': [['human', \"what's the weather in nyc\"]]}}, 'thread_id': '4', 'step': -1, 'parents': {}}, parent_config=None, pending_writes=[('baebd150-c889-7137-deca-382710680841', 'messages', [['human', \"what's the weather in nyc\"]]), ('baebd150-c889-7137-deca-382710680841', 'start:agent', '__start__')]),\n",
       " CheckpointTuple(config={'configurable': {'thread_id': '4', 'checkpoint_ns': '', 'checkpoint_id': '1efe4d9d-3334-6e5f-8000-11b02695c906'}}, checkpoint={'type': 'json', 'v': 1, 'ts': '2025-02-06T22:29:27.416577+00:00', 'id': '1efe4d9d-3334-6e5f-8000-11b02695c906', 'channel_values': {'messages': [HumanMessage(content=\"what's the weather in nyc\", additional_kwargs={}, response_metadata={}, id='973d79dc-7317-42c1-bf58-8334c3aaf8a5')], 'start:agent': '__start__'}, 'channel_versions': {'__start__': '00000000000000000000000000000002.0.6080359436424668', 'messages': '00000000000000000000000000000002.0.6668016663099026', 'start:agent': '00000000000000000000000000000002.0.523640257950563'}, 'versions_seen': {'__input__': {}, '__start__': {'__start__': '00000000000000000000000000000001.0.8415032714074774'}}, 'pending_sends': []}, metadata={'source': 'loop', 'writes': None, 'thread_id': '4', 'step': 0, 'parents': {}}, parent_config=None, pending_writes=[('4b0237c2-5822-a4ff-2fb8-c2b12190b329', 'messages', [AIMessage(content='', additional_kwargs={'tool_calls': [{'id': 'call_D1mD8lkXMIGDiy0MQAD5sxIX', 'function': {'arguments': '{\"city\":\"nyc\"}', 'name': 'get_weather'}, 'type': 'function'}], 'refusal': None}, response_metadata={'token_usage': {'completion_tokens': 16, 'prompt_tokens': 58, 'total_tokens': 74, 'completion_tokens_details': {'accepted_prediction_tokens': 0, 'audio_tokens': 0, 'reasoning_tokens': 0, 'rejected_prediction_tokens': 0}, 'prompt_tokens_details': {'audio_tokens': 0, 'cached_tokens': 0}}, 'model_name': 'gpt-4o-mini-2024-07-18', 'system_fingerprint': 'fp_72ed7ab54c', 'finish_reason': 'tool_calls', 'logprobs': None}, id='run-93c27419-bad8-49cc-bdce-ef8442cbd72e-0', tool_calls=[{'name': 'get_weather', 'args': {'city': 'nyc'}, 'id': 'call_D1mD8lkXMIGDiy0MQAD5sxIX', 'type': 'tool_call'}], usage_metadata={'input_tokens': 58, 'output_tokens': 16, 'total_tokens': 74, 'input_token_details': {'audio': 0, 'cache_read': 0}, 'output_token_details': {'audio': 0, 'reasoning': 0}})]), ('4b0237c2-5822-a4ff-2fb8-c2b12190b329', 'agent', 'agent'), ('4b0237c2-5822-a4ff-2fb8-c2b12190b329', 'branch:agent:should_continue:tools', 'agent')]),\n",
       " CheckpointTuple(config={'configurable': {'thread_id': '4', 'checkpoint_ns': '', 'checkpoint_id': '1efe4d9d-3932-6f23-8001-817ed1637728'}}, checkpoint={'type': 'json', 'v': 1, 'ts': '2025-02-06T22:29:28.044905+00:00', 'id': '1efe4d9d-3932-6f23-8001-817ed1637728', 'channel_values': {'messages': [HumanMessage(content=\"what's the weather in nyc\", additional_kwargs={}, response_metadata={}, id='973d79dc-7317-42c1-bf58-8334c3aaf8a5'), AIMessage(content='', additional_kwargs={'tool_calls': [{'id': 'call_D1mD8lkXMIGDiy0MQAD5sxIX', 'function': {'arguments': '{\"city\":\"nyc\"}', 'name': 'get_weather'}, 'type': 'function'}], 'refusal': None}, response_metadata={'token_usage': {'completion_tokens': 16, 'prompt_tokens': 58, 'total_tokens': 74, 'completion_tokens_details': {'accepted_prediction_tokens': 0, 'audio_tokens': 0, 'reasoning_tokens': 0, 'rejected_prediction_tokens': 0}, 'prompt_tokens_details': {'audio_tokens': 0, 'cached_tokens': 0}}, 'model_name': 'gpt-4o-mini-2024-07-18', 'system_fingerprint': 'fp_72ed7ab54c', 'finish_reason': 'tool_calls', 'logprobs': None}, id='run-93c27419-bad8-49cc-bdce-ef8442cbd72e-0', tool_calls=[{'name': 'get_weather', 'args': {'city': 'nyc'}, 'id': 'call_D1mD8lkXMIGDiy0MQAD5sxIX', 'type': 'tool_call'}], usage_metadata={'input_tokens': 58, 'output_tokens': 16, 'total_tokens': 74, 'input_token_details': {'audio': 0, 'cache_read': 0}, 'output_token_details': {'audio': 0, 'reasoning': 0}})], 'agent': 'agent', 'branch:agent:should_continue:tools': 'agent'}, 'channel_versions': {'__start__': '00000000000000000000000000000002.0.6080359436424668', 'messages': '00000000000000000000000000000003.0.03456479450370886', 'start:agent': '00000000000000000000000000000003.0.5560335482828312', 'agent': '00000000000000000000000000000003.0.9629671714501796', 'branch:agent:should_continue:tools': '00000000000000000000000000000003.0.5594797434351543'}, 'versions_seen': {'__input__': {}, '__start__': {'__start__': '00000000000000000000000000000001.0.8415032714074774'}, 'agent': {'start:agent': '00000000000000000000000000000002.0.523640257950563'}}, 'pending_sends': []}, metadata={'source': 'loop', 'writes': {'agent': {'messages': [{'lc': 1, 'type': 'constructor', 'id': ['langchain', 'schema', 'messages', 'AIMessage'], 'kwargs': {'content': '', 'additional_kwargs': {'tool_calls': [{'id': 'call_D1mD8lkXMIGDiy0MQAD5sxIX', 'function': {'arguments': '{\"city\":\"nyc\"}', 'name': 'get_weather'}, 'type': 'function'}], 'refusal': None}, 'response_metadata': {'token_usage': {'completion_tokens': 16, 'prompt_tokens': 58, 'total_tokens': 74, 'completion_tokens_details': {'accepted_prediction_tokens': 0, 'audio_tokens': 0, 'reasoning_tokens': 0, 'rejected_prediction_tokens': 0}, 'prompt_tokens_details': {'audio_tokens': 0, 'cached_tokens': 0}}, 'model_name': 'gpt-4o-mini-2024-07-18', 'system_fingerprint': 'fp_72ed7ab54c', 'finish_reason': 'tool_calls', 'logprobs': None}, 'type': 'ai', 'id': 'run-93c27419-bad8-49cc-bdce-ef8442cbd72e-0', 'tool_calls': [{'name': 'get_weather', 'args': {'city': 'nyc'}, 'id': 'call_D1mD8lkXMIGDiy0MQAD5sxIX', 'type': 'tool_call'}], 'usage_metadata': {'input_tokens': 58, 'output_tokens': 16, 'total_tokens': 74, 'input_token_details': {'audio': 0, 'cache_read': 0}, 'output_token_details': {'audio': 0, 'reasoning': 0}}, 'invalid_tool_calls': []}}]}}, 'thread_id': '4', 'step': 1, 'parents': {}}, parent_config=None, pending_writes=[('dbd75f53-2eec-acbb-4801-80b4a83cd8d4', 'messages', [ToolMessage(content='It might be cloudy in nyc', name='get_weather', id='9c79a83e-bbb7-4a40-8ec2-c4a3e97d2bd5', tool_call_id='call_D1mD8lkXMIGDiy0MQAD5sxIX')]), ('dbd75f53-2eec-acbb-4801-80b4a83cd8d4', 'tools', 'tools')]),\n",
       " CheckpointTuple(config={'configurable': {'thread_id': '4', 'checkpoint_ns': '', 'checkpoint_id': '1efe4d9d-3942-68d8-8002-baf5f118df7f'}}, checkpoint={'type': 'json', 'v': 1, 'ts': '2025-02-06T22:29:28.051302+00:00', 'id': '1efe4d9d-3942-68d8-8002-baf5f118df7f', 'channel_values': {'messages': [HumanMessage(content=\"what's the weather in nyc\", additional_kwargs={}, response_metadata={}, id='973d79dc-7317-42c1-bf58-8334c3aaf8a5'), AIMessage(content='', additional_kwargs={'tool_calls': [{'id': 'call_D1mD8lkXMIGDiy0MQAD5sxIX', 'function': {'arguments': '{\"city\":\"nyc\"}', 'name': 'get_weather'}, 'type': 'function'}], 'refusal': None}, response_metadata={'token_usage': {'completion_tokens': 16, 'prompt_tokens': 58, 'total_tokens': 74, 'completion_tokens_details': {'accepted_prediction_tokens': 0, 'audio_tokens': 0, 'reasoning_tokens': 0, 'rejected_prediction_tokens': 0}, 'prompt_tokens_details': {'audio_tokens': 0, 'cached_tokens': 0}}, 'model_name': 'gpt-4o-mini-2024-07-18', 'system_fingerprint': 'fp_72ed7ab54c', 'finish_reason': 'tool_calls', 'logprobs': None}, id='run-93c27419-bad8-49cc-bdce-ef8442cbd72e-0', tool_calls=[{'name': 'get_weather', 'args': {'city': 'nyc'}, 'id': 'call_D1mD8lkXMIGDiy0MQAD5sxIX', 'type': 'tool_call'}], usage_metadata={'input_tokens': 58, 'output_tokens': 16, 'total_tokens': 74, 'input_token_details': {'audio': 0, 'cache_read': 0}, 'output_token_details': {'audio': 0, 'reasoning': 0}}), ToolMessage(content='It might be cloudy in nyc', name='get_weather', id='9c79a83e-bbb7-4a40-8ec2-c4a3e97d2bd5', tool_call_id='call_D1mD8lkXMIGDiy0MQAD5sxIX')], 'tools': 'tools'}, 'channel_versions': {'__start__': '00000000000000000000000000000002.0.6080359436424668', 'messages': '00000000000000000000000000000004.0.41418028440508436', 'start:agent': '00000000000000000000000000000003.0.5560335482828312', 'agent': '00000000000000000000000000000004.0.9841598038842685', 'branch:agent:should_continue:tools': '00000000000000000000000000000004.0.8896201020861668', 'tools': '00000000000000000000000000000004.0.19215578470836003'}, 'versions_seen': {'__input__': {}, '__start__': {'__start__': '00000000000000000000000000000001.0.8415032714074774'}, 'agent': {'start:agent': '00000000000000000000000000000002.0.523640257950563'}, 'tools': {'branch:agent:should_continue:tools': '00000000000000000000000000000003.0.5594797434351543'}}, 'pending_sends': []}, metadata={'source': 'loop', 'writes': {'tools': {'messages': [{'lc': 1, 'type': 'constructor', 'id': ['langchain', 'schema', 'messages', 'ToolMessage'], 'kwargs': {'content': 'It might be cloudy in nyc', 'type': 'tool', 'name': 'get_weather', 'id': '9c79a83e-bbb7-4a40-8ec2-c4a3e97d2bd5', 'tool_call_id': 'call_D1mD8lkXMIGDiy0MQAD5sxIX', 'status': 'success'}}]}}, 'thread_id': '4', 'step': 2, 'parents': {}}, parent_config=None, pending_writes=[('e7c46201-fe1e-60e3-1f2b-7bfac640f6ad', 'messages', [AIMessage(content='The weather in NYC might be cloudy.', additional_kwargs={'refusal': None}, response_metadata={'token_usage': {'completion_tokens': 10, 'prompt_tokens': 88, 'total_tokens': 98, 'completion_tokens_details': {'accepted_prediction_tokens': 0, 'audio_tokens': 0, 'reasoning_tokens': 0, 'rejected_prediction_tokens': 0}, 'prompt_tokens_details': {'audio_tokens': 0, 'cached_tokens': 0}}, 'model_name': 'gpt-4o-mini-2024-07-18', 'system_fingerprint': 'fp_72ed7ab54c', 'finish_reason': 'stop', 'logprobs': None}, id='run-5976ec44-4507-4b9e-9d91-985249465669-0', usage_metadata={'input_tokens': 88, 'output_tokens': 10, 'total_tokens': 98, 'input_token_details': {'audio': 0, 'cache_read': 0}, 'output_token_details': {'audio': 0, 'reasoning': 0}})]), ('e7c46201-fe1e-60e3-1f2b-7bfac640f6ad', 'agent', 'agent')]),\n",
       " CheckpointTuple(config={'configurable': {'thread_id': '4', 'checkpoint_ns': '', 'checkpoint_id': '1efe4d9d-3de3-6b2d-8003-d65f369ea5d2'}}, checkpoint={'type': 'json', 'v': 1, 'ts': '2025-02-06T22:29:28.536731+00:00', 'id': '1efe4d9d-3de3-6b2d-8003-d65f369ea5d2', 'channel_values': {'messages': [HumanMessage(content=\"what's the weather in nyc\", additional_kwargs={}, response_metadata={}, id='973d79dc-7317-42c1-bf58-8334c3aaf8a5'), AIMessage(content='', additional_kwargs={'tool_calls': [{'id': 'call_D1mD8lkXMIGDiy0MQAD5sxIX', 'function': {'arguments': '{\"city\":\"nyc\"}', 'name': 'get_weather'}, 'type': 'function'}], 'refusal': None}, response_metadata={'token_usage': {'completion_tokens': 16, 'prompt_tokens': 58, 'total_tokens': 74, 'completion_tokens_details': {'accepted_prediction_tokens': 0, 'audio_tokens': 0, 'reasoning_tokens': 0, 'rejected_prediction_tokens': 0}, 'prompt_tokens_details': {'audio_tokens': 0, 'cached_tokens': 0}}, 'model_name': 'gpt-4o-mini-2024-07-18', 'system_fingerprint': 'fp_72ed7ab54c', 'finish_reason': 'tool_calls', 'logprobs': None}, id='run-93c27419-bad8-49cc-bdce-ef8442cbd72e-0', tool_calls=[{'name': 'get_weather', 'args': {'city': 'nyc'}, 'id': 'call_D1mD8lkXMIGDiy0MQAD5sxIX', 'type': 'tool_call'}], usage_metadata={'input_tokens': 58, 'output_tokens': 16, 'total_tokens': 74, 'input_token_details': {'audio': 0, 'cache_read': 0}, 'output_token_details': {'audio': 0, 'reasoning': 0}}), ToolMessage(content='It might be cloudy in nyc', name='get_weather', id='9c79a83e-bbb7-4a40-8ec2-c4a3e97d2bd5', tool_call_id='call_D1mD8lkXMIGDiy0MQAD5sxIX'), AIMessage(content='The weather in NYC might be cloudy.', additional_kwargs={'refusal': None}, response_metadata={'token_usage': {'completion_tokens': 10, 'prompt_tokens': 88, 'total_tokens': 98, 'completion_tokens_details': {'accepted_prediction_tokens': 0, 'audio_tokens': 0, 'reasoning_tokens': 0, 'rejected_prediction_tokens': 0}, 'prompt_tokens_details': {'audio_tokens': 0, 'cached_tokens': 0}}, 'model_name': 'gpt-4o-mini-2024-07-18', 'system_fingerprint': 'fp_72ed7ab54c', 'finish_reason': 'stop', 'logprobs': None}, id='run-5976ec44-4507-4b9e-9d91-985249465669-0', usage_metadata={'input_tokens': 88, 'output_tokens': 10, 'total_tokens': 98, 'input_token_details': {'audio': 0, 'cache_read': 0}, 'output_token_details': {'audio': 0, 'reasoning': 0}})], 'agent': 'agent'}, 'channel_versions': {'__start__': '00000000000000000000000000000002.0.6080359436424668', 'messages': '00000000000000000000000000000005.0.0414236748232204', 'start:agent': '00000000000000000000000000000003.0.5560335482828312', 'agent': '00000000000000000000000000000005.0.38859013600061787', 'branch:agent:should_continue:tools': '00000000000000000000000000000004.0.8896201020861668', 'tools': '00000000000000000000000000000005.0.49822831701234793'}, 'versions_seen': {'__input__': {}, '__start__': {'__start__': '00000000000000000000000000000001.0.8415032714074774'}, 'agent': {'start:agent': '00000000000000000000000000000002.0.523640257950563', 'tools': '00000000000000000000000000000004.0.19215578470836003'}, 'tools': {'branch:agent:should_continue:tools': '00000000000000000000000000000003.0.5594797434351543'}}, 'pending_sends': []}, metadata={'source': 'loop', 'writes': {'agent': {'messages': [{'lc': 1, 'type': 'constructor', 'id': ['langchain', 'schema', 'messages', 'AIMessage'], 'kwargs': {'content': 'The weather in NYC might be cloudy.', 'additional_kwargs': {'refusal': None}, 'response_metadata': {'token_usage': {'completion_tokens': 10, 'prompt_tokens': 88, 'total_tokens': 98, 'completion_tokens_details': {'accepted_prediction_tokens': 0, 'audio_tokens': 0, 'reasoning_tokens': 0, 'rejected_prediction_tokens': 0}, 'prompt_tokens_details': {'audio_tokens': 0, 'cached_tokens': 0}}, 'model_name': 'gpt-4o-mini-2024-07-18', 'system_fingerprint': 'fp_72ed7ab54c', 'finish_reason': 'stop', 'logprobs': None}, 'type': 'ai', 'id': 'run-5976ec44-4507-4b9e-9d91-985249465669-0', 'usage_metadata': {'input_tokens': 88, 'output_tokens': 10, 'total_tokens': 98, 'input_token_details': {'audio': 0, 'cache_read': 0}, 'output_token_details': {'audio': 0, 'reasoning': 0}}, 'tool_calls': [], 'invalid_tool_calls': []}}]}}, 'thread_id': '4', 'step': 3, 'parents': {}}, parent_config=None, pending_writes=[])]"
      ]
     },
     "execution_count": 15,
     "metadata": {},
     "output_type": "execute_result"
    }
   ],
   "source": [
    "checkpoint_tuples"
   ]
  }
 ],
 "metadata": {
  "kernelspec": {
   "display_name": "Python 3 (ipykernel)",
   "language": "python",
   "name": "python3"
  },
  "language_info": {
   "codemirror_mode": {
    "name": "ipython",
    "version": 3
   },
   "file_extension": ".py",
   "mimetype": "text/x-python",
   "name": "python",
   "nbconvert_exporter": "python",
   "pygments_lexer": "ipython3",
   "version": "3.11.11"
  }
 },
 "nbformat": 4,
 "nbformat_minor": 5
}
