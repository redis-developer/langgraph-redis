{
 "cells": [
  {
   "attachments": {},
   "cell_type": "markdown",
   "metadata": {},
   "source": [
    "# How to view and update state in subgraphs\n",
    "\n",
    "<div class=\"admonition tip\">\n",
    "    <p class=\"admonition-title\">Prerequisites</p>\n",
    "    <p>\n",
    "        This guide assumes familiarity with the following:\n",
    "        <ul>\n",
    "            <li>            \n",
    "                <a href=\"https://langchain-ai.github.io/langgraph/concepts/low_level/#subgraphs\">\n",
    "                    Subgraphs\n",
    "                </a>\n",
    "            </li>\n",
    "            <li>            \n",
    "                <a href=\"https://langchain-ai.github.io/langgraph/concepts/human_in_the_loop/\">\n",
    "                    Human-in-the-loop\n",
    "                </a>\n",
    "            </li>\n",
    "            <li>            \n",
    "                <a href=\"https://langchain-ai.github.io/langgraph/concepts/low_level/#state\">\n",
    "                    State\n",
    "                </a>\n",
    "            </li>\n",
    "        </ul>\n",
    "    </p>\n",
    "</div> \n",
    "\n",
    "Once you add [persistence](../subgraph-persistence), you can easily view and update the state of the subgraph at any point in time. This enables a lot of the human-in-the-loop interaction patterns:\n",
    "\n",
    "* You can surface a state during an interrupt to a user to let them accept an action.\n",
    "* You can rewind the subgraph to reproduce or avoid issues.\n",
    "* You can modify the state to let the user better control its actions.\n",
    "\n",
    "This guide shows how you can do this."
   ]
  },
  {
   "cell_type": "markdown",
   "metadata": {},
   "source": [
    "## Setup\n",
    "\n",
    "First, let's install the required packages"
   ]
  },
  {
   "cell_type": "code",
   "execution_count": 1,
   "metadata": {},
   "outputs": [],
   "source": [
    "%%capture --no-stderr\n",
    "%pip install -U langgraph"
   ]
  },
  {
   "cell_type": "markdown",
   "metadata": {},
   "source": [
    "Next, we need to set API keys for OpenAI (the LLM we will use):"
   ]
  },
  {
   "cell_type": "code",
   "execution_count": 2,
   "metadata": {},
   "outputs": [
    {
     "name": "stdin",
     "output_type": "stream",
     "text": [
      "OPENAI_API_KEY:  ········\n"
     ]
    }
   ],
   "source": [
    "import getpass\n",
    "import os\n",
    "\n",
    "\n",
    "def _set_env(var: str):\n",
    "    if not os.environ.get(var):\n",
    "        os.environ[var] = getpass.getpass(f\"{var}: \")\n",
    "\n",
    "\n",
    "_set_env(\"OPENAI_API_KEY\")"
   ]
  },
  {
   "cell_type": "markdown",
   "metadata": {},
   "source": [
    "<div class=\"admonition tip\">\n",
    "    <p class=\"admonition-title\">Set up <a href=\"https://smith.langchain.com\">LangSmith</a> for LangGraph development</p>\n",
    "    <p style=\"padding-top: 5px;\">\n",
    "        Sign up for LangSmith to quickly spot issues and improve the performance of your LangGraph projects. LangSmith lets you use trace data to debug, test, and monitor your LLM apps built with LangGraph — read more about how to get started <a href=\"https://docs.smith.langchain.com\">here</a>. \n",
    "    </p>\n",
    "</div>"
   ]
  },
  {
   "attachments": {},
   "cell_type": "markdown",
   "metadata": {},
   "source": [
    "## Define subgraph\n",
    "\n",
    "First, let's set up our subgraph. For this, we will create a simple graph that can get the weather for a specific city. We will compile this graph with a [breakpoint](https://langchain-ai.github.io/langgraph/how-tos/human_in_the_loop/breakpoints/) before the `weather_node`:"
   ]
  },
  {
   "cell_type": "code",
   "execution_count": 3,
   "metadata": {},
   "outputs": [],
   "source": [
    "from langgraph.graph import StateGraph, END, START, MessagesState\n",
    "from langchain_core.tools import tool\n",
    "from langchain_openai import ChatOpenAI\n",
    "\n",
    "\n",
    "@tool\n",
    "def get_weather(city: str):\n",
    "    \"\"\"Get the weather for a specific city\"\"\"\n",
    "    return f\"It's sunny in {city}!\"\n",
    "\n",
    "\n",
    "raw_model = ChatOpenAI(model=\"gpt-4o\")\n",
    "model = raw_model.with_structured_output(get_weather)\n",
    "\n",
    "\n",
    "class SubGraphState(MessagesState):\n",
    "    city: str\n",
    "\n",
    "\n",
    "def model_node(state: SubGraphState):\n",
    "    result = model.invoke(state[\"messages\"])\n",
    "    return {\"city\": result[\"city\"]}\n",
    "\n",
    "\n",
    "def weather_node(state: SubGraphState):\n",
    "    result = get_weather.invoke({\"city\": state[\"city\"]})\n",
    "    return {\"messages\": [{\"role\": \"assistant\", \"content\": result}]}\n",
    "\n",
    "\n",
    "subgraph = StateGraph(SubGraphState)\n",
    "subgraph.add_node(model_node)\n",
    "subgraph.add_node(weather_node)\n",
    "subgraph.add_edge(START, \"model_node\")\n",
    "subgraph.add_edge(\"model_node\", \"weather_node\")\n",
    "subgraph.add_edge(\"weather_node\", END)\n",
    "subgraph = subgraph.compile(interrupt_before=[\"weather_node\"])"
   ]
  },
  {
   "cell_type": "markdown",
   "metadata": {},
   "source": [
    "## Define parent graph\n",
    "\n",
    "We can now setup the overall graph. This graph will first route to the subgraph if it needs to get the weather, otherwise it will route to a normal LLM."
   ]
  },
  {
   "cell_type": "code",
   "execution_count": 4,
   "metadata": {},
   "outputs": [
    {
     "name": "stdout",
     "output_type": "stream",
     "text": [
      "19:49:17 langgraph.checkpoint.redis INFO   Redis client is a standalone client\n",
      "19:49:17 redisvl.index.index INFO   Index already exists, not overwriting.\n",
      "19:49:17 redisvl.index.index INFO   Index already exists, not overwriting.\n",
      "19:49:17 redisvl.index.index INFO   Index already exists, not overwriting.\n"
     ]
    }
   ],
   "source": [
    "from typing import Literal\n",
    "from typing_extensions import TypedDict\n",
    "from langgraph.checkpoint.redis import RedisSaver\n",
    "\n",
    "# Set up Redis connection for checkpointer\n",
    "REDIS_URI = \"redis://redis:6379\"\n",
    "memory = None\n",
    "with RedisSaver.from_conn_string(REDIS_URI) as cp:\n",
    "    cp.setup()\n",
    "    memory = cp\n",
    "\n",
    "\n",
    "class RouterState(MessagesState):\n",
    "    route: Literal[\"weather\", \"other\"]\n",
    "\n",
    "\n",
    "class Router(TypedDict):\n",
    "    route: Literal[\"weather\", \"other\"]\n",
    "\n",
    "\n",
    "router_model = raw_model.with_structured_output(Router)\n",
    "\n",
    "\n",
    "def router_node(state: RouterState):\n",
    "    system_message = \"Classify the incoming query as either about weather or not.\"\n",
    "    messages = [{\"role\": \"system\", \"content\": system_message}] + state[\"messages\"]\n",
    "    route = router_model.invoke(messages)\n",
    "    return {\"route\": route[\"route\"]}\n",
    "\n",
    "\n",
    "def normal_llm_node(state: RouterState):\n",
    "    response = raw_model.invoke(state[\"messages\"])\n",
    "    return {\"messages\": [response]}\n",
    "\n",
    "\n",
    "def route_after_prediction(\n",
    "        state: RouterState,\n",
    ") -> Literal[\"weather_graph\", \"normal_llm_node\"]:\n",
    "    if state[\"route\"] == \"weather\":\n",
    "        return \"weather_graph\"\n",
    "    else:\n",
    "        return \"normal_llm_node\"\n",
    "\n",
    "\n",
    "graph = StateGraph(RouterState)\n",
    "graph.add_node(router_node)\n",
    "graph.add_node(normal_llm_node)\n",
    "graph.add_node(\"weather_graph\", subgraph)\n",
    "graph.add_edge(START, \"router_node\")\n",
    "graph.add_conditional_edges(\"router_node\", route_after_prediction)\n",
    "graph.add_edge(\"normal_llm_node\", END)\n",
    "graph.add_edge(\"weather_graph\", END)\n",
    "graph = graph.compile(checkpointer=memory)"
   ]
  },
  {
   "cell_type": "code",
   "execution_count": 5,
   "metadata": {},
   "outputs": [
    {
     "data": {
      "image/png": "[encoded data removed]",
      "text/plain": [
       "<IPython.core.display.Image object>"
      ]
     },
     "metadata": {},
     "output_type": "display_data"
    }
   ],
   "source": [
    "from IPython.display import Image, display\n",
    "\n",
    "# Setting xray to 1 will show the internal structure of the nested graph\n",
    "display(Image(graph.get_graph(xray=1).draw_mermaid_png()))"
   ]
  },
  {
   "cell_type": "markdown",
   "metadata": {},
   "source": [
    "Let's test this out with a normal query to make sure it works as intended!"
   ]
  },
  {
   "cell_type": "code",
   "execution_count": 6,
   "metadata": {},
   "outputs": [
    {
     "name": "stdout",
     "output_type": "stream",
     "text": [
      "19:49:19 httpx INFO   HTTP Request: POST https://api.openai.com/v1/chat/completions \"HTTP/1.1 200 OK\"\n",
      "{'router_node': {'route': 'other'}}\n",
      "19:49:21 httpx INFO   HTTP Request: POST https://api.openai.com/v1/chat/completions \"HTTP/1.1 200 OK\"\n",
      "{'normal_llm_node': {'messages': [AIMessage(content='Hello! How can I assist you today?', additional_kwargs={'refusal': None}, response_metadata={'token_usage': {'completion_tokens': 9, 'prompt_tokens': 9, 'total_tokens': 18, 'completion_tokens_details': {'accepted_prediction_tokens': 0, 'audio_tokens': 0, 'reasoning_tokens': 0, 'rejected_prediction_tokens': 0}, 'prompt_tokens_details': {'audio_tokens': 0, 'cached_tokens': 0}}, 'model_name': 'gpt-4o-2024-08-06', 'system_fingerprint': 'fp_ff25b2783a', 'id': 'chatcmpl-C1eQSpmVa2WR20bVGksAXd8sb4RgG', 'service_tier': 'default', 'finish_reason': 'stop', 'logprobs': None}, id='run--24da8d0f-1db0-40da-987f-59ba7b544ce2-0', usage_metadata={'input_tokens': 9, 'output_tokens': 9, 'total_tokens': 18, 'input_token_details': {'audio': 0, 'cache_read': 0}, 'output_token_details': {'audio': 0, 'reasoning': 0}})]}}\n"
     ]
    }
   ],
   "source": [
    "config = {\"configurable\": {\"thread_id\": \"1\"}}\n",
    "inputs = {\"messages\": [{\"role\": \"user\", \"content\": \"hi!\"}]}\n",
    "for update in graph.stream(inputs, config=config, stream_mode=\"updates\"):\n",
    "    print(update)"
   ]
  },
  {
   "cell_type": "markdown",
   "metadata": {},
   "source": [
    "Great! We didn't ask about the weather, so we got a normal response from the LLM.\n",
    "\n",
    "## Resuming from breakpoints\n",
    "\n",
    "Let's now look at what happens with breakpoints. Let's invoke it with a query that should get routed to the weather subgraph where we have the interrupt node."
   ]
  },
  {
   "cell_type": "code",
   "execution_count": 7,
   "metadata": {},
   "outputs": [
    {
     "name": "stdout",
     "output_type": "stream",
     "text": [
      "19:49:22 httpx INFO   HTTP Request: POST https://api.openai.com/v1/chat/completions \"HTTP/1.1 200 OK\"\n",
      "{'router_node': {'route': 'weather'}}\n",
      "19:49:24 httpx INFO   HTTP Request: POST https://api.openai.com/v1/chat/completions \"HTTP/1.1 200 OK\"\n",
      "{'__interrupt__': ()}\n"
     ]
    }
   ],
   "source": [
    "config = {\"configurable\": {\"thread_id\": \"2\"}}\n",
    "inputs = {\"messages\": [{\"role\": \"user\", \"content\": \"what's the weather in sf\"}]}\n",
    "for update in graph.stream(inputs, config=config, stream_mode=\"updates\"):\n",
    "    print(update)"
   ]
  },
  {
   "cell_type": "markdown",
   "metadata": {},
   "source": [
    "Note that the graph stream doesn't include subgraph events. If we want to stream subgraph events, we can pass `subgraphs=True` and get back subgraph events like so:"
   ]
  },
  {
   "cell_type": "code",
   "execution_count": 8,
   "metadata": {},
   "outputs": [
    {
     "name": "stdout",
     "output_type": "stream",
     "text": [
      "((), {'messages': [HumanMessage(content=\"what's the weather in sf\", additional_kwargs={}, response_metadata={}, id='e8ca97fe-6457-4e19-b9dc-5253d686b485')]})\n",
      "19:49:25 httpx INFO   HTTP Request: POST https://api.openai.com/v1/chat/completions \"HTTP/1.1 200 OK\"\n",
      "((), {'messages': [HumanMessage(content=\"what's the weather in sf\", additional_kwargs={}, response_metadata={}, id='e8ca97fe-6457-4e19-b9dc-5253d686b485')], 'route': 'weather'})\n",
      "(('weather_graph:60555af0-33b1-dc09-4888-d57c08dc4db8',), {'messages': [HumanMessage(content=\"what's the weather in sf\", additional_kwargs={}, response_metadata={}, id='e8ca97fe-6457-4e19-b9dc-5253d686b485')]})\n",
      "19:49:27 httpx INFO   HTTP Request: POST https://api.openai.com/v1/chat/completions \"HTTP/1.1 200 OK\"\n",
      "(('weather_graph:60555af0-33b1-dc09-4888-d57c08dc4db8',), {'messages': [HumanMessage(content=\"what's the weather in sf\", additional_kwargs={}, response_metadata={}, id='e8ca97fe-6457-4e19-b9dc-5253d686b485')], 'city': 'San Francisco'})\n"
     ]
    }
   ],
   "source": [
    "config = {\"configurable\": {\"thread_id\": \"3\"}}\n",
    "inputs = {\"messages\": [{\"role\": \"user\", \"content\": \"what's the weather in sf\"}]}\n",
    "for update in graph.stream(inputs, config=config, stream_mode=\"values\", subgraphs=True):\n",
    "    print(update)"
   ]
  },
  {
   "cell_type": "markdown",
   "metadata": {},
   "source": [
    "If we get the state now, we can see that it's paused on `weather_graph`"
   ]
  },
  {
   "cell_type": "code",
   "execution_count": 9,
   "metadata": {},
   "outputs": [
    {
     "data": {
      "text/plain": [
       "('weather_graph',)"
      ]
     },
     "execution_count": 9,
     "metadata": {},
     "output_type": "execute_result"
    }
   ],
   "source": [
    "state = graph.get_state(config)\n",
    "state.next"
   ]
  },
  {
   "cell_type": "markdown",
   "metadata": {},
   "source": [
    "If we look at the pending tasks for our current state, we can see that we have one task named `weather_graph`, which corresponds to the subgraph task."
   ]
  },
  {
   "cell_type": "code",
   "execution_count": 10,
   "metadata": {},
   "outputs": [
    {
     "data": {
      "text/plain": [
       "(PregelTask(id='60555af0-33b1-dc09-4888-d57c08dc4db8', name='weather_graph', path=('__pregel_pull', 'weather_graph'), error=None, interrupts=(), state={'configurable': {'thread_id': '3', 'checkpoint_ns': 'weather_graph:60555af0-33b1-dc09-4888-d57c08dc4db8'}}, result=None),)"
      ]
     },
     "execution_count": 10,
     "metadata": {},
     "output_type": "execute_result"
    }
   ],
   "source": [
    "state.tasks"
   ]
  },
  {
   "cell_type": "markdown",
   "metadata": {},
   "source": [
    "However since we got the state using the config of the parent graph, we don't have access to the subgraph state. If you look at the `state` value of the `PregelTask` above you will note that it is simply the configuration of the parent graph. If we want to actually populate the subgraph state, we can pass in `subgraphs=True` to `get_state` like so:"
   ]
  },
  {
   "cell_type": "code",
   "execution_count": 11,
   "metadata": {},
   "outputs": [
    {
     "data": {
      "text/plain": [
       "PregelTask(id='60555af0-33b1-dc09-4888-d57c08dc4db8', name='weather_graph', path=('__pregel_pull', 'weather_graph'), error=None, interrupts=(), state=StateSnapshot(values={'messages': [HumanMessage(content=\"what's the weather in sf\", additional_kwargs={}, response_metadata={}, id='e8ca97fe-6457-4e19-b9dc-5253d686b485')], 'city': 'San Francisco'}, next=('weather_node',), config={'configurable': {'thread_id': '3', 'checkpoint_ns': 'weather_graph:60555af0-33b1-dc09-4888-d57c08dc4db8', 'checkpoint_id': '1f072fe7-5fef-6d82-8001-128712d34fc6', 'checkpoint_map': {'': '1f072fe7-4dba-681c-8001-e1d2ab5eccf6', 'weather_graph:60555af0-33b1-dc09-4888-d57c08dc4db8': '1f072fe7-5fef-6d82-8001-128712d34fc6'}}}, metadata={'source': 'loop', 'step': 1, 'parents': {'': '1f072fe7-4dba-681c-8001-e1d2ab5eccf6'}}, created_at='2025-08-06T19:49:27.539023+00:00', parent_config={'configurable': {'thread_id': '3', 'checkpoint_ns': 'weather_graph:60555af0-33b1-dc09-4888-d57c08dc4db8', 'checkpoint_id': '1f072fe7-4dc0-6b54-8000-d7d6ffbeefa5', 'checkpoint_map': {'': '1f072fe7-4dba-681c-8001-e1d2ab5eccf6', 'weather_graph:60555af0-33b1-dc09-4888-d57c08dc4db8': '1f072fe7-4dc0-6b54-8000-d7d6ffbeefa5'}}}, tasks=(PregelTask(id='da7c4aa5-a62e-a941-1aad-f88a9cbf49e3', name='weather_node', path=('__pregel_pull', 'weather_node'), error=None, interrupts=(), state=None, result=None),), interrupts=()), result=None)"
      ]
     },
     "execution_count": 11,
     "metadata": {},
     "output_type": "execute_result"
    }
   ],
   "source": [
    "state = graph.get_state(config, subgraphs=True)\n",
    "state.tasks[0]"
   ]
  },
  {
   "cell_type": "markdown",
   "metadata": {},
   "source": [
    "Now we have access to the subgraph state! If you look at the `state` value of the `PregelTask` you can see that it has all the information we need, like the next node (`weather_node`) and the current state values (e.g. `city`).\n",
    "\n",
    "To resume execution, we can just invoke the outer graph as normal:"
   ]
  },
  {
   "cell_type": "code",
   "execution_count": 12,
   "metadata": {},
   "outputs": [
    {
     "name": "stdout",
     "output_type": "stream",
     "text": [
      "((), {'messages': [HumanMessage(content=\"what's the weather in sf\", additional_kwargs={}, response_metadata={}, id='e8ca97fe-6457-4e19-b9dc-5253d686b485')], 'route': 'weather'})\n",
      "(('weather_graph:60555af0-33b1-dc09-4888-d57c08dc4db8',), {'messages': [HumanMessage(content=\"what's the weather in sf\", additional_kwargs={}, response_metadata={}, id='e8ca97fe-6457-4e19-b9dc-5253d686b485')], 'city': 'San Francisco'})\n",
      "(('weather_graph:60555af0-33b1-dc09-4888-d57c08dc4db8',), {'messages': [HumanMessage(content=\"what's the weather in sf\", additional_kwargs={}, response_metadata={}, id='e8ca97fe-6457-4e19-b9dc-5253d686b485'), AIMessage(content=\"It's sunny in San Francisco!\", additional_kwargs={}, response_metadata={}, id='fa13351e-f130-47d0-ae4d-6174dcdbffb8')], 'city': 'San Francisco'})\n",
      "((), {'messages': [HumanMessage(content=\"what's the weather in sf\", additional_kwargs={}, response_metadata={}, id='e8ca97fe-6457-4e19-b9dc-5253d686b485'), AIMessage(content=\"It's sunny in San Francisco!\", additional_kwargs={}, response_metadata={}, id='fa13351e-f130-47d0-ae4d-6174dcdbffb8')], 'route': 'weather'})\n"
     ]
    }
   ],
   "source": [
    "for update in graph.stream(None, config=config, stream_mode=\"values\", subgraphs=True):\n",
    "    print(update)"
   ]
  },
  {
   "cell_type": "markdown",
   "metadata": {},
   "source": [
    "### Resuming from specific subgraph node\n",
    "\n",
    "In the example above, we were replaying from the outer graph - which automatically replayed the subgraph from whatever state it was in previously (paused before the `weather_node` in our case), but it is also possible to replay from inside a subgraph. In order to do so, we need to get the configuration from the exact subgraph state that we want to replay from.\n",
    "\n",
    "We can do this by exploring the state history of the subgraph, and selecting the state before `model_node` - which we can do by filtering on the `.next` parameter.\n",
    "\n",
    "To get the state history of the subgraph, we need to first pass in  "
   ]
  },
  {
   "cell_type": "code",
   "execution_count": 13,
   "metadata": {},
   "outputs": [],
   "source": [
    "parent_graph_state_before_subgraph = next(\n",
    "    h for h in graph.get_state_history(config) if h.next == (\"weather_graph\",)\n",
    ")"
   ]
  },
  {
   "cell_type": "code",
   "execution_count": 14,
   "metadata": {},
   "outputs": [],
   "source": [
    "subgraph_state_before_model_node = next(\n",
    "    h\n",
    "    for h in graph.get_state_history(parent_graph_state_before_subgraph.tasks[0].state)\n",
    "    if h.next == (\"model_node\",)\n",
    ")\n",
    "\n",
    "# This pattern can be extended no matter how many levels deep\n",
    "# subsubgraph_stat_history = next(h for h in graph.get_state_history(subgraph_state_before_model_node.tasks[0].state) if h.next == ('my_subsubgraph_node',))"
   ]
  },
  {
   "cell_type": "markdown",
   "metadata": {},
   "source": [
    "We can confirm that we have gotten the correct state by comparing the `.next` parameter of the `subgraph_state_before_model_node`."
   ]
  },
  {
   "cell_type": "code",
   "execution_count": 15,
   "metadata": {},
   "outputs": [
    {
     "data": {
      "text/plain": [
       "('model_node',)"
      ]
     },
     "execution_count": 15,
     "metadata": {},
     "output_type": "execute_result"
    }
   ],
   "source": [
    "subgraph_state_before_model_node.next"
   ]
  },
  {
   "cell_type": "markdown",
   "metadata": {},
   "source": [
    "Perfect! We have gotten the correct state snaphshot, and we can now resume from the `model_node` inside of our subgraph:"
   ]
  },
  {
   "cell_type": "code",
   "execution_count": 16,
   "metadata": {},
   "outputs": [
    {
     "name": "stdout",
     "output_type": "stream",
     "text": [
      "((), {'messages': [HumanMessage(content=\"what's the weather in sf\", additional_kwargs={}, response_metadata={}, id='e8ca97fe-6457-4e19-b9dc-5253d686b485')], 'route': 'weather'})\n",
      "(('weather_graph:60555af0-33b1-dc09-4888-d57c08dc4db8',), {'messages': [HumanMessage(content=\"what's the weather in sf\", additional_kwargs={}, response_metadata={}, id='e8ca97fe-6457-4e19-b9dc-5253d686b485')]})\n",
      "19:49:30 httpx INFO   HTTP Request: POST https://api.openai.com/v1/chat/completions \"HTTP/1.1 200 OK\"\n",
      "(('weather_graph:60555af0-33b1-dc09-4888-d57c08dc4db8',), {'messages': [HumanMessage(content=\"what's the weather in sf\", additional_kwargs={}, response_metadata={}, id='e8ca97fe-6457-4e19-b9dc-5253d686b485')], 'city': 'San Francisco'})\n"
     ]
    }
   ],
   "source": [
    "for value in graph.stream(\n",
    "        None,\n",
    "        config=subgraph_state_before_model_node.config,\n",
    "        stream_mode=\"values\",\n",
    "        subgraphs=True,\n",
    "):\n",
    "    print(value)"
   ]
  },
  {
   "cell_type": "markdown",
   "metadata": {},
   "source": [
    "Great, this subsection has shown how you can replay from any node, no matter how deeply nested it is inside your graph - a powerful tool for testing how deterministic your agent is."
   ]
  },
  {
   "cell_type": "markdown",
   "metadata": {},
   "source": [
    "## Modifying state\n",
    "\n",
    "### Update the state of a subgraph\n",
    "\n",
    "What if we want to modify the state of a subgraph? We can do this similarly to how we [update the state of normal graphs](https://langchain-ai.github.io/langgraph/how-tos/human_in_the_loop/time-travel/), just being careful to pass in the config of the subgraph to `update_state`."
   ]
  },
  {
   "cell_type": "code",
   "execution_count": 17,
   "metadata": {},
   "outputs": [
    {
     "name": "stdout",
     "output_type": "stream",
     "text": [
      "19:49:31 httpx INFO   HTTP Request: POST https://api.openai.com/v1/chat/completions \"HTTP/1.1 200 OK\"\n",
      "{'router_node': {'route': 'weather'}}\n",
      "19:49:31 httpx INFO   HTTP Request: POST https://api.openai.com/v1/chat/completions \"HTTP/1.1 200 OK\"\n",
      "{'__interrupt__': ()}\n"
     ]
    }
   ],
   "source": [
    "config = {\"configurable\": {\"thread_id\": \"4\"}}\n",
    "inputs = {\"messages\": [{\"role\": \"user\", \"content\": \"what's the weather in sf\"}]}\n",
    "for update in graph.stream(inputs, config=config, stream_mode=\"updates\"):\n",
    "    print(update)"
   ]
  },
  {
   "cell_type": "code",
   "execution_count": 18,
   "metadata": {},
   "outputs": [
    {
     "data": {
      "text/plain": [
       "[HumanMessage(content=\"what's the weather in sf\", additional_kwargs={}, response_metadata={}, id='fab08064-f16c-42bb-92c8-4d1ec3e03a0c')]"
      ]
     },
     "execution_count": 18,
     "metadata": {},
     "output_type": "execute_result"
    }
   ],
   "source": [
    "state = graph.get_state(config, subgraphs=True)\n",
    "state.values[\"messages\"]"
   ]
  },
  {
   "cell_type": "markdown",
   "metadata": {},
   "source": [
    "In order to update the state of the **inner** graph, we need to pass the config for the **inner** graph, which we can get by accessing calling `state.tasks[0].state.config` - since we interrupted inside the subgraph, the state of the task is just the state of the subgraph."
   ]
  },
  {
   "cell_type": "code",
   "execution_count": 19,
   "metadata": {},
   "outputs": [
    {
     "data": {
      "text/plain": [
       "{'configurable': {'thread_id': '4',\n",
       "  'checkpoint_ns': 'weather_graph:97c4037c-04a4-88f0-5f77-b5d0a58d573e',\n",
       "  'checkpoint_id': '1f072fe7-86ff-6d31-8002-d83218057702',\n",
       "  'checkpoint_map': {'': '1f072fe7-8217-6934-8001-43fd0d293d39',\n",
       "   'weather_graph:97c4037c-04a4-88f0-5f77-b5d0a58d573e': '1f072fe7-86ff-6d31-8002-d83218057702'}}}"
      ]
     },
     "execution_count": 19,
     "metadata": {},
     "output_type": "execute_result"
    }
   ],
   "source": [
    "graph.update_state(state.tasks[0].state.config, {\"city\": \"la\"})"
   ]
  },
  {
   "cell_type": "markdown",
   "metadata": {},
   "source": [
    "We can now resume streaming the outer graph (which will resume the subgraph!) and check that we updated our search to use LA instead of SF."
   ]
  },
  {
   "cell_type": "code",
   "execution_count": 20,
   "metadata": {},
   "outputs": [
    {
     "name": "stdout",
     "output_type": "stream",
     "text": [
      "(('weather_graph:97c4037c-04a4-88f0-5f77-b5d0a58d573e',), {'weather_node': {'messages': [{'role': 'assistant', 'content': \"It's sunny in la!\"}]}})\n",
      "((), {'weather_graph': {'messages': [HumanMessage(content=\"what's the weather in sf\", additional_kwargs={}, response_metadata={}, id='fab08064-f16c-42bb-92c8-4d1ec3e03a0c'), AIMessage(content=\"It's sunny in la!\", additional_kwargs={}, response_metadata={}, id='85d1dba9-1872-4b48-ae35-dbceb7d5de08')]}})\n"
     ]
    }
   ],
   "source": [
    "for update in graph.stream(None, config=config, stream_mode=\"updates\", subgraphs=True):\n",
    "    print(update)"
   ]
  },
  {
   "cell_type": "markdown",
   "metadata": {},
   "source": [
    "Fantastic! The AI responded with \"It's sunny in LA!\" as we expected.\n",
    "\n",
    "### Acting as a subgraph node\n",
    "\n",
    "Another way we could update the state is by acting as the `weather_node` ourselves instead of editing the state before `weather_node` is ran as we did above. We can do this by passing the subgraph config and also the `as_node` argument, which allows us to update the state as if we are the node we specify. Thus by setting an interrupt before the `weather_node` and then using the update state function as the `weather_node`, the graph itself never calls `weather_node` directly but instead we decide what the output of `weather_node` should be."
   ]
  },
  {
   "cell_type": "code",
   "execution_count": 21,
   "metadata": {},
   "outputs": [
    {
     "name": "stdout",
     "output_type": "stream",
     "text": [
      "19:49:32 httpx INFO   HTTP Request: POST https://api.openai.com/v1/chat/completions \"HTTP/1.1 200 OK\"\n",
      "((), {'router_node': {'route': 'weather'}})\n",
      "19:49:32 httpx INFO   HTTP Request: POST https://api.openai.com/v1/chat/completions \"HTTP/1.1 200 OK\"\n",
      "(('weather_graph:0f03bc0d-600b-8bcc-7aae-28e3848d8986',), {'model_node': {'city': 'San Francisco'}})\n",
      "((), {'__interrupt__': ()})\n",
      "interrupted!\n",
      "((), {'weather_graph': {'messages': [HumanMessage(content=\"what's the weather in sf\", additional_kwargs={}, response_metadata={}, id='0424d92e-33fa-4c0b-9d9a-426e9509e642'), AIMessage(content='rainy', additional_kwargs={}, response_metadata={}, id='f507bd08-4145-4dff-a9dc-f7613737d1df')]}})\n",
      "[HumanMessage(content=\"what's the weather in sf\", additional_kwargs={}, response_metadata={}, id='0424d92e-33fa-4c0b-9d9a-426e9509e642'), AIMessage(content='rainy', additional_kwargs={}, response_metadata={}, id='f507bd08-4145-4dff-a9dc-f7613737d1df')]\n"
     ]
    }
   ],
   "source": [
    "config = {\"configurable\": {\"thread_id\": \"14\"}}\n",
    "inputs = {\"messages\": [{\"role\": \"user\", \"content\": \"what's the weather in sf\"}]}\n",
    "for update in graph.stream(\n",
    "        inputs, config=config, stream_mode=\"updates\", subgraphs=True\n",
    "):\n",
    "    print(update)\n",
    "# Graph execution should stop before the weather node\n",
    "print(\"interrupted!\")\n",
    "\n",
    "state = graph.get_state(config, subgraphs=True)\n",
    "\n",
    "# We update the state by passing in the message we want returned from the weather node, and make sure to use as_node\n",
    "graph.update_state(\n",
    "    state.tasks[0].state.config,\n",
    "    {\"messages\": [{\"role\": \"assistant\", \"content\": \"rainy\"}]},\n",
    "    as_node=\"weather_node\",\n",
    ")\n",
    "for update in graph.stream(None, config=config, stream_mode=\"updates\", subgraphs=True):\n",
    "    print(update)\n",
    "\n",
    "print(graph.get_state(config).values[\"messages\"])"
   ]
  },
  {
   "cell_type": "markdown",
   "metadata": {},
   "source": [
    "Perfect! The AI responded with the message we passed in ourselves.\n",
    "\n",
    "### Acting as the entire subgraph\n",
    "\n",
    "Lastly, we could also update the graph just acting as the **entire** subgraph. This is similar to the case above but instead of acting as just the `weather_node` we are acting as the entire subgraph. This is done by passing in the normal graph config as well as the `as_node` argument, where we specify the we are acting as the entire subgraph node."
   ]
  },
  {
   "cell_type": "code",
   "execution_count": 22,
   "metadata": {},
   "outputs": [
    {
     "name": "stdout",
     "output_type": "stream",
     "text": [
      "19:49:33 httpx INFO   HTTP Request: POST https://api.openai.com/v1/chat/completions \"HTTP/1.1 200 OK\"\n",
      "((), {'router_node': {'route': 'weather'}})\n",
      "19:49:34 httpx INFO   HTTP Request: POST https://api.openai.com/v1/chat/completions \"HTTP/1.1 200 OK\"\n",
      "(('weather_graph:f8e64c8e-648f-6c34-a1f8-887d1d0e4a6d',), {'model_node': {'city': 'San Francisco'}})\n",
      "((), {'__interrupt__': ()})\n",
      "interrupted!\n",
      "[HumanMessage(content=\"what's the weather in sf\", additional_kwargs={}, response_metadata={}, id='1693421f-9586-478f-8919-0a6fee31cc13'), AIMessage(content='rainy', additional_kwargs={}, response_metadata={}, id='f9c5b93e-ce41-49be-af80-2a29871d4f7e')]\n"
     ]
    }
   ],
   "source": [
    "config = {\"configurable\": {\"thread_id\": \"8\"}}\n",
    "inputs = {\"messages\": [{\"role\": \"user\", \"content\": \"what's the weather in sf\"}]}\n",
    "for update in graph.stream(\n",
    "        inputs, config=config, stream_mode=\"updates\", subgraphs=True\n",
    "):\n",
    "    print(update)\n",
    "# Graph execution should stop before the weather node\n",
    "print(\"interrupted!\")\n",
    "\n",
    "# We update the state by passing in the message we want returned from the weather graph, making sure to use as_node\n",
    "# Note that we don't need to pass in the subgraph config, since we aren't updating the state inside the subgraph\n",
    "graph.update_state(\n",
    "    config,\n",
    "    {\"messages\": [{\"role\": \"assistant\", \"content\": \"rainy\"}]},\n",
    "    as_node=\"weather_graph\",\n",
    ")\n",
    "for update in graph.stream(None, config=config, stream_mode=\"updates\"):\n",
    "    print(update)\n",
    "\n",
    "print(graph.get_state(config).values[\"messages\"])"
   ]
  },
  {
   "cell_type": "markdown",
   "metadata": {},
   "source": [
    "Again, the AI responded with \"rainy\" as we expected.\n",
    "\n",
    "## Double nested subgraphs\n",
    "\n",
    "This same functionality continues to work no matter the level of nesting. Here is an example of doing the same things with a double nested subgraph (although any level of nesting will work). We add another router on top of our already defined graphs."
   ]
  },
  {
   "cell_type": "code",
   "execution_count": 23,
   "metadata": {},
   "outputs": [
    {
     "name": "stdout",
     "output_type": "stream",
     "text": [
      "19:49:34 langgraph.checkpoint.redis INFO   Redis client is a standalone client\n",
      "19:49:34 redisvl.index.index INFO   Index already exists, not overwriting.\n",
      "19:49:34 redisvl.index.index INFO   Index already exists, not overwriting.\n",
      "19:49:34 redisvl.index.index INFO   Index already exists, not overwriting.\n"
     ]
    }
   ],
   "source": [
    "from typing import Literal\n",
    "from typing_extensions import TypedDict\n",
    "from langgraph.checkpoint.redis import RedisSaver\n",
    "\n",
    "# Set up Redis connection for checkpointer\n",
    "REDIS_URI = \"redis://redis:6379\"\n",
    "memory = None\n",
    "with RedisSaver.from_conn_string(REDIS_URI) as cp:\n",
    "    cp.setup()\n",
    "    memory = cp\n",
    "\n",
    "\n",
    "class RouterState(MessagesState):\n",
    "    route: Literal[\"weather\", \"other\"]\n",
    "\n",
    "\n",
    "class Router(TypedDict):\n",
    "    route: Literal[\"weather\", \"other\"]\n",
    "\n",
    "\n",
    "router_model = raw_model.with_structured_output(Router)\n",
    "\n",
    "\n",
    "def router_node(state: RouterState):\n",
    "    system_message = \"Classify the incoming query as either about weather or not.\"\n",
    "    messages = [{\"role\": \"system\", \"content\": system_message}] + state[\"messages\"]\n",
    "    route = router_model.invoke(messages)\n",
    "    return {\"route\": route[\"route\"]}\n",
    "\n",
    "\n",
    "def normal_llm_node(state: RouterState):\n",
    "    response = raw_model.invoke(state[\"messages\"])\n",
    "    return {\"messages\": [response]}\n",
    "\n",
    "\n",
    "def route_after_prediction(\n",
    "        state: RouterState,\n",
    ") -> Literal[\"weather_graph\", \"normal_llm_node\"]:\n",
    "    if state[\"route\"] == \"weather\":\n",
    "        return \"weather_graph\"\n",
    "    else:\n",
    "        return \"normal_llm_node\"\n",
    "\n",
    "\n",
    "graph = StateGraph(RouterState)\n",
    "graph.add_node(router_node)\n",
    "graph.add_node(normal_llm_node)\n",
    "graph.add_node(\"weather_graph\", subgraph)\n",
    "graph.add_edge(START, \"router_node\")\n",
    "graph.add_conditional_edges(\"router_node\", route_after_prediction)\n",
    "graph.add_edge(\"normal_llm_node\", END)\n",
    "graph.add_edge(\"weather_graph\", END)\n",
    "graph = graph.compile(checkpointer=memory)"
   ]
  },
  {
   "cell_type": "code",
   "execution_count": 24,
   "metadata": {},
   "outputs": [
    {
     "name": "stdout",
     "output_type": "stream",
     "text": [
      "19:49:34 langgraph.checkpoint.redis INFO   Redis client is a standalone client\n",
      "19:49:34 redisvl.index.index INFO   Index already exists, not overwriting.\n",
      "19:49:34 redisvl.index.index INFO   Index already exists, not overwriting.\n",
      "19:49:34 redisvl.index.index INFO   Index already exists, not overwriting.\n"
     ]
    }
   ],
   "source": [
    "from langgraph.checkpoint.redis import RedisSaver\n",
    "\n",
    "# Set up Redis connection for checkpointer\n",
    "REDIS_URI = \"redis://redis:6379\"\n",
    "memory = None\n",
    "with RedisSaver.from_conn_string(REDIS_URI) as cp:\n",
    "    cp.setup()\n",
    "    memory = cp\n",
    "\n",
    "\n",
    "class GrandfatherState(MessagesState):\n",
    "    to_continue: bool\n",
    "\n",
    "\n",
    "def router_node(state: GrandfatherState):\n",
    "    # Dummy logic that will always continue\n",
    "    return {\"to_continue\": True}\n",
    "\n",
    "\n",
    "def route_after_prediction(state: GrandfatherState):\n",
    "    if state[\"to_continue\"]:\n",
    "        return \"graph\"\n",
    "    else:\n",
    "        return END\n",
    "\n",
    "\n",
    "grandparent_graph = StateGraph(GrandfatherState)\n",
    "grandparent_graph.add_node(router_node)\n",
    "grandparent_graph.add_node(\"graph\", graph)\n",
    "grandparent_graph.add_edge(START, \"router_node\")\n",
    "grandparent_graph.add_conditional_edges(\n",
    "    \"router_node\", route_after_prediction, [\"graph\", END]\n",
    ")\n",
    "grandparent_graph.add_edge(\"graph\", END)\n",
    "grandparent_graph = grandparent_graph.compile(checkpointer=memory)"
   ]
  },
  {
   "cell_type": "code",
   "execution_count": 25,
   "metadata": {},
   "outputs": [
    {
     "data": {
      "image/png": "[encoded data removed]",
      "text/plain": [
       "<IPython.core.display.Image object>"
      ]
     },
     "metadata": {},
     "output_type": "display_data"
    }
   ],
   "source": [
    "from IPython.display import Image, display\n",
    "\n",
    "# Setting xray to 1 will show the internal structure of the nested graph\n",
    "display(Image(grandparent_graph.get_graph(xray=2).draw_mermaid_png()))"
   ]
  },
  {
   "cell_type": "markdown",
   "metadata": {},
   "source": [
    "If we run until the interrupt, we can now see that there are snapshots of the state of all three graphs"
   ]
  },
  {
   "cell_type": "code",
   "execution_count": 26,
   "metadata": {},
   "outputs": [
    {
     "name": "stdout",
     "output_type": "stream",
     "text": [
      "((), {'router_node': {'to_continue': True}})\n",
      "19:49:35 httpx INFO   HTTP Request: POST https://api.openai.com/v1/chat/completions \"HTTP/1.1 200 OK\"\n",
      "(('graph:c7c00782-3665-a049-2228-d98da6b23d48',), {'router_node': {'route': 'weather'}})\n",
      "19:49:36 httpx INFO   HTTP Request: POST https://api.openai.com/v1/chat/completions \"HTTP/1.1 200 OK\"\n",
      "(('graph:c7c00782-3665-a049-2228-d98da6b23d48', 'weather_graph:0e5f154a-2df4-e57d-2dc8-5446514d1f93'), {'model_node': {'city': 'San Francisco'}})\n",
      "((), {'__interrupt__': ()})\n"
     ]
    }
   ],
   "source": [
    "config = {\"configurable\": {\"thread_id\": \"2\"}}\n",
    "inputs = {\"messages\": [{\"role\": \"user\", \"content\": \"what's the weather in sf\"}]}\n",
    "for update in grandparent_graph.stream(\n",
    "        inputs, config=config, stream_mode=\"updates\", subgraphs=True\n",
    "):\n",
    "    print(update)"
   ]
  },
  {
   "cell_type": "code",
   "execution_count": 27,
   "metadata": {},
   "outputs": [
    {
     "name": "stdout",
     "output_type": "stream",
     "text": [
      "Grandparent State:\n",
      "{'messages': [HumanMessage(content=\"what's the weather in sf\", additional_kwargs={}, response_metadata={}, id='d7fc45f1-6c5d-4b8b-8b5d-2040d25e9ee4'), HumanMessage(content=\"what's the weather in sf\", additional_kwargs={}, response_metadata={}, id='28ef5b05-b571-4454-9753-10d194e52024')], 'to_continue': True}\n",
      "---------------\n",
      "Parent Graph State:\n",
      "{'messages': [HumanMessage(content=\"what's the weather in sf\", additional_kwargs={}, response_metadata={}, id='d7fc45f1-6c5d-4b8b-8b5d-2040d25e9ee4'), HumanMessage(content=\"what's the weather in sf\", additional_kwargs={}, response_metadata={}, id='28ef5b05-b571-4454-9753-10d194e52024')], 'route': 'weather'}\n",
      "---------------\n",
      "Subgraph State:\n",
      "{'messages': [HumanMessage(content=\"what's the weather in sf\", additional_kwargs={}, response_metadata={}, id='d7fc45f1-6c5d-4b8b-8b5d-2040d25e9ee4'), HumanMessage(content=\"what's the weather in sf\", additional_kwargs={}, response_metadata={}, id='28ef5b05-b571-4454-9753-10d194e52024')], 'city': 'San Francisco'}\n"
     ]
    }
   ],
   "source": [
    "state = grandparent_graph.get_state(config, subgraphs=True)\n",
    "print(\"Grandparent State:\")\n",
    "print(state.values)\n",
    "print(\"---------------\")\n",
    "print(\"Parent Graph State:\")\n",
    "print(state.tasks[0].state.values)\n",
    "print(\"---------------\")\n",
    "print(\"Subgraph State:\")\n",
    "print(state.tasks[0].state.tasks[0].state.values)"
   ]
  },
  {
   "cell_type": "markdown",
   "metadata": {},
   "source": [
    "We can now continue, acting as the node three levels down"
   ]
  },
  {
   "cell_type": "code",
   "execution_count": 28,
   "metadata": {},
   "outputs": [
    {
     "name": "stdout",
     "output_type": "stream",
     "text": [
      "(('graph:c7c00782-3665-a049-2228-d98da6b23d48',), {'weather_graph': {'messages': [HumanMessage(content=\"what's the weather in sf\", additional_kwargs={}, response_metadata={}, id='d7fc45f1-6c5d-4b8b-8b5d-2040d25e9ee4'), HumanMessage(content=\"what's the weather in sf\", additional_kwargs={}, response_metadata={}, id='28ef5b05-b571-4454-9753-10d194e52024'), AIMessage(content='rainy', additional_kwargs={}, response_metadata={}, id='9773b21f-7e75-4e67-91a8-5ab80fa37ee7')]}})\n",
      "((), {'graph': {'messages': [HumanMessage(content=\"what's the weather in sf\", additional_kwargs={}, response_metadata={}, id='d7fc45f1-6c5d-4b8b-8b5d-2040d25e9ee4'), HumanMessage(content=\"what's the weather in sf\", additional_kwargs={}, response_metadata={}, id='28ef5b05-b571-4454-9753-10d194e52024'), AIMessage(content='rainy', additional_kwargs={}, response_metadata={}, id='9773b21f-7e75-4e67-91a8-5ab80fa37ee7')]}})\n",
      "[HumanMessage(content=\"what's the weather in sf\", additional_kwargs={}, response_metadata={}, id='d7fc45f1-6c5d-4b8b-8b5d-2040d25e9ee4'), HumanMessage(content=\"what's the weather in sf\", additional_kwargs={}, response_metadata={}, id='28ef5b05-b571-4454-9753-10d194e52024'), AIMessage(content='rainy', additional_kwargs={}, response_metadata={}, id='9773b21f-7e75-4e67-91a8-5ab80fa37ee7')]\n"
     ]
    }
   ],
   "source": [
    "grandparent_graph_state = state\n",
    "parent_graph_state = grandparent_graph_state.tasks[0].state\n",
    "subgraph_state = parent_graph_state.tasks[0].state\n",
    "grandparent_graph.update_state(\n",
    "    subgraph_state.config,\n",
    "    {\"messages\": [{\"role\": \"assistant\", \"content\": \"rainy\"}]},\n",
    "    as_node=\"weather_node\",\n",
    ")\n",
    "for update in grandparent_graph.stream(\n",
    "        None, config=config, stream_mode=\"updates\", subgraphs=True\n",
    "):\n",
    "    print(update)\n",
    "\n",
    "print(grandparent_graph.get_state(config).values[\"messages\"])"
   ]
  },
  {
   "cell_type": "markdown",
   "metadata": {},
   "source": [
    "As in the cases above, we can see that the AI responds with \"rainy\" as we expect.\n",
    "\n",
    "We can explore the state history to see how the state of the grandparent graph was updated at each step."
   ]
  },
  {
   "cell_type": "code",
   "execution_count": 29,
   "metadata": {},
   "outputs": [
    {
     "name": "stdout",
     "output_type": "stream",
     "text": [
      "StateSnapshot(values={'messages': []}, next=('__start__',), config={'configurable': {'thread_id': '2', 'checkpoint_ns': '', 'checkpoint_id': '1f072fe7-2625-6cb4-bfff-0577231ac0ec'}}, metadata={'source': 'input', 'step': -1, 'parents': {}}, created_at='2025-08-06T19:49:21.479383+00:00', parent_config=None, tasks=(PregelTask(id='7d06c21b-984b-2fc1-f4f5-7bcc52efbbd7', name='__start__', path=('__pregel_pull', '__start__'), error=None, interrupts=(), state=None, result={'messages': [{'role': 'user', 'content': \"what's the weather in sf\"}]}),), interrupts=())\n",
      "-----\n",
      "StateSnapshot(values={'messages': [{'lc': 1, 'type': 'constructor', 'id': ['langchain', 'schema', 'messages', 'HumanMessage'], 'kwargs': {'content': \"what's the weather in sf\", 'type': 'human', 'id': 'd7fc45f1-6c5d-4b8b-8b5d-2040d25e9ee4'}}]}, next=('router_node',), config={'configurable': {'thread_id': '2', 'checkpoint_ns': '', 'checkpoint_id': '1f072fe7-262e-66ce-8000-aa07c2d13b6a'}}, metadata={'source': 'loop', 'step': 0, 'parents': {}}, created_at='2025-08-06T19:49:21.482906+00:00', parent_config={'configurable': {'thread_id': '2', 'checkpoint_ns': '', 'checkpoint_id': '1f072fe7-2625-6cb4-bfff-0577231ac0ec'}}, tasks=(PregelTask(id='aaa44ca4-9044-10fc-b337-87526cda849d', name='router_node', path=('__pregel_pull', 'router_node'), error=None, interrupts=(), state=None, result={}),), interrupts=())\n",
      "-----\n",
      "StateSnapshot(values={'messages': [{'lc': 1, 'type': 'constructor', 'id': ['langchain', 'schema', 'messages', 'HumanMessage'], 'kwargs': {'content': \"what's the weather in sf\", 'type': 'human', 'id': 'd7fc45f1-6c5d-4b8b-8b5d-2040d25e9ee4'}}]}, next=(), config={'configurable': {'thread_id': '2', 'checkpoint_ns': '', 'checkpoint_id': '1f072fe7-2d45-6246-8001-98a17f4d33ab'}}, metadata={'source': 'loop', 'step': 1, 'parents': {}}, created_at='2025-08-06T19:49:22.226227+00:00', parent_config={'configurable': {'thread_id': '2', 'checkpoint_ns': '', 'checkpoint_id': '1f072fe7-262e-66ce-8000-aa07c2d13b6a'}}, tasks=(), interrupts=())\n",
      "-----\n",
      "StateSnapshot(values={'messages': []}, next=('__start__',), config={'configurable': {'thread_id': '2', 'checkpoint_ns': 'weather_graph:39f41d26-c005-4401-f6f7-6bd3b7868150', 'checkpoint_id': '1f072fe7-2d49-6e48-bfff-84a69c927b9e', 'checkpoint_map': {'': '1f072fe7-2d45-6246-8001-98a17f4d33ab', 'weather_graph:39f41d26-c005-4401-f6f7-6bd3b7868150': '1f072fe7-2d49-6e48-bfff-84a69c927b9e'}}}, metadata={'source': 'input', 'step': -1, 'parents': {'': '1f072fe7-2d45-6246-8001-98a17f4d33ab'}}, created_at='2025-08-06T19:49:22.228176+00:00', parent_config=None, tasks=(PregelTask(id='7c096b4f-baa3-5993-f80e-4b94a9c1b50e', name='__start__', path=('__pregel_pull', '__start__'), error=None, interrupts=(), state=None, result={'messages': [HumanMessage(content=\"what's the weather in sf\", additional_kwargs={}, response_metadata={}, id='d7fc45f1-6c5d-4b8b-8b5d-2040d25e9ee4')]}),), interrupts=())\n",
      "-----\n",
      "StateSnapshot(values={'messages': [{'lc': 1, 'type': 'constructor', 'id': ['langchain', 'schema', 'messages', 'HumanMessage'], 'kwargs': {'content': \"what's the weather in sf\", 'type': 'human', 'id': 'd7fc45f1-6c5d-4b8b-8b5d-2040d25e9ee4'}}]}, next=(), config={'configurable': {'thread_id': '2', 'checkpoint_ns': 'weather_graph:39f41d26-c005-4401-f6f7-6bd3b7868150', 'checkpoint_id': '1f072fe7-2d4c-63dd-8000-35de079e3213', 'checkpoint_map': {'': '1f072fe7-2d45-6246-8001-98a17f4d33ab', 'weather_graph:39f41d26-c005-4401-f6f7-6bd3b7868150': '1f072fe7-2d4c-63dd-8000-35de079e3213'}}}, metadata={'source': 'loop', 'step': 0, 'parents': {'': '1f072fe7-2d45-6246-8001-98a17f4d33ab'}}, created_at='2025-08-06T19:49:22.229136+00:00', parent_config={'configurable': {'thread_id': '2', 'checkpoint_ns': 'weather_graph:39f41d26-c005-4401-f6f7-6bd3b7868150', 'checkpoint_id': '1f072fe7-2d49-6e48-bfff-84a69c927b9e', 'checkpoint_map': {'': '1f072fe7-2d45-6246-8001-98a17f4d33ab', 'weather_graph:39f41d26-c005-4401-f6f7-6bd3b7868150': '1f072fe7-2d49-6e48-bfff-84a69c927b9e'}}}, tasks=(), interrupts=())\n",
      "-----\n",
      "StateSnapshot(values={'messages': [{'lc': 1, 'type': 'constructor', 'id': ['langchain', 'schema', 'messages', 'HumanMessage'], 'kwargs': {'content': \"what's the weather in sf\", 'type': 'human', 'id': 'd7fc45f1-6c5d-4b8b-8b5d-2040d25e9ee4'}}]}, next=(), config={'configurable': {'thread_id': '2', 'checkpoint_ns': 'weather_graph:39f41d26-c005-4401-f6f7-6bd3b7868150', 'checkpoint_id': '1f072fe7-46b2-6d74-8001-274ee769e640', 'checkpoint_map': {'': '1f072fe7-2d45-6246-8001-98a17f4d33ab', 'weather_graph:39f41d26-c005-4401-f6f7-6bd3b7868150': '1f072fe7-46b2-6d74-8001-274ee769e640'}}}, metadata={'source': 'loop', 'step': 1, 'parents': {'': '1f072fe7-2d45-6246-8001-98a17f4d33ab'}}, created_at='2025-08-06T19:49:24.892599+00:00', parent_config={'configurable': {'thread_id': '2', 'checkpoint_ns': 'weather_graph:39f41d26-c005-4401-f6f7-6bd3b7868150', 'checkpoint_id': '1f072fe7-2d4c-63dd-8000-35de079e3213', 'checkpoint_map': {'': '1f072fe7-2d45-6246-8001-98a17f4d33ab', 'weather_graph:39f41d26-c005-4401-f6f7-6bd3b7868150': '1f072fe7-2d4c-63dd-8000-35de079e3213'}}}, tasks=(), interrupts=())\n",
      "-----\n",
      "StateSnapshot(values={'messages': [{'lc': 1, 'type': 'constructor', 'id': ['langchain', 'schema', 'messages', 'HumanMessage'], 'kwargs': {'content': \"what's the weather in sf\", 'type': 'human', 'id': 'd7fc45f1-6c5d-4b8b-8b5d-2040d25e9ee4'}}]}, next=('__start__',), config={'configurable': {'thread_id': '2', 'checkpoint_ns': '', 'checkpoint_id': '1f072fe7-a5ab-604a-8002-bf1ff5658bc0'}}, metadata={'source': 'input', 'step': 2, 'parents': {}}, created_at='2025-08-06T19:49:34.850869+00:00', parent_config={'configurable': {'thread_id': '2', 'checkpoint_ns': '', 'checkpoint_id': '1f072fe7-2d45-6246-8001-98a17f4d33ab'}}, tasks=(PregelTask(id='114268c9-db18-46e1-da86-75c3db8904d0', name='__start__', path=('__pregel_pull', '__start__'), error=None, interrupts=(), state=None, result={'messages': [{'role': 'user', 'content': \"what's the weather in sf\"}]}),), interrupts=())\n",
      "-----\n",
      "StateSnapshot(values={'messages': [{'lc': 1, 'type': 'constructor', 'id': ['langchain', 'schema', 'messages', 'HumanMessage'], 'kwargs': {'content': \"what's the weather in sf\", 'type': 'human', 'id': 'd7fc45f1-6c5d-4b8b-8b5d-2040d25e9ee4'}}, {'lc': 1, 'type': 'constructor', 'id': ['langchain', 'schema', 'messages', 'HumanMessage'], 'kwargs': {'content': \"what's the weather in sf\", 'type': 'human', 'id': '28ef5b05-b571-4454-9753-10d194e52024'}}]}, next=('router_node',), config={'configurable': {'thread_id': '2', 'checkpoint_ns': '', 'checkpoint_id': '1f072fe7-a5ad-68f4-8003-6c6fc3090288'}}, metadata={'source': 'loop', 'step': 3, 'parents': {}}, created_at='2025-08-06T19:49:34.851907+00:00', parent_config={'configurable': {'thread_id': '2', 'checkpoint_ns': '', 'checkpoint_id': '1f072fe7-a5ab-604a-8002-bf1ff5658bc0'}}, tasks=(PregelTask(id='3b74181a-192f-d700-9db9-95a3d7aac383', name='router_node', path=('__pregel_pull', 'router_node'), error=None, interrupts=(), state=None, result={'to_continue': True}),), interrupts=())\n",
      "-----\n",
      "StateSnapshot(values={'messages': []}, next=('__start__',), config={'configurable': {'thread_id': '2', 'checkpoint_ns': 'graph:c7c00782-3665-a049-2228-d98da6b23d48', 'checkpoint_id': '1f072fe7-a5b4-6349-bfff-8d1f3e67a3af', 'checkpoint_map': {'': '1f072fe7-a5b1-692c-8004-bd30259081c5', 'graph:c7c00782-3665-a049-2228-d98da6b23d48': '1f072fe7-a5b4-6349-bfff-8d1f3e67a3af'}}}, metadata={'source': 'input', 'step': -1, 'parents': {'': '1f072fe7-a5b1-692c-8004-bd30259081c5'}}, created_at='2025-08-06T19:49:34.854635+00:00', parent_config=None, tasks=(PregelTask(id='7299899d-197c-8ca4-fa8b-bfe52c56664f', name='__start__', path=('__pregel_pull', '__start__'), error=None, interrupts=(), state=None, result={'messages': [HumanMessage(content=\"what's the weather in sf\", additional_kwargs={}, response_metadata={}, id='d7fc45f1-6c5d-4b8b-8b5d-2040d25e9ee4'), HumanMessage(content=\"what's the weather in sf\", additional_kwargs={}, response_metadata={}, id='28ef5b05-b571-4454-9753-10d194e52024')]}),), interrupts=())\n",
      "-----\n",
      "StateSnapshot(values={'messages': [{'lc': 1, 'type': 'constructor', 'id': ['langchain', 'schema', 'messages', 'HumanMessage'], 'kwargs': {'content': \"what's the weather in sf\", 'type': 'human', 'id': 'd7fc45f1-6c5d-4b8b-8b5d-2040d25e9ee4'}}, {'lc': 1, 'type': 'constructor', 'id': ['langchain', 'schema', 'messages', 'HumanMessage'], 'kwargs': {'content': \"what's the weather in sf\", 'type': 'human', 'id': '28ef5b05-b571-4454-9753-10d194e52024'}}]}, next=('router_node',), config={'configurable': {'thread_id': '2', 'checkpoint_ns': 'graph:c7c00782-3665-a049-2228-d98da6b23d48', 'checkpoint_id': '1f072fe7-a5b6-653c-8000-24b05222bc56', 'checkpoint_map': {'': '1f072fe7-a5b1-692c-8004-bd30259081c5', 'graph:c7c00782-3665-a049-2228-d98da6b23d48': '1f072fe7-a5b6-653c-8000-24b05222bc56'}}}, metadata={'source': 'loop', 'step': 0, 'parents': {'': '1f072fe7-a5b1-692c-8004-bd30259081c5'}}, created_at='2025-08-06T19:49:34.855502+00:00', parent_config={'configurable': {'thread_id': '2', 'checkpoint_ns': 'graph:c7c00782-3665-a049-2228-d98da6b23d48', 'checkpoint_id': '1f072fe7-a5b4-6349-bfff-8d1f3e67a3af', 'checkpoint_map': {'': '1f072fe7-a5b1-692c-8004-bd30259081c5', 'graph:c7c00782-3665-a049-2228-d98da6b23d48': '1f072fe7-a5b4-6349-bfff-8d1f3e67a3af'}}}, tasks=(PregelTask(id='c6e0cae4-d8c6-b14d-1362-cbe293753fa7', name='router_node', path=('__pregel_pull', 'router_node'), error=None, interrupts=(), state=None, result={}),), interrupts=())\n",
      "-----\n",
      "StateSnapshot(values={'messages': []}, next=('__start__',), config={'configurable': {'thread_id': '2', 'checkpoint_ns': 'graph:c7c00782-3665-a049-2228-d98da6b23d48|weather_graph:0e5f154a-2df4-e57d-2dc8-5446514d1f93', 'checkpoint_id': '1f072fe7-aa68-6503-bfff-a4d8342b08aa', 'checkpoint_map': {'': '1f072fe7-a5b1-692c-8004-bd30259081c5', 'graph:c7c00782-3665-a049-2228-d98da6b23d48': '1f072fe7-aa65-6ba2-8001-1d681f52eda7', 'graph:c7c00782-3665-a049-2228-d98da6b23d48|weather_graph:0e5f154a-2df4-e57d-2dc8-5446514d1f93': '1f072fe7-aa68-6503-bfff-a4d8342b08aa'}}}, metadata={'source': 'input', 'step': -1, 'parents': {'': '1f072fe7-a5b1-692c-8004-bd30259081c5', 'graph:c7c00782-3665-a049-2228-d98da6b23d48': '1f072fe7-aa65-6ba2-8001-1d681f52eda7'}}, created_at='2025-08-06T19:49:35.347837+00:00', parent_config=None, tasks=(PregelTask(id='242fe40c-4451-c4b2-7391-d884b8af3ecb', name='__start__', path=('__pregel_pull', '__start__'), error=None, interrupts=(), state=None, result=None),), interrupts=())\n",
      "-----\n",
      "StateSnapshot(values={'messages': [{'lc': 1, 'type': 'constructor', 'id': ['langchain', 'schema', 'messages', 'HumanMessage'], 'kwargs': {'content': \"what's the weather in sf\", 'type': 'human', 'id': 'd7fc45f1-6c5d-4b8b-8b5d-2040d25e9ee4'}}, {'lc': 1, 'type': 'constructor', 'id': ['langchain', 'schema', 'messages', 'HumanMessage'], 'kwargs': {'content': \"what's the weather in sf\", 'type': 'human', 'id': '28ef5b05-b571-4454-9753-10d194e52024'}}]}, next=(), config={'configurable': {'thread_id': '2', 'checkpoint_ns': 'graph:c7c00782-3665-a049-2228-d98da6b23d48|weather_graph:0e5f154a-2df4-e57d-2dc8-5446514d1f93', 'checkpoint_id': '1f072fe7-aa6b-6918-8000-c04fc9c43ab2', 'checkpoint_map': {'': '1f072fe7-a5b1-692c-8004-bd30259081c5', 'graph:c7c00782-3665-a049-2228-d98da6b23d48': '1f072fe7-aa65-6ba2-8001-1d681f52eda7', 'graph:c7c00782-3665-a049-2228-d98da6b23d48|weather_graph:0e5f154a-2df4-e57d-2dc8-5446514d1f93': '1f072fe7-aa6b-6918-8000-c04fc9c43ab2'}}}, metadata={'source': 'loop', 'step': 0, 'parents': {'': '1f072fe7-a5b1-692c-8004-bd30259081c5', 'graph:c7c00782-3665-a049-2228-d98da6b23d48': '1f072fe7-aa65-6ba2-8001-1d681f52eda7'}}, created_at='2025-08-06T19:49:35.349169+00:00', parent_config={'configurable': {'thread_id': '2', 'checkpoint_ns': 'graph:c7c00782-3665-a049-2228-d98da6b23d48|weather_graph:0e5f154a-2df4-e57d-2dc8-5446514d1f93', 'checkpoint_id': '1f072fe7-aa68-6503-bfff-a4d8342b08aa', 'checkpoint_map': {'': '1f072fe7-a5b1-692c-8004-bd30259081c5', 'graph:c7c00782-3665-a049-2228-d98da6b23d48': '1f072fe7-aa65-6ba2-8001-1d681f52eda7', 'graph:c7c00782-3665-a049-2228-d98da6b23d48|weather_graph:0e5f154a-2df4-e57d-2dc8-5446514d1f93': '1f072fe7-aa68-6503-bfff-a4d8342b08aa'}}}, tasks=(), interrupts=())\n",
      "-----\n",
      "StateSnapshot(values={'messages': [{'lc': 1, 'type': 'constructor', 'id': ['langchain', 'schema', 'messages', 'HumanMessage'], 'kwargs': {'content': \"what's the weather in sf\", 'type': 'human', 'id': 'd7fc45f1-6c5d-4b8b-8b5d-2040d25e9ee4'}}, {'lc': 1, 'type': 'constructor', 'id': ['langchain', 'schema', 'messages', 'HumanMessage'], 'kwargs': {'content': \"what's the weather in sf\", 'type': 'human', 'id': '28ef5b05-b571-4454-9753-10d194e52024'}}]}, next=(), config={'configurable': {'thread_id': '2', 'checkpoint_ns': 'graph:c7c00782-3665-a049-2228-d98da6b23d48|weather_graph:0e5f154a-2df4-e57d-2dc8-5446514d1f93', 'checkpoint_id': '1f072fe7-b15b-65ac-8001-eb9037055f0a', 'checkpoint_map': {'': '1f072fe7-a5b1-692c-8004-bd30259081c5', 'graph:c7c00782-3665-a049-2228-d98da6b23d48': '1f072fe7-aa65-6ba2-8001-1d681f52eda7', 'graph:c7c00782-3665-a049-2228-d98da6b23d48|weather_graph:0e5f154a-2df4-e57d-2dc8-5446514d1f93': '1f072fe7-b15b-65ac-8001-eb9037055f0a'}}}, metadata={'source': 'loop', 'step': 1, 'parents': {'': '1f072fe7-a5b1-692c-8004-bd30259081c5', 'graph:c7c00782-3665-a049-2228-d98da6b23d48': '1f072fe7-aa65-6ba2-8001-1d681f52eda7'}}, created_at='2025-08-06T19:49:36.076527+00:00', parent_config={'configurable': {'thread_id': '2', 'checkpoint_ns': 'graph:c7c00782-3665-a049-2228-d98da6b23d48|weather_graph:0e5f154a-2df4-e57d-2dc8-5446514d1f93', 'checkpoint_id': '1f072fe7-aa6b-6918-8000-c04fc9c43ab2', 'checkpoint_map': {'': '1f072fe7-a5b1-692c-8004-bd30259081c5', 'graph:c7c00782-3665-a049-2228-d98da6b23d48': '1f072fe7-aa65-6ba2-8001-1d681f52eda7', 'graph:c7c00782-3665-a049-2228-d98da6b23d48|weather_graph:0e5f154a-2df4-e57d-2dc8-5446514d1f93': '1f072fe7-aa6b-6918-8000-c04fc9c43ab2'}}}, tasks=(), interrupts=())\n",
      "-----\n",
      "StateSnapshot(values={'messages': [{'lc': 1, 'type': 'constructor', 'id': ['langchain', 'schema', 'messages', 'HumanMessage'], 'kwargs': {'content': \"what's the weather in sf\", 'type': 'human', 'id': 'd7fc45f1-6c5d-4b8b-8b5d-2040d25e9ee4'}}, {'lc': 1, 'type': 'constructor', 'id': ['langchain', 'schema', 'messages', 'HumanMessage'], 'kwargs': {'content': \"what's the weather in sf\", 'type': 'human', 'id': '28ef5b05-b571-4454-9753-10d194e52024'}}, {'lc': 1, 'type': 'constructor', 'id': ['langchain', 'schema', 'messages', 'AIMessage'], 'kwargs': {'content': 'rainy', 'type': 'ai', 'id': '9773b21f-7e75-4e67-91a8-5ab80fa37ee7', 'tool_calls': [], 'invalid_tool_calls': []}}]}, next=(), config={'configurable': {'thread_id': '2', 'checkpoint_ns': 'graph:c7c00782-3665-a049-2228-d98da6b23d48|weather_graph:0e5f154a-2df4-e57d-2dc8-5446514d1f93', 'checkpoint_id': '1f072fe7-b176-65cc-8002-99de1c8214e6', 'checkpoint_map': {'': '1f072fe7-a5b1-692c-8004-bd30259081c5', 'graph:c7c00782-3665-a049-2228-d98da6b23d48': '1f072fe7-aa65-6ba2-8001-1d681f52eda7', 'graph:c7c00782-3665-a049-2228-d98da6b23d48|weather_graph:0e5f154a-2df4-e57d-2dc8-5446514d1f93': '1f072fe7-b176-65cc-8002-99de1c8214e6'}}}, metadata={'source': 'update', 'step': 2, 'parents': {'': '1f072fe7-a5b1-692c-8004-bd30259081c5', 'graph:c7c00782-3665-a049-2228-d98da6b23d48': '1f072fe7-aa65-6ba2-8001-1d681f52eda7'}}, created_at='2025-08-06T19:49:36.087591+00:00', parent_config={'configurable': {'thread_id': '2', 'checkpoint_ns': 'graph:c7c00782-3665-a049-2228-d98da6b23d48|weather_graph:0e5f154a-2df4-e57d-2dc8-5446514d1f93', 'checkpoint_id': '1f072fe7-b15b-65ac-8001-eb9037055f0a', 'checkpoint_map': {'': '1f072fe7-a5b1-692c-8004-bd30259081c5', 'graph:c7c00782-3665-a049-2228-d98da6b23d48': '1f072fe7-aa65-6ba2-8001-1d681f52eda7', 'graph:c7c00782-3665-a049-2228-d98da6b23d48|weather_graph:0e5f154a-2df4-e57d-2dc8-5446514d1f93': '1f072fe7-b15b-65ac-8001-eb9037055f0a'}}}, tasks=(), interrupts=())\n",
      "-----\n",
      "StateSnapshot(values={'messages': [{'lc': 1, 'type': 'constructor', 'id': ['langchain', 'schema', 'messages', 'HumanMessage'], 'kwargs': {'content': \"what's the weather in sf\", 'type': 'human', 'id': 'd7fc45f1-6c5d-4b8b-8b5d-2040d25e9ee4'}}, {'lc': 1, 'type': 'constructor', 'id': ['langchain', 'schema', 'messages', 'HumanMessage'], 'kwargs': {'content': \"what's the weather in sf\", 'type': 'human', 'id': '28ef5b05-b571-4454-9753-10d194e52024'}}]}, next=(), config={'configurable': {'thread_id': '2', 'checkpoint_ns': 'graph:c7c00782-3665-a049-2228-d98da6b23d48', 'checkpoint_id': '1f072fe7-aa65-6ba2-8001-1d681f52eda7', 'checkpoint_map': {'': '1f072fe7-a5b1-692c-8004-bd30259081c5', 'graph:c7c00782-3665-a049-2228-d98da6b23d48': '1f072fe7-aa65-6ba2-8001-1d681f52eda7'}}}, metadata={'source': 'loop', 'step': 1, 'parents': {'': '1f072fe7-a5b1-692c-8004-bd30259081c5'}}, created_at='2025-08-06T19:49:35.346773+00:00', parent_config={'configurable': {'thread_id': '2', 'checkpoint_ns': 'graph:c7c00782-3665-a049-2228-d98da6b23d48', 'checkpoint_id': '1f072fe7-a5b6-653c-8000-24b05222bc56', 'checkpoint_map': {'': '1f072fe7-a5b1-692c-8004-bd30259081c5', 'graph:c7c00782-3665-a049-2228-d98da6b23d48': '1f072fe7-a5b6-653c-8000-24b05222bc56'}}}, tasks=(), interrupts=())\n",
      "-----\n",
      "StateSnapshot(values={'messages': [{'lc': 1, 'type': 'constructor', 'id': ['langchain', 'schema', 'messages', 'HumanMessage'], 'kwargs': {'content': \"what's the weather in sf\", 'type': 'human', 'id': 'd7fc45f1-6c5d-4b8b-8b5d-2040d25e9ee4'}}, {'lc': 1, 'type': 'constructor', 'id': ['langchain', 'schema', 'messages', 'HumanMessage'], 'kwargs': {'content': \"what's the weather in sf\", 'type': 'human', 'id': '28ef5b05-b571-4454-9753-10d194e52024'}}, {'lc': 1, 'type': 'constructor', 'id': ['langchain', 'schema', 'messages', 'AIMessage'], 'kwargs': {'content': 'rainy', 'type': 'ai', 'id': '9773b21f-7e75-4e67-91a8-5ab80fa37ee7', 'tool_calls': [], 'invalid_tool_calls': []}}]}, next=(), config={'configurable': {'thread_id': '2', 'checkpoint_ns': 'graph:c7c00782-3665-a049-2228-d98da6b23d48', 'checkpoint_id': '1f072fe7-b182-6295-8002-e699a61cebcd', 'checkpoint_map': {'': '1f072fe7-a5b1-692c-8004-bd30259081c5', 'graph:c7c00782-3665-a049-2228-d98da6b23d48': '1f072fe7-b182-6295-8002-e699a61cebcd'}}}, metadata={'source': 'loop', 'step': 2, 'parents': {'': '1f072fe7-a5b1-692c-8004-bd30259081c5'}}, created_at='2025-08-06T19:49:36.092422+00:00', parent_config={'configurable': {'thread_id': '2', 'checkpoint_ns': 'graph:c7c00782-3665-a049-2228-d98da6b23d48', 'checkpoint_id': '1f072fe7-aa65-6ba2-8001-1d681f52eda7', 'checkpoint_map': {'': '1f072fe7-a5b1-692c-8004-bd30259081c5', 'graph:c7c00782-3665-a049-2228-d98da6b23d48': '1f072fe7-aa65-6ba2-8001-1d681f52eda7'}}}, tasks=(), interrupts=())\n",
      "-----\n",
      "StateSnapshot(values={'messages': [{'lc': 1, 'type': 'constructor', 'id': ['langchain', 'schema', 'messages', 'HumanMessage'], 'kwargs': {'content': \"what's the weather in sf\", 'type': 'human', 'id': 'd7fc45f1-6c5d-4b8b-8b5d-2040d25e9ee4'}}, {'lc': 1, 'type': 'constructor', 'id': ['langchain', 'schema', 'messages', 'HumanMessage'], 'kwargs': {'content': \"what's the weather in sf\", 'type': 'human', 'id': '28ef5b05-b571-4454-9753-10d194e52024'}}], 'to_continue': True}, next=('graph',), config={'configurable': {'thread_id': '2', 'checkpoint_ns': '', 'checkpoint_id': '1f072fe7-a5b1-692c-8004-bd30259081c5'}}, metadata={'source': 'loop', 'step': 4, 'parents': {}}, created_at='2025-08-06T19:49:34.853553+00:00', parent_config={'configurable': {'thread_id': '2', 'checkpoint_ns': '', 'checkpoint_id': '1f072fe7-a5ad-68f4-8003-6c6fc3090288'}}, tasks=(PregelTask(id='c7c00782-3665-a049-2228-d98da6b23d48', name='graph', path=('__pregel_pull', 'graph'), error=None, interrupts=(), state={'configurable': {'thread_id': '2', 'checkpoint_ns': 'graph:c7c00782-3665-a049-2228-d98da6b23d48'}}, result={'messages': [HumanMessage(content=\"what's the weather in sf\", additional_kwargs={}, response_metadata={}, id='d7fc45f1-6c5d-4b8b-8b5d-2040d25e9ee4'), HumanMessage(content=\"what's the weather in sf\", additional_kwargs={}, response_metadata={}, id='28ef5b05-b571-4454-9753-10d194e52024'), AIMessage(content='rainy', additional_kwargs={}, response_metadata={}, id='9773b21f-7e75-4e67-91a8-5ab80fa37ee7')]}),), interrupts=())\n",
      "-----\n",
      "StateSnapshot(values={'messages': [{'lc': 1, 'type': 'constructor', 'id': ['langchain', 'schema', 'messages', 'HumanMessage'], 'kwargs': {'content': \"what's the weather in sf\", 'type': 'human', 'id': 'd7fc45f1-6c5d-4b8b-8b5d-2040d25e9ee4'}}, {'lc': 1, 'type': 'constructor', 'id': ['langchain', 'schema', 'messages', 'HumanMessage'], 'kwargs': {'content': \"what's the weather in sf\", 'type': 'human', 'id': '28ef5b05-b571-4454-9753-10d194e52024'}}, {'lc': 1, 'type': 'constructor', 'id': ['langchain', 'schema', 'messages', 'AIMessage'], 'kwargs': {'content': 'rainy', 'type': 'ai', 'id': '9773b21f-7e75-4e67-91a8-5ab80fa37ee7', 'tool_calls': [], 'invalid_tool_calls': []}}], 'to_continue': True}, next=(), config={'configurable': {'thread_id': '2', 'checkpoint_ns': '', 'checkpoint_id': '1f072fe7-b186-6eac-8005-7ac703cf3254'}}, metadata={'source': 'loop', 'step': 5, 'parents': {}}, created_at='2025-08-06T19:49:36.094373+00:00', parent_config={'configurable': {'thread_id': '2', 'checkpoint_ns': '', 'checkpoint_id': '1f072fe7-a5b1-692c-8004-bd30259081c5'}}, tasks=(), interrupts=())\n",
      "-----\n"
     ]
    }
   ],
   "source": [
    "for state in grandparent_graph.get_state_history(config):\n",
    "    print(state)\n",
    "    print(\"-----\")"
   ]
  }
 ],
 "metadata": {
  "kernelspec": {
   "display_name": "Python 3 (ipykernel)",
   "language": "python",
   "name": "python3"
  },
  "language_info": {
   "codemirror_mode": {
    "name": "ipython",
    "version": 3
   },
   "file_extension": ".py",
   "mimetype": "text/x-python",
   "name": "python",
   "nbconvert_exporter": "python",
   "pygments_lexer": "ipython3",
   "version": "3.11.13"
  }
 },
 "nbformat": 4,
 "nbformat_minor": 4
}
