{
 "cells": [
  {
   "cell_type": "markdown",
   "id": "51466c8d-8ce4-4b3d-be4e-18fdbeda5f53",
   "metadata": {},
   "source": [
    "# How to use the Redis checkpointer for persistence\n",
    "\n",
    "<div class=\"admonition tip\">\n",
    "    <p class=\"admonition-title\">Prerequisites</p>\n",
    "    <p>\n",
    "        This guide assumes familiarity with the following:\n",
    "        <ul>\n",
    "            <li>\n",
    "                <a href=\"https://langchain-ai.github.io/langgraph/concepts/persistence/\">\n",
    "                    Persistence\n",
    "                </a>\n",
    "            </li>       \n",
    "            <li>\n",
    "                <a href=\"https://www.redis.io/\">\n",
    "                    Redis\n",
    "                </a>\n",
    "            </li>        \n",
    "        </ul>\n",
    "    </p>\n",
    "</div> \n",
    "\n",
    "When creating LangGraph agents, you can also set them up so that they persist their state. This allows you to do things like interact with an agent multiple times and have it remember previous interactions.\n",
    "\n",
    "This how-to guide shows how to use `Redis` as the backend for persisting checkpoint state using the [`langgraph-checkpoint-redis`](https://github.com/redis-developer/langgraph-redis) library.\n",
    "\n",
    "For demonstration purposes we add persistence to the [pre-built create react agent](https://langchain-ai.github.io/langgraph/reference/prebuilt/#langgraph.prebuilt.chat_agent_executor.create_react_agent). \n",
    "\n",
    "In general, you can add a checkpointer to any custom graph that you build like this:\n",
    "\n",
    "```python\n",
    "from langgraph.graph import StateGraph\n",
    "\n",
    "builder = StateGraph(....)\n",
    "# ... define the graph\n",
    "checkpointer = # postgres checkpointer (see examples below)\n",
    "graph = builder.compile(checkpointer=checkpointer)\n",
    "...\n",
    "```\n",
    "\n",
    "!!! info \"Setup\"\n",
    "    You need to run `.setup()` once on your checkpointer to initialize the database before you can use it."
   ]
  },
  {
   "cell_type": "markdown",
   "id": "456fa19c-93a5-4750-a410-f2d810b964ad",
   "metadata": {},
   "source": [
    "## Setup\n",
    "\n",
    "First, let's install the required dependencies and ensure we have a Redis instance running.\n",
    "\n",
    "Ensure you have a Redis server running. You can start one using Docker with:\n",
    "\n",
    "```\n",
    "docker run -d -p 6379:6379 redis:latest\n",
    "```\n",
    "\n",
    "Or install and run Redis locally according to your operating system's instructions."
   ]
  },
  {
   "cell_type": "code",
   "execution_count": 1,
   "id": "330e2d96-2dde-4cee-9f7d-6755c5579535",
   "metadata": {},
   "outputs": [
    {
     "name": "stdout",
     "output_type": "stream",
     "text": [
      "langgraph-checkpoint-redis: langgraph-checkpoint-redis_v0.0.1\n"
     ]
    }
   ],
   "source": [
    "# ruff: noqa: T201, I001, E501\n",
    "from langgraph.checkpoint.redis import __lib_name__\n",
    "\n",
    "print(f\"langgraph-checkpoint-redis: {__lib_name__}\")"
   ]
  },
  {
   "cell_type": "markdown",
   "id": "ee3b5fbf-f3e0-4755-9e21-bdff180832a4",
   "metadata": {},
   "source": [
    "Next, let's install the required packages and set our API keys"
   ]
  },
  {
   "cell_type": "code",
   "execution_count": 2,
   "id": "faadfb1b-cebe-4dcf-82fd-34044c380bc4",
   "metadata": {},
   "outputs": [],
   "source": [
    "%%capture --no-stderr\n",
    "%pip install -U langgraph langchain-openai\n",
    "# %pip install -U langgraph-checkpoint-redis - already installed"
   ]
  },
  {
   "cell_type": "code",
   "execution_count": 3,
   "id": "eca9aafb-a155-407a-8036-682a2f1297d7",
   "metadata": {},
   "outputs": [
    {
     "name": "stdout",
     "output_type": "stream",
     "text": [
      "OPENAI_API_KEY:  ········\n"
     ]
    }
   ],
   "source": [
    "import getpass\n",
    "import os\n",
    "\n",
    "\n",
    "def _set_env(var: str):\n",
    "    if not os.environ.get(var):\n",
    "        os.environ[var] = getpass.getpass(f\"{var}: \")\n",
    "\n",
    "\n",
    "_set_env(\"OPENAI_API_KEY\")"
   ]
  },
  {
   "cell_type": "markdown",
   "id": "b394e26c",
   "metadata": {},
   "source": [
    "<div class=\"admonition tip\">\n",
    "    <p class=\"admonition-title\">Set up <a href=\"https://smith.langchain.com\">LangSmith</a> for LangGraph development</p>\n",
    "    <p style=\"padding-top: 5px;\">\n",
    "        Sign up for LangSmith to quickly spot issues and improve the performance of your LangGraph projects. LangSmith lets you use trace data to debug, test, and monitor your LLM apps built with LangGraph — read more about how to get started <a href=\"https://docs.smith.langchain.com\">here</a>. \n",
    "    </p>\n",
    "</div>"
   ]
  },
  {
   "cell_type": "markdown",
   "id": "e26b3204-cca2-414c-800e-7e09032445ae",
   "metadata": {},
   "source": [
    "## Define model and tools for the graph"
   ]
  },
  {
   "cell_type": "code",
   "execution_count": 4,
   "id": "e5213193-5a7d-43e7-aeba-fe732bb1cd7a",
   "metadata": {},
   "outputs": [],
   "source": [
    "from typing import Literal\n",
    "\n",
    "from langchain_core.tools import tool\n",
    "from langchain_openai import ChatOpenAI\n",
    "from langgraph.prebuilt import create_react_agent\n",
    "from langgraph.checkpoint.redis import RedisSaver\n",
    "\n",
    "\n",
    "@tool\n",
    "def get_weather(city: Literal[\"nyc\", \"sf\"]):\n",
    "    \"\"\"Use this to get weather information.\"\"\"\n",
    "    if city == \"nyc\":\n",
    "        return \"It might be cloudy in nyc\"\n",
    "    elif city == \"sf\":\n",
    "        return \"It's always sunny in sf\"\n",
    "    else:\n",
    "        raise AssertionError(\"Unknown city\")\n",
    "\n",
    "\n",
    "tools = [get_weather]\n",
    "model = ChatOpenAI(model_name=\"gpt-4o-mini\", temperature=0)"
   ]
  },
  {
   "cell_type": "markdown",
   "id": "e9342c62-dbb4-40f6-9271-7393f1ca48c4",
   "metadata": {},
   "source": [
    "## Use sync connection\n",
    "\n",
    "This sets up a synchronous connection to the database. \n",
    "\n",
    "Synchronous connections execute operations in a blocking manner, meaning each operation waits for completion before moving to the next one. The `REDIS_URI` is the Redis database connection URI:"
   ]
  },
  {
   "cell_type": "code",
   "execution_count": 5,
   "id": "2b9d13b1-9d72-48a0-b63a-adc062c06c29",
   "metadata": {},
   "outputs": [],
   "source": [
    "REDIS_URI = \"redis://redis:6379\""
   ]
  },
  {
   "cell_type": "markdown",
   "id": "e39fc712-9e1c-4831-9077-dd07b0c13594",
   "metadata": {},
   "source": [
    "### With a connection string\n",
    "\n",
    "This manages create a Redis client internal to the saver: \n"
   ]
  },
  {
   "cell_type": "code",
   "execution_count": 6,
   "id": "bd235fc7-1e5c-4db6-a90b-ea75462ccf7d",
   "metadata": {},
   "outputs": [],
   "source": [
    "with RedisSaver.from_conn_string(REDIS_URI) as checkpointer:\n",
    "    # NOTE: you need to call .setup() the first time you're using your checkpointer\n",
    "    checkpointer.setup()\n",
    "\n",
    "    graph = create_react_agent(model, tools=tools, checkpointer=checkpointer)\n",
    "    config = {\"configurable\": {\"thread_id\": \"1\"}}\n",
    "    res = graph.invoke({\"messages\": [(\"human\", \"what's the weather in sf\")]}, config)\n",
    "    checkpoint = checkpointer.get(config)"
   ]
  },
  {
   "cell_type": "markdown",
   "id": "ebb59926-bf7b-4481-ae72-6a67d3b826bf",
   "metadata": {},
   "source": [
    "#### Examine the response"
   ]
  },
  {
   "cell_type": "code",
   "execution_count": 7,
   "id": "a7e0e7ec-a675-470b-9270-e4bdc59d4a4d",
   "metadata": {},
   "outputs": [
    {
     "data": {
      "text/plain": [
       "{'messages': [HumanMessage(content=\"what's the weather in sf\", additional_kwargs={}, response_metadata={}, id='5acaae2b-cd12-48d2-84b3-fd8b6d20efb1'),\n",
       "  AIMessage(content='', additional_kwargs={'tool_calls': [{'id': 'call_iI1XPnrsC54rIPxBx01u0ozL', 'function': {'arguments': '{\"city\":\"sf\"}', 'name': 'get_weather'}, 'type': 'function'}], 'refusal': None}, response_metadata={'token_usage': {'completion_tokens': 15, 'prompt_tokens': 57, 'total_tokens': 72, 'completion_tokens_details': {'accepted_prediction_tokens': 0, 'audio_tokens': 0, 'reasoning_tokens': 0, 'rejected_prediction_tokens': 0}, 'prompt_tokens_details': {'audio_tokens': 0, 'cached_tokens': 0}}, 'model_name': 'gpt-4o-mini-2024-07-18', 'system_fingerprint': 'fp_72ed7ab54c', 'finish_reason': 'tool_calls', 'logprobs': None}, id='run-7670bfa7-bee3-4a20-bbee-56a2a5139d2e-0', tool_calls=[{'name': 'get_weather', 'args': {'city': 'sf'}, 'id': 'call_iI1XPnrsC54rIPxBx01u0ozL', 'type': 'tool_call'}], usage_metadata={'input_tokens': 57, 'output_tokens': 15, 'total_tokens': 72, 'input_token_details': {'audio': 0, 'cache_read': 0}, 'output_token_details': {'audio': 0, 'reasoning': 0}}),\n",
       "  ToolMessage(content=\"It's always sunny in sf\", name='get_weather', id='a7114db2-142a-426c-ba8d-2560b0f35291', tool_call_id='call_iI1XPnrsC54rIPxBx01u0ozL'),\n",
       "  AIMessage(content='The weather in San Francisco is always sunny!', additional_kwargs={'refusal': None}, response_metadata={'token_usage': {'completion_tokens': 11, 'prompt_tokens': 84, 'total_tokens': 95, 'completion_tokens_details': {'accepted_prediction_tokens': 0, 'audio_tokens': 0, 'reasoning_tokens': 0, 'rejected_prediction_tokens': 0}, 'prompt_tokens_details': {'audio_tokens': 0, 'cached_tokens': 0}}, 'model_name': 'gpt-4o-mini-2024-07-18', 'system_fingerprint': 'fp_72ed7ab54c', 'finish_reason': 'stop', 'logprobs': None}, id='run-3076ae23-0804-4afe-9254-b34056caadb8-0', usage_metadata={'input_tokens': 84, 'output_tokens': 11, 'total_tokens': 95, 'input_token_details': {'audio': 0, 'cache_read': 0}, 'output_token_details': {'audio': 0, 'reasoning': 0}})]}"
      ]
     },
     "execution_count": 7,
     "metadata": {},
     "output_type": "execute_result"
    }
   ],
   "source": [
    "res"
   ]
  },
  {
   "cell_type": "markdown",
   "id": "bd183588-b0c0-4aa6-a38a-ddd91683f8c3",
   "metadata": {},
   "source": [
    "#### Examine the last checkpoint"
   ]
  },
  {
   "cell_type": "code",
   "execution_count": 8,
   "id": "96efd8b2-97c9-4207-83b2-00131723a75a",
   "metadata": {},
   "outputs": [
    {
     "data": {
      "text/plain": [
       "{'type': 'json',\n",
       " 'v': 1,\n",
       " 'ts': '2025-02-04T14:50:40.204590+00:00',\n",
       " 'id': '1efe3076-6e09-695a-8003-2c6b06cb6684',\n",
       " 'channel_values': {'messages': [HumanMessage(content=\"what's the weather in sf\", additional_kwargs={}, response_metadata={}, id='5acaae2b-cd12-48d2-84b3-fd8b6d20efb1'),\n",
       "   AIMessage(content='', additional_kwargs={'tool_calls': [{'id': 'call_iI1XPnrsC54rIPxBx01u0ozL', 'function': {'arguments': '{\"city\":\"sf\"}', 'name': 'get_weather'}, 'type': 'function'}], 'refusal': None}, response_metadata={'token_usage': {'completion_tokens': 15, 'prompt_tokens': 57, 'total_tokens': 72, 'completion_tokens_details': {'accepted_prediction_tokens': 0, 'audio_tokens': 0, 'reasoning_tokens': 0, 'rejected_prediction_tokens': 0}, 'prompt_tokens_details': {'audio_tokens': 0, 'cached_tokens': 0}}, 'model_name': 'gpt-4o-mini-2024-07-18', 'system_fingerprint': 'fp_72ed7ab54c', 'finish_reason': 'tool_calls', 'logprobs': None}, id='run-7670bfa7-bee3-4a20-bbee-56a2a5139d2e-0', tool_calls=[{'name': 'get_weather', 'args': {'city': 'sf'}, 'id': 'call_iI1XPnrsC54rIPxBx01u0ozL', 'type': 'tool_call'}], usage_metadata={'input_tokens': 57, 'output_tokens': 15, 'total_tokens': 72, 'input_token_details': {'audio': 0, 'cache_read': 0}, 'output_token_details': {'audio': 0, 'reasoning': 0}}),\n",
       "   ToolMessage(content=\"It's always sunny in sf\", name='get_weather', id='a7114db2-142a-426c-ba8d-2560b0f35291', tool_call_id='call_iI1XPnrsC54rIPxBx01u0ozL'),\n",
       "   AIMessage(content='The weather in San Francisco is always sunny!', additional_kwargs={'refusal': None}, response_metadata={'token_usage': {'completion_tokens': 11, 'prompt_tokens': 84, 'total_tokens': 95, 'completion_tokens_details': {'accepted_prediction_tokens': 0, 'audio_tokens': 0, 'reasoning_tokens': 0, 'rejected_prediction_tokens': 0}, 'prompt_tokens_details': {'audio_tokens': 0, 'cached_tokens': 0}}, 'model_name': 'gpt-4o-mini-2024-07-18', 'system_fingerprint': 'fp_72ed7ab54c', 'finish_reason': 'stop', 'logprobs': None}, id='run-3076ae23-0804-4afe-9254-b34056caadb8-0', usage_metadata={'input_tokens': 84, 'output_tokens': 11, 'total_tokens': 95, 'input_token_details': {'audio': 0, 'cache_read': 0}, 'output_token_details': {'audio': 0, 'reasoning': 0}})],\n",
       "  'agent': 'agent'},\n",
       " 'channel_versions': {'__start__': '00000000000000000000000000000002.0.17247899202190775',\n",
       "  'messages': '00000000000000000000000000000005.0.22592159084257646',\n",
       "  'start:agent': '00000000000000000000000000000003.0.7120118499709417',\n",
       "  'agent': '00000000000000000000000000000005.0.08434111824990131',\n",
       "  'branch:agent:should_continue:tools': '00000000000000000000000000000004.0.8474514753952048',\n",
       "  'tools': '00000000000000000000000000000005.0.5853642510339399'},\n",
       " 'versions_seen': {'__input__': {},\n",
       "  '__start__': {'__start__': '00000000000000000000000000000001.0.02430976062928325'},\n",
       "  'agent': {'start:agent': '00000000000000000000000000000002.0.5838797989024649',\n",
       "   'tools': '00000000000000000000000000000004.0.48516182231553295'},\n",
       "  'tools': {'branch:agent:should_continue:tools': '00000000000000000000000000000003.0.9195938494244138'}},\n",
       " 'pending_sends': []}"
      ]
     },
     "execution_count": 8,
     "metadata": {},
     "output_type": "execute_result"
    }
   ],
   "source": [
    "checkpoint"
   ]
  },
  {
   "cell_type": "markdown",
   "id": "967c95c7-e392-4819-bd71-f29e91c68df3",
   "metadata": {},
   "source": [
    "### Bring your own client\n",
    "\n",
    "You can pass a Redis client directly to the RedisSaver using the `redis_client` parameter:"
   ]
  },
  {
   "cell_type": "code",
   "execution_count": 9,
   "id": "180d6daf-8fa7-4608-bd2e-bfbf44ed5836",
   "metadata": {},
   "outputs": [],
   "source": [
    "from redis import Redis\n",
    "\n",
    "client = Redis.from_url(REDIS_URI)\n",
    "\n",
    "with RedisSaver.from_conn_string(redis_client=client) as checkpointer:\n",
    "    # NOTE: you need to call .setup() the first time you're using your checkpointer\n",
    "    # checkpointer.setup()\n",
    "    graph = create_react_agent(model, tools=tools, checkpointer=checkpointer)\n",
    "    config = {\"configurable\": {\"thread_id\": \"2\"}}\n",
    "    res = graph.invoke({\"messages\": [(\"human\", \"what's the weather in sf\")]}, config)\n",
    "\n",
    "    checkpoint_tuple = checkpointer.get_tuple(config)"
   ]
  },
  {
   "cell_type": "markdown",
   "id": "aa066eac-7c19-40d7-94af-2e715d00278c",
   "metadata": {},
   "source": [
    "#### Retrieve a tuple containing a checkpoint and its associated data"
   ]
  },
  {
   "cell_type": "code",
   "execution_count": 10,
   "id": "613d0bbc-0e38-45c4-aace-1f6f7ae27c7b",
   "metadata": {},
   "outputs": [
    {
     "data": {
      "text/plain": [
       "CheckpointTuple(config={'configurable': {'thread_id': '2', 'checkpoint_ns': '', 'checkpoint_id': '1efe3076-7d4f-6266-8003-6bc641be583a'}}, checkpoint={'type': 'json', 'v': 1, 'ts': '2025-02-04T14:50:41.805945+00:00', 'id': '1efe3076-7d4f-6266-8003-6bc641be583a', 'channel_values': {'messages': [HumanMessage(content=\"what's the weather in sf\", additional_kwargs={}, response_metadata={}, id='e49447b0-4f49-46cd-8090-4ac01884fcaa'), AIMessage(content='', additional_kwargs={'tool_calls': [{'id': 'call_mUggnSjGorTQ5Q97AzwwXzfm', 'function': {'arguments': '{\"city\":\"sf\"}', 'name': 'get_weather'}, 'type': 'function'}], 'refusal': None}, response_metadata={'token_usage': {'completion_tokens': 15, 'prompt_tokens': 57, 'total_tokens': 72, 'completion_tokens_details': {'accepted_prediction_tokens': 0, 'audio_tokens': 0, 'reasoning_tokens': 0, 'rejected_prediction_tokens': 0}, 'prompt_tokens_details': {'audio_tokens': 0, 'cached_tokens': 0}}, 'model_name': 'gpt-4o-mini-2024-07-18', 'system_fingerprint': 'fp_72ed7ab54c', 'finish_reason': 'tool_calls', 'logprobs': None}, id='run-312172e9-1126-47b8-8796-8b8f5dcc8de4-0', tool_calls=[{'name': 'get_weather', 'args': {'city': 'sf'}, 'id': 'call_mUggnSjGorTQ5Q97AzwwXzfm', 'type': 'tool_call'}], usage_metadata={'input_tokens': 57, 'output_tokens': 15, 'total_tokens': 72, 'input_token_details': {'audio': 0, 'cache_read': 0}, 'output_token_details': {'audio': 0, 'reasoning': 0}}), ToolMessage(content=\"It's always sunny in sf\", name='get_weather', id='612daee9-1ea9-4ab7-86c4-182406e0ce27', tool_call_id='call_mUggnSjGorTQ5Q97AzwwXzfm'), AIMessage(content='The weather in San Francisco is always sunny!', additional_kwargs={'refusal': None}, response_metadata={'token_usage': {'completion_tokens': 11, 'prompt_tokens': 84, 'total_tokens': 95, 'completion_tokens_details': {'accepted_prediction_tokens': 0, 'audio_tokens': 0, 'reasoning_tokens': 0, 'rejected_prediction_tokens': 0}, 'prompt_tokens_details': {'audio_tokens': 0, 'cached_tokens': 0}}, 'model_name': 'gpt-4o-mini-2024-07-18', 'system_fingerprint': 'fp_72ed7ab54c', 'finish_reason': 'stop', 'logprobs': None}, id='run-9627883c-5b9c-4851-886f-0aa0ef1b7283-0', usage_metadata={'input_tokens': 84, 'output_tokens': 11, 'total_tokens': 95, 'input_token_details': {'audio': 0, 'cache_read': 0}, 'output_token_details': {'audio': 0, 'reasoning': 0}})], 'agent': 'agent'}, 'channel_versions': {'__start__': '00000000000000000000000000000002.0.7733061098791129', 'messages': '00000000000000000000000000000005.0.11588454065986797', 'start:agent': '00000000000000000000000000000003.0.6481197393608337', 'agent': '00000000000000000000000000000005.0.5343821419778879', 'branch:agent:should_continue:tools': '00000000000000000000000000000004.0.1743439430793714', 'tools': '00000000000000000000000000000005.0.13788679865745435'}, 'versions_seen': {'__input__': {}, '__start__': {'__start__': '00000000000000000000000000000001.0.15048960283780277'}, 'agent': {'start:agent': '00000000000000000000000000000002.0.8533122647204324', 'tools': '00000000000000000000000000000004.0.21330231955100343'}, 'tools': {'branch:agent:should_continue:tools': '00000000000000000000000000000003.0.11649221474266358'}}, 'pending_sends': []}, metadata={'source': 'loop', 'writes': {'agent': {'messages': [{'lc': 1, 'type': 'constructor', 'id': ['langchain', 'schema', 'messages', 'AIMessage'], 'kwargs': {'content': 'The weather in San Francisco is always sunny!', 'additional_kwargs': {'refusal': None}, 'response_metadata': {'token_usage': {'completion_tokens': 11, 'prompt_tokens': 84, 'total_tokens': 95, 'completion_tokens_details': {'accepted_prediction_tokens': 0, 'audio_tokens': 0, 'reasoning_tokens': 0, 'rejected_prediction_tokens': 0}, 'prompt_tokens_details': {'audio_tokens': 0, 'cached_tokens': 0}}, 'model_name': 'gpt-4o-mini-2024-07-18', 'system_fingerprint': 'fp_72ed7ab54c', 'finish_reason': 'stop', 'logprobs': None}, 'type': 'ai', 'id': 'run-9627883c-5b9c-4851-886f-0aa0ef1b7283-0', 'usage_metadata': {'input_tokens': 84, 'output_tokens': 11, 'total_tokens': 95, 'input_token_details': {'audio': 0, 'cache_read': 0}, 'output_token_details': {'audio': 0, 'reasoning': 0}}, 'tool_calls': [], 'invalid_tool_calls': []}}]}}, 'thread_id': '2', 'step': 3, 'parents': {}}, parent_config=None, pending_writes=[])"
      ]
     },
     "execution_count": 10,
     "metadata": {},
     "output_type": "execute_result"
    }
   ],
   "source": [
    "checkpoint_tuple"
   ]
  },
  {
   "cell_type": "markdown",
   "id": "6e6e1619-ab3e-4d08-918b-c25cfe9518dd",
   "metadata": {},
   "source": [
    "#### Retrieve all the checkpoint tuples"
   ]
  },
  {
   "cell_type": "code",
   "execution_count": 11,
   "id": "b2ce743b-5896-443b-9ec0-a655b065895c",
   "metadata": {},
   "outputs": [
    {
     "data": {
      "text/plain": [
       "[CheckpointTuple(config={'configurable': {'thread_id': '2', 'checkpoint_ns': '', 'checkpoint_id': '1efe3076-6e6e-61e9-bfff-0b96b56ad407'}}, checkpoint={'type': 'json', 'v': 1, 'ts': '2025-02-04T14:50:40.245802+00:00', 'id': '1efe3076-6e6e-61e9-bfff-0b96b56ad407', 'channel_values': {'__start__': {'messages': [['human', \"what's the weather in sf\"]]}}, 'channel_versions': {'__start__': '00000000000000000000000000000001.0.15048960283780277'}, 'versions_seen': {'__input__': {}}, 'pending_sends': []}, metadata={'source': 'input', 'writes': {'__start__': {'messages': [['human', \"what's the weather in sf\"]]}}, 'thread_id': '2', 'step': -1, 'parents': {}}, parent_config=None, pending_writes=[('eb162c2d-2490-eefa-c6af-198796893b66', 'messages', [['human', \"what's the weather in sf\"]]), ('eb162c2d-2490-eefa-c6af-198796893b66', 'start:agent', '__start__')]),\n",
       " CheckpointTuple(config={'configurable': {'thread_id': '2', 'checkpoint_ns': '', 'checkpoint_id': '1efe3076-6e71-62cd-8000-5a5dd925cf31'}}, checkpoint={'type': 'json', 'v': 1, 'ts': '2025-02-04T14:50:40.247048+00:00', 'id': '1efe3076-6e71-62cd-8000-5a5dd925cf31', 'channel_values': {'messages': [HumanMessage(content=\"what's the weather in sf\", additional_kwargs={}, response_metadata={}, id='e49447b0-4f49-46cd-8090-4ac01884fcaa')], 'start:agent': '__start__'}, 'channel_versions': {'__start__': '00000000000000000000000000000002.0.7733061098791129', 'messages': '00000000000000000000000000000002.0.2548725603435049', 'start:agent': '00000000000000000000000000000002.0.8533122647204324'}, 'versions_seen': {'__input__': {}, '__start__': {'__start__': '00000000000000000000000000000001.0.15048960283780277'}}, 'pending_sends': []}, metadata={'source': 'loop', 'writes': None, 'thread_id': '2', 'step': 0, 'parents': {}}, parent_config=None, pending_writes=[('7fc6962e-82d2-b350-ea70-0cc9df568daf', 'messages', [AIMessage(content='', additional_kwargs={'tool_calls': [{'id': 'call_mUggnSjGorTQ5Q97AzwwXzfm', 'function': {'arguments': '{\"city\":\"sf\"}', 'name': 'get_weather'}, 'type': 'function'}], 'refusal': None}, response_metadata={'token_usage': {'completion_tokens': 15, 'prompt_tokens': 57, 'total_tokens': 72, 'completion_tokens_details': {'accepted_prediction_tokens': 0, 'audio_tokens': 0, 'reasoning_tokens': 0, 'rejected_prediction_tokens': 0}, 'prompt_tokens_details': {'audio_tokens': 0, 'cached_tokens': 0}}, 'model_name': 'gpt-4o-mini-2024-07-18', 'system_fingerprint': 'fp_72ed7ab54c', 'finish_reason': 'tool_calls', 'logprobs': None}, id='run-312172e9-1126-47b8-8796-8b8f5dcc8de4-0', tool_calls=[{'name': 'get_weather', 'args': {'city': 'sf'}, 'id': 'call_mUggnSjGorTQ5Q97AzwwXzfm', 'type': 'tool_call'}], usage_metadata={'input_tokens': 57, 'output_tokens': 15, 'total_tokens': 72, 'input_token_details': {'audio': 0, 'cache_read': 0}, 'output_token_details': {'audio': 0, 'reasoning': 0}})]), ('7fc6962e-82d2-b350-ea70-0cc9df568daf', 'agent', 'agent'), ('7fc6962e-82d2-b350-ea70-0cc9df568daf', 'branch:agent:should_continue:tools', 'agent')]),\n",
       " CheckpointTuple(config={'configurable': {'thread_id': '2', 'checkpoint_ns': '', 'checkpoint_id': '1efe3076-778f-68d9-8001-f8936ed7bb04'}}, checkpoint={'type': 'json', 'v': 1, 'ts': '2025-02-04T14:50:41.203184+00:00', 'id': '1efe3076-778f-68d9-8001-f8936ed7bb04', 'channel_values': {'messages': [HumanMessage(content=\"what's the weather in sf\", additional_kwargs={}, response_metadata={}, id='e49447b0-4f49-46cd-8090-4ac01884fcaa'), AIMessage(content='', additional_kwargs={'tool_calls': [{'id': 'call_mUggnSjGorTQ5Q97AzwwXzfm', 'function': {'arguments': '{\"city\":\"sf\"}', 'name': 'get_weather'}, 'type': 'function'}], 'refusal': None}, response_metadata={'token_usage': {'completion_tokens': 15, 'prompt_tokens': 57, 'total_tokens': 72, 'completion_tokens_details': {'accepted_prediction_tokens': 0, 'audio_tokens': 0, 'reasoning_tokens': 0, 'rejected_prediction_tokens': 0}, 'prompt_tokens_details': {'audio_tokens': 0, 'cached_tokens': 0}}, 'model_name': 'gpt-4o-mini-2024-07-18', 'system_fingerprint': 'fp_72ed7ab54c', 'finish_reason': 'tool_calls', 'logprobs': None}, id='run-312172e9-1126-47b8-8796-8b8f5dcc8de4-0', tool_calls=[{'name': 'get_weather', 'args': {'city': 'sf'}, 'id': 'call_mUggnSjGorTQ5Q97AzwwXzfm', 'type': 'tool_call'}], usage_metadata={'input_tokens': 57, 'output_tokens': 15, 'total_tokens': 72, 'input_token_details': {'audio': 0, 'cache_read': 0}, 'output_token_details': {'audio': 0, 'reasoning': 0}})], 'agent': 'agent', 'branch:agent:should_continue:tools': 'agent'}, 'channel_versions': {'__start__': '00000000000000000000000000000002.0.7733061098791129', 'messages': '00000000000000000000000000000003.0.7556483495659707', 'start:agent': '00000000000000000000000000000003.0.6481197393608337', 'agent': '00000000000000000000000000000003.0.9521773130033225', 'branch:agent:should_continue:tools': '00000000000000000000000000000003.0.11649221474266358'}, 'versions_seen': {'__input__': {}, '__start__': {'__start__': '00000000000000000000000000000001.0.15048960283780277'}, 'agent': {'start:agent': '00000000000000000000000000000002.0.8533122647204324'}}, 'pending_sends': []}, metadata={'source': 'loop', 'writes': {'agent': {'messages': [{'lc': 1, 'type': 'constructor', 'id': ['langchain', 'schema', 'messages', 'AIMessage'], 'kwargs': {'content': '', 'additional_kwargs': {'tool_calls': [{'id': 'call_mUggnSjGorTQ5Q97AzwwXzfm', 'function': {'arguments': '{\"city\":\"sf\"}', 'name': 'get_weather'}, 'type': 'function'}], 'refusal': None}, 'response_metadata': {'token_usage': {'completion_tokens': 15, 'prompt_tokens': 57, 'total_tokens': 72, 'completion_tokens_details': {'accepted_prediction_tokens': 0, 'audio_tokens': 0, 'reasoning_tokens': 0, 'rejected_prediction_tokens': 0}, 'prompt_tokens_details': {'audio_tokens': 0, 'cached_tokens': 0}}, 'model_name': 'gpt-4o-mini-2024-07-18', 'system_fingerprint': 'fp_72ed7ab54c', 'finish_reason': 'tool_calls', 'logprobs': None}, 'type': 'ai', 'id': 'run-312172e9-1126-47b8-8796-8b8f5dcc8de4-0', 'tool_calls': [{'name': 'get_weather', 'args': {'city': 'sf'}, 'id': 'call_mUggnSjGorTQ5Q97AzwwXzfm', 'type': 'tool_call'}], 'usage_metadata': {'input_tokens': 57, 'output_tokens': 15, 'total_tokens': 72, 'input_token_details': {'audio': 0, 'cache_read': 0}, 'output_token_details': {'audio': 0, 'reasoning': 0}}, 'invalid_tool_calls': []}}]}}, 'thread_id': '2', 'step': 1, 'parents': {}}, parent_config=None, pending_writes=[('447bb60c-f764-f685-22f6-5c11c4f59b86', 'messages', [ToolMessage(content=\"It's always sunny in sf\", name='get_weather', id='612daee9-1ea9-4ab7-86c4-182406e0ce27', tool_call_id='call_mUggnSjGorTQ5Q97AzwwXzfm')]), ('447bb60c-f764-f685-22f6-5c11c4f59b86', 'tools', 'tools')]),\n",
       " CheckpointTuple(config={'configurable': {'thread_id': '2', 'checkpoint_ns': '', 'checkpoint_id': '1efe3076-779a-6327-8002-03f9dcd95eab'}}, checkpoint={'type': 'json', 'v': 1, 'ts': '2025-02-04T14:50:41.207547+00:00', 'id': '1efe3076-779a-6327-8002-03f9dcd95eab', 'channel_values': {'messages': [HumanMessage(content=\"what's the weather in sf\", additional_kwargs={}, response_metadata={}, id='e49447b0-4f49-46cd-8090-4ac01884fcaa'), AIMessage(content='', additional_kwargs={'tool_calls': [{'id': 'call_mUggnSjGorTQ5Q97AzwwXzfm', 'function': {'arguments': '{\"city\":\"sf\"}', 'name': 'get_weather'}, 'type': 'function'}], 'refusal': None}, response_metadata={'token_usage': {'completion_tokens': 15, 'prompt_tokens': 57, 'total_tokens': 72, 'completion_tokens_details': {'accepted_prediction_tokens': 0, 'audio_tokens': 0, 'reasoning_tokens': 0, 'rejected_prediction_tokens': 0}, 'prompt_tokens_details': {'audio_tokens': 0, 'cached_tokens': 0}}, 'model_name': 'gpt-4o-mini-2024-07-18', 'system_fingerprint': 'fp_72ed7ab54c', 'finish_reason': 'tool_calls', 'logprobs': None}, id='run-312172e9-1126-47b8-8796-8b8f5dcc8de4-0', tool_calls=[{'name': 'get_weather', 'args': {'city': 'sf'}, 'id': 'call_mUggnSjGorTQ5Q97AzwwXzfm', 'type': 'tool_call'}], usage_metadata={'input_tokens': 57, 'output_tokens': 15, 'total_tokens': 72, 'input_token_details': {'audio': 0, 'cache_read': 0}, 'output_token_details': {'audio': 0, 'reasoning': 0}}), ToolMessage(content=\"It's always sunny in sf\", name='get_weather', id='612daee9-1ea9-4ab7-86c4-182406e0ce27', tool_call_id='call_mUggnSjGorTQ5Q97AzwwXzfm')], 'tools': 'tools'}, 'channel_versions': {'__start__': '00000000000000000000000000000002.0.7733061098791129', 'messages': '00000000000000000000000000000004.0.9732990865426869', 'start:agent': '00000000000000000000000000000003.0.6481197393608337', 'agent': '00000000000000000000000000000004.0.4574457426576788', 'branch:agent:should_continue:tools': '00000000000000000000000000000004.0.1743439430793714', 'tools': '00000000000000000000000000000004.0.21330231955100343'}, 'versions_seen': {'__input__': {}, '__start__': {'__start__': '00000000000000000000000000000001.0.15048960283780277'}, 'agent': {'start:agent': '00000000000000000000000000000002.0.8533122647204324'}, 'tools': {'branch:agent:should_continue:tools': '00000000000000000000000000000003.0.11649221474266358'}}, 'pending_sends': []}, metadata={'source': 'loop', 'writes': {'tools': {'messages': [{'lc': 1, 'type': 'constructor', 'id': ['langchain', 'schema', 'messages', 'ToolMessage'], 'kwargs': {'content': \"It's always sunny in sf\", 'type': 'tool', 'name': 'get_weather', 'id': '612daee9-1ea9-4ab7-86c4-182406e0ce27', 'tool_call_id': 'call_mUggnSjGorTQ5Q97AzwwXzfm', 'status': 'success'}}]}}, 'thread_id': '2', 'step': 2, 'parents': {}}, parent_config=None, pending_writes=[('035c4e3c-2663-09a1-325c-4f8ff6ad2e8f', 'messages', [AIMessage(content='The weather in San Francisco is always sunny!', additional_kwargs={'refusal': None}, response_metadata={'token_usage': {'completion_tokens': 11, 'prompt_tokens': 84, 'total_tokens': 95, 'completion_tokens_details': {'accepted_prediction_tokens': 0, 'audio_tokens': 0, 'reasoning_tokens': 0, 'rejected_prediction_tokens': 0}, 'prompt_tokens_details': {'audio_tokens': 0, 'cached_tokens': 0}}, 'model_name': 'gpt-4o-mini-2024-07-18', 'system_fingerprint': 'fp_72ed7ab54c', 'finish_reason': 'stop', 'logprobs': None}, id='run-9627883c-5b9c-4851-886f-0aa0ef1b7283-0', usage_metadata={'input_tokens': 84, 'output_tokens': 11, 'total_tokens': 95, 'input_token_details': {'audio': 0, 'cache_read': 0}, 'output_token_details': {'audio': 0, 'reasoning': 0}})]), ('035c4e3c-2663-09a1-325c-4f8ff6ad2e8f', 'agent', 'agent')]),\n",
       " CheckpointTuple(config={'configurable': {'thread_id': '2', 'checkpoint_ns': '', 'checkpoint_id': '1efe3076-7d4f-6266-8003-6bc641be583a'}}, checkpoint={'type': 'json', 'v': 1, 'ts': '2025-02-04T14:50:41.805945+00:00', 'id': '1efe3076-7d4f-6266-8003-6bc641be583a', 'channel_values': {'messages': [HumanMessage(content=\"what's the weather in sf\", additional_kwargs={}, response_metadata={}, id='e49447b0-4f49-46cd-8090-4ac01884fcaa'), AIMessage(content='', additional_kwargs={'tool_calls': [{'id': 'call_mUggnSjGorTQ5Q97AzwwXzfm', 'function': {'arguments': '{\"city\":\"sf\"}', 'name': 'get_weather'}, 'type': 'function'}], 'refusal': None}, response_metadata={'token_usage': {'completion_tokens': 15, 'prompt_tokens': 57, 'total_tokens': 72, 'completion_tokens_details': {'accepted_prediction_tokens': 0, 'audio_tokens': 0, 'reasoning_tokens': 0, 'rejected_prediction_tokens': 0}, 'prompt_tokens_details': {'audio_tokens': 0, 'cached_tokens': 0}}, 'model_name': 'gpt-4o-mini-2024-07-18', 'system_fingerprint': 'fp_72ed7ab54c', 'finish_reason': 'tool_calls', 'logprobs': None}, id='run-312172e9-1126-47b8-8796-8b8f5dcc8de4-0', tool_calls=[{'name': 'get_weather', 'args': {'city': 'sf'}, 'id': 'call_mUggnSjGorTQ5Q97AzwwXzfm', 'type': 'tool_call'}], usage_metadata={'input_tokens': 57, 'output_tokens': 15, 'total_tokens': 72, 'input_token_details': {'audio': 0, 'cache_read': 0}, 'output_token_details': {'audio': 0, 'reasoning': 0}}), ToolMessage(content=\"It's always sunny in sf\", name='get_weather', id='612daee9-1ea9-4ab7-86c4-182406e0ce27', tool_call_id='call_mUggnSjGorTQ5Q97AzwwXzfm'), AIMessage(content='The weather in San Francisco is always sunny!', additional_kwargs={'refusal': None}, response_metadata={'token_usage': {'completion_tokens': 11, 'prompt_tokens': 84, 'total_tokens': 95, 'completion_tokens_details': {'accepted_prediction_tokens': 0, 'audio_tokens': 0, 'reasoning_tokens': 0, 'rejected_prediction_tokens': 0}, 'prompt_tokens_details': {'audio_tokens': 0, 'cached_tokens': 0}}, 'model_name': 'gpt-4o-mini-2024-07-18', 'system_fingerprint': 'fp_72ed7ab54c', 'finish_reason': 'stop', 'logprobs': None}, id='run-9627883c-5b9c-4851-886f-0aa0ef1b7283-0', usage_metadata={'input_tokens': 84, 'output_tokens': 11, 'total_tokens': 95, 'input_token_details': {'audio': 0, 'cache_read': 0}, 'output_token_details': {'audio': 0, 'reasoning': 0}})], 'agent': 'agent'}, 'channel_versions': {'__start__': '00000000000000000000000000000002.0.7733061098791129', 'messages': '00000000000000000000000000000005.0.11588454065986797', 'start:agent': '00000000000000000000000000000003.0.6481197393608337', 'agent': '00000000000000000000000000000005.0.5343821419778879', 'branch:agent:should_continue:tools': '00000000000000000000000000000004.0.1743439430793714', 'tools': '00000000000000000000000000000005.0.13788679865745435'}, 'versions_seen': {'__input__': {}, '__start__': {'__start__': '00000000000000000000000000000001.0.15048960283780277'}, 'agent': {'start:agent': '00000000000000000000000000000002.0.8533122647204324', 'tools': '00000000000000000000000000000004.0.21330231955100343'}, 'tools': {'branch:agent:should_continue:tools': '00000000000000000000000000000003.0.11649221474266358'}}, 'pending_sends': []}, metadata={'source': 'loop', 'writes': {'agent': {'messages': [{'lc': 1, 'type': 'constructor', 'id': ['langchain', 'schema', 'messages', 'AIMessage'], 'kwargs': {'content': 'The weather in San Francisco is always sunny!', 'additional_kwargs': {'refusal': None}, 'response_metadata': {'token_usage': {'completion_tokens': 11, 'prompt_tokens': 84, 'total_tokens': 95, 'completion_tokens_details': {'accepted_prediction_tokens': 0, 'audio_tokens': 0, 'reasoning_tokens': 0, 'rejected_prediction_tokens': 0}, 'prompt_tokens_details': {'audio_tokens': 0, 'cached_tokens': 0}}, 'model_name': 'gpt-4o-mini-2024-07-18', 'system_fingerprint': 'fp_72ed7ab54c', 'finish_reason': 'stop', 'logprobs': None}, 'type': 'ai', 'id': 'run-9627883c-5b9c-4851-886f-0aa0ef1b7283-0', 'usage_metadata': {'input_tokens': 84, 'output_tokens': 11, 'total_tokens': 95, 'input_token_details': {'audio': 0, 'cache_read': 0}, 'output_token_details': {'audio': 0, 'reasoning': 0}}, 'tool_calls': [], 'invalid_tool_calls': []}}]}}, 'thread_id': '2', 'step': 3, 'parents': {}}, parent_config=None, pending_writes=[])]"
      ]
     },
     "execution_count": 11,
     "metadata": {},
     "output_type": "execute_result"
    }
   ],
   "source": [
    "checkpoint_tuples = list(checkpointer.list(config))\n",
    "checkpoint_tuples"
   ]
  },
  {
   "cell_type": "markdown",
   "id": "c0a47d3e-e588-48fc-a5d4-2145dff17e77",
   "metadata": {},
   "source": [
    "## Use async connection\n",
    "\n",
    "This sets up an asynchronous connection to the database. \n",
    "\n",
    "Async connections allow non-blocking database operations. This means other parts of your application can continue running while waiting for database operations to complete. It's particularly useful in high-concurrency scenarios or when dealing with I/O-bound operations."
   ]
  },
  {
   "cell_type": "code",
   "execution_count": 12,
   "id": "4faf6087-73cc-4957-9a4f-f3509a32a740",
   "metadata": {},
   "outputs": [
    {
     "name": "stdout",
     "output_type": "stream",
     "text": [
      "14:50:41 redisvl.index.index INFO   Index already exists, not overwriting.\n",
      "14:50:41 redisvl.index.index INFO   Index already exists, not overwriting.\n",
      "14:50:41 redisvl.index.index INFO   Index already exists, not overwriting.\n"
     ]
    }
   ],
   "source": [
    "from langgraph.checkpoint.redis.aio import AsyncRedisSaver\n",
    "\n",
    "async with AsyncRedisSaver.from_conn_string(REDIS_URI) as checkpointer:\n",
    "    # NOTE: you need to call .setup() the first time you're using your checkpointer\n",
    "    await checkpointer.asetup()\n",
    "\n",
    "    graph = create_react_agent(model, tools=tools, checkpointer=checkpointer)\n",
    "    config = {\"configurable\": {\"thread_id\": \"4\"}}\n",
    "    res = await graph.ainvoke(\n",
    "        {\"messages\": [(\"human\", \"what's the weather in nyc\")]}, config\n",
    "    )\n",
    "\n",
    "    checkpoint = await checkpointer.aget(config)\n",
    "    checkpoint_tuple = await checkpointer.aget_tuple(config)\n",
    "    checkpoint_tuples = [c async for c in checkpointer.alist(config)]"
   ]
  },
  {
   "cell_type": "code",
   "execution_count": 13,
   "id": "e0c42044-4de6-4742-8e00-fe295d50c95a",
   "metadata": {},
   "outputs": [
    {
     "data": {
      "text/plain": [
       "{'type': 'json',\n",
       " 'v': 1,\n",
       " 'ts': '2025-02-04T14:50:44.156243+00:00',\n",
       " 'id': '1efe3076-93b9-6299-8003-1c23bc4a7784',\n",
       " 'channel_values': {'messages': [HumanMessage(content=\"what's the weather in nyc\", additional_kwargs={}, response_metadata={}, id='04549846-9a7d-40d9-aee3-e3fd34a7f5d8'),\n",
       "   AIMessage(content='', additional_kwargs={'tool_calls': [{'id': 'call_0JgOs4FlXVlPOPNn1gtzlS89', 'function': {'arguments': '{\"city\":\"nyc\"}', 'name': 'get_weather'}, 'type': 'function'}], 'refusal': None}, response_metadata={'token_usage': {'completion_tokens': 16, 'prompt_tokens': 58, 'total_tokens': 74, 'completion_tokens_details': {'accepted_prediction_tokens': 0, 'audio_tokens': 0, 'reasoning_tokens': 0, 'rejected_prediction_tokens': 0}, 'prompt_tokens_details': {'audio_tokens': 0, 'cached_tokens': 0}}, 'model_name': 'gpt-4o-mini-2024-07-18', 'system_fingerprint': 'fp_72ed7ab54c', 'finish_reason': 'tool_calls', 'logprobs': None}, id='run-144a2e8d-e1b9-402f-bcaa-63bded726078-0', tool_calls=[{'name': 'get_weather', 'args': {'city': 'nyc'}, 'id': 'call_0JgOs4FlXVlPOPNn1gtzlS89', 'type': 'tool_call'}], usage_metadata={'input_tokens': 58, 'output_tokens': 16, 'total_tokens': 74, 'input_token_details': {'audio': 0, 'cache_read': 0}, 'output_token_details': {'audio': 0, 'reasoning': 0}}),\n",
       "   ToolMessage(content='It might be cloudy in nyc', name='get_weather', id='0a61fa36-35c4-4547-93b9-ab63bd5bc550', tool_call_id='call_0JgOs4FlXVlPOPNn1gtzlS89'),\n",
       "   AIMessage(content='The weather in NYC might be cloudy.', additional_kwargs={'refusal': None}, response_metadata={'token_usage': {'completion_tokens': 10, 'prompt_tokens': 88, 'total_tokens': 98, 'completion_tokens_details': {'accepted_prediction_tokens': 0, 'audio_tokens': 0, 'reasoning_tokens': 0, 'rejected_prediction_tokens': 0}, 'prompt_tokens_details': {'audio_tokens': 0, 'cached_tokens': 0}}, 'model_name': 'gpt-4o-mini-2024-07-18', 'system_fingerprint': 'fp_72ed7ab54c', 'finish_reason': 'stop', 'logprobs': None}, id='run-e9dd4b77-1bb4-483c-8c00-a78b7e3b75aa-0', usage_metadata={'input_tokens': 88, 'output_tokens': 10, 'total_tokens': 98, 'input_token_details': {'audio': 0, 'cache_read': 0}, 'output_token_details': {'audio': 0, 'reasoning': 0}})],\n",
       "  'agent': 'agent'},\n",
       " 'channel_versions': {'__start__': '00000000000000000000000000000002.0.1387675313892135',\n",
       "  'messages': '00000000000000000000000000000005.0.44195569419331193',\n",
       "  'start:agent': '00000000000000000000000000000003.0.40302360354117184',\n",
       "  'agent': '00000000000000000000000000000005.0.8025939444104118',\n",
       "  'branch:agent:should_continue:tools': '00000000000000000000000000000004.0.9962784465456894',\n",
       "  'tools': '00000000000000000000000000000005.0.4977754773924551'},\n",
       " 'versions_seen': {'__input__': {},\n",
       "  '__start__': {'__start__': '00000000000000000000000000000001.0.37688935776347043'},\n",
       "  'agent': {'start:agent': '00000000000000000000000000000002.0.005055937078722539',\n",
       "   'tools': '00000000000000000000000000000004.0.05474967171538636'},\n",
       "  'tools': {'branch:agent:should_continue:tools': '00000000000000000000000000000003.0.517131015522013'}},\n",
       " 'pending_sends': []}"
      ]
     },
     "execution_count": 13,
     "metadata": {},
     "output_type": "execute_result"
    }
   ],
   "source": [
    "checkpoint"
   ]
  },
  {
   "cell_type": "code",
   "execution_count": 14,
   "id": "d1ed1344-c923-4a46-b04e-cc3646737d48",
   "metadata": {},
   "outputs": [
    {
     "data": {
      "text/plain": [
       "CheckpointTuple(config={'configurable': {'thread_id': '4', 'checkpoint_ns': '', 'checkpoint_id': '1efe3076-93b9-6299-8003-1c23bc4a7784'}}, checkpoint={'type': 'json', 'v': 1, 'ts': '2025-02-04T14:50:44.156243+00:00', 'id': '1efe3076-93b9-6299-8003-1c23bc4a7784', 'channel_values': {'messages': [HumanMessage(content=\"what's the weather in nyc\", additional_kwargs={}, response_metadata={}, id='04549846-9a7d-40d9-aee3-e3fd34a7f5d8'), AIMessage(content='', additional_kwargs={'tool_calls': [{'id': 'call_0JgOs4FlXVlPOPNn1gtzlS89', 'function': {'arguments': '{\"city\":\"nyc\"}', 'name': 'get_weather'}, 'type': 'function'}], 'refusal': None}, response_metadata={'token_usage': {'completion_tokens': 16, 'prompt_tokens': 58, 'total_tokens': 74, 'completion_tokens_details': {'accepted_prediction_tokens': 0, 'audio_tokens': 0, 'reasoning_tokens': 0, 'rejected_prediction_tokens': 0}, 'prompt_tokens_details': {'audio_tokens': 0, 'cached_tokens': 0}}, 'model_name': 'gpt-4o-mini-2024-07-18', 'system_fingerprint': 'fp_72ed7ab54c', 'finish_reason': 'tool_calls', 'logprobs': None}, id='run-144a2e8d-e1b9-402f-bcaa-63bded726078-0', tool_calls=[{'name': 'get_weather', 'args': {'city': 'nyc'}, 'id': 'call_0JgOs4FlXVlPOPNn1gtzlS89', 'type': 'tool_call'}], usage_metadata={'input_tokens': 58, 'output_tokens': 16, 'total_tokens': 74, 'input_token_details': {'audio': 0, 'cache_read': 0}, 'output_token_details': {'audio': 0, 'reasoning': 0}}), ToolMessage(content='It might be cloudy in nyc', name='get_weather', id='0a61fa36-35c4-4547-93b9-ab63bd5bc550', tool_call_id='call_0JgOs4FlXVlPOPNn1gtzlS89'), AIMessage(content='The weather in NYC might be cloudy.', additional_kwargs={'refusal': None}, response_metadata={'token_usage': {'completion_tokens': 10, 'prompt_tokens': 88, 'total_tokens': 98, 'completion_tokens_details': {'accepted_prediction_tokens': 0, 'audio_tokens': 0, 'reasoning_tokens': 0, 'rejected_prediction_tokens': 0}, 'prompt_tokens_details': {'audio_tokens': 0, 'cached_tokens': 0}}, 'model_name': 'gpt-4o-mini-2024-07-18', 'system_fingerprint': 'fp_72ed7ab54c', 'finish_reason': 'stop', 'logprobs': None}, id='run-e9dd4b77-1bb4-483c-8c00-a78b7e3b75aa-0', usage_metadata={'input_tokens': 88, 'output_tokens': 10, 'total_tokens': 98, 'input_token_details': {'audio': 0, 'cache_read': 0}, 'output_token_details': {'audio': 0, 'reasoning': 0}})], 'agent': 'agent'}, 'channel_versions': {'__start__': '00000000000000000000000000000002.0.1387675313892135', 'messages': '00000000000000000000000000000005.0.44195569419331193', 'start:agent': '00000000000000000000000000000003.0.40302360354117184', 'agent': '00000000000000000000000000000005.0.8025939444104118', 'branch:agent:should_continue:tools': '00000000000000000000000000000004.0.9962784465456894', 'tools': '00000000000000000000000000000005.0.4977754773924551'}, 'versions_seen': {'__input__': {}, '__start__': {'__start__': '00000000000000000000000000000001.0.37688935776347043'}, 'agent': {'start:agent': '00000000000000000000000000000002.0.005055937078722539', 'tools': '00000000000000000000000000000004.0.05474967171538636'}, 'tools': {'branch:agent:should_continue:tools': '00000000000000000000000000000003.0.517131015522013'}}, 'pending_sends': []}, metadata={'source': 'loop', 'writes': {'agent': {'messages': [{'lc': 1, 'type': 'constructor', 'id': ['langchain', 'schema', 'messages', 'AIMessage'], 'kwargs': {'content': 'The weather in NYC might be cloudy.', 'additional_kwargs': {'refusal': None}, 'response_metadata': {'token_usage': {'completion_tokens': 10, 'prompt_tokens': 88, 'total_tokens': 98, 'completion_tokens_details': {'accepted_prediction_tokens': 0, 'audio_tokens': 0, 'reasoning_tokens': 0, 'rejected_prediction_tokens': 0}, 'prompt_tokens_details': {'audio_tokens': 0, 'cached_tokens': 0}}, 'model_name': 'gpt-4o-mini-2024-07-18', 'system_fingerprint': 'fp_72ed7ab54c', 'finish_reason': 'stop', 'logprobs': None}, 'type': 'ai', 'id': 'run-e9dd4b77-1bb4-483c-8c00-a78b7e3b75aa-0', 'usage_metadata': {'input_tokens': 88, 'output_tokens': 10, 'total_tokens': 98, 'input_token_details': {'audio': 0, 'cache_read': 0}, 'output_token_details': {'audio': 0, 'reasoning': 0}}, 'tool_calls': [], 'invalid_tool_calls': []}}]}}, 'thread_id': '4', 'step': 3, 'parents': {}}, parent_config=None, pending_writes=[])"
      ]
     },
     "execution_count": 14,
     "metadata": {},
     "output_type": "execute_result"
    }
   ],
   "source": [
    "checkpoint_tuple"
   ]
  },
  {
   "cell_type": "code",
   "execution_count": 15,
   "id": "2b6d73ca-519e-45f7-90c2-1b8596624505",
   "metadata": {},
   "outputs": [
    {
     "data": {
      "text/plain": [
       "[CheckpointTuple(config={'configurable': {'thread_id': '4', 'checkpoint_ns': '', 'checkpoint_id': '1efe3076-7dc8-6f18-bfff-e117ab8033a3'}}, checkpoint={'type': 'json', 'v': 1, 'ts': '2025-02-04T14:50:41.855868+00:00', 'id': '1efe3076-7dc8-6f18-bfff-e117ab8033a3', 'channel_values': {'__start__': {'messages': [['human', \"what's the weather in nyc\"]]}}, 'channel_versions': {'__start__': '00000000000000000000000000000001.0.37688935776347043'}, 'versions_seen': {'__input__': {}}, 'pending_sends': []}, metadata={'source': 'input', 'writes': {'__start__': {'messages': [['human', \"what's the weather in nyc\"]]}}, 'thread_id': '4', 'step': -1, 'parents': {}}, parent_config=None, pending_writes=[('a88ef875-9fc3-ad3b-5b69-b5b7a8c18b78', 'messages', [['human', \"what's the weather in nyc\"]]), ('a88ef875-9fc3-ad3b-5b69-b5b7a8c18b78', 'start:agent', '__start__')]),\n",
       " CheckpointTuple(config={'configurable': {'thread_id': '4', 'checkpoint_ns': '', 'checkpoint_id': '1efe3076-7dcb-658b-8000-2c2b36012519'}}, checkpoint={'type': 'json', 'v': 1, 'ts': '2025-02-04T14:50:41.856851+00:00', 'id': '1efe3076-7dcb-658b-8000-2c2b36012519', 'channel_values': {'messages': [HumanMessage(content=\"what's the weather in nyc\", additional_kwargs={}, response_metadata={}, id='04549846-9a7d-40d9-aee3-e3fd34a7f5d8')], 'start:agent': '__start__'}, 'channel_versions': {'__start__': '00000000000000000000000000000002.0.1387675313892135', 'messages': '00000000000000000000000000000002.0.5399383965758183', 'start:agent': '00000000000000000000000000000002.0.005055937078722539'}, 'versions_seen': {'__input__': {}, '__start__': {'__start__': '00000000000000000000000000000001.0.37688935776347043'}}, 'pending_sends': []}, metadata={'source': 'loop', 'writes': None, 'thread_id': '4', 'step': 0, 'parents': {}}, parent_config=None, pending_writes=[('b8032476-e8d5-38ef-90d6-f73565149e9b', 'messages', [AIMessage(content='', additional_kwargs={'tool_calls': [{'id': 'call_0JgOs4FlXVlPOPNn1gtzlS89', 'function': {'arguments': '{\"city\":\"nyc\"}', 'name': 'get_weather'}, 'type': 'function'}], 'refusal': None}, response_metadata={'token_usage': {'completion_tokens': 16, 'prompt_tokens': 58, 'total_tokens': 74, 'completion_tokens_details': {'accepted_prediction_tokens': 0, 'audio_tokens': 0, 'reasoning_tokens': 0, 'rejected_prediction_tokens': 0}, 'prompt_tokens_details': {'audio_tokens': 0, 'cached_tokens': 0}}, 'model_name': 'gpt-4o-mini-2024-07-18', 'system_fingerprint': 'fp_72ed7ab54c', 'finish_reason': 'tool_calls', 'logprobs': None}, id='run-144a2e8d-e1b9-402f-bcaa-63bded726078-0', tool_calls=[{'name': 'get_weather', 'args': {'city': 'nyc'}, 'id': 'call_0JgOs4FlXVlPOPNn1gtzlS89', 'type': 'tool_call'}], usage_metadata={'input_tokens': 58, 'output_tokens': 16, 'total_tokens': 74, 'input_token_details': {'audio': 0, 'cache_read': 0}, 'output_token_details': {'audio': 0, 'reasoning': 0}})]), ('b8032476-e8d5-38ef-90d6-f73565149e9b', 'agent', 'agent'), ('b8032476-e8d5-38ef-90d6-f73565149e9b', 'branch:agent:should_continue:tools', 'agent')]),\n",
       " CheckpointTuple(config={'configurable': {'thread_id': '4', 'checkpoint_ns': '', 'checkpoint_id': '1efe3076-88b3-6848-8001-9efe0d70f16e'}}, checkpoint={'type': 'json', 'v': 1, 'ts': '2025-02-04T14:50:43.000507+00:00', 'id': '1efe3076-88b3-6848-8001-9efe0d70f16e', 'channel_values': {'messages': [HumanMessage(content=\"what's the weather in nyc\", additional_kwargs={}, response_metadata={}, id='04549846-9a7d-40d9-aee3-e3fd34a7f5d8'), AIMessage(content='', additional_kwargs={'tool_calls': [{'id': 'call_0JgOs4FlXVlPOPNn1gtzlS89', 'function': {'arguments': '{\"city\":\"nyc\"}', 'name': 'get_weather'}, 'type': 'function'}], 'refusal': None}, response_metadata={'token_usage': {'completion_tokens': 16, 'prompt_tokens': 58, 'total_tokens': 74, 'completion_tokens_details': {'accepted_prediction_tokens': 0, 'audio_tokens': 0, 'reasoning_tokens': 0, 'rejected_prediction_tokens': 0}, 'prompt_tokens_details': {'audio_tokens': 0, 'cached_tokens': 0}}, 'model_name': 'gpt-4o-mini-2024-07-18', 'system_fingerprint': 'fp_72ed7ab54c', 'finish_reason': 'tool_calls', 'logprobs': None}, id='run-144a2e8d-e1b9-402f-bcaa-63bded726078-0', tool_calls=[{'name': 'get_weather', 'args': {'city': 'nyc'}, 'id': 'call_0JgOs4FlXVlPOPNn1gtzlS89', 'type': 'tool_call'}], usage_metadata={'input_tokens': 58, 'output_tokens': 16, 'total_tokens': 74, 'input_token_details': {'audio': 0, 'cache_read': 0}, 'output_token_details': {'audio': 0, 'reasoning': 0}})], 'agent': 'agent', 'branch:agent:should_continue:tools': 'agent'}, 'channel_versions': {'__start__': '00000000000000000000000000000002.0.1387675313892135', 'messages': '00000000000000000000000000000003.0.14463833409184945', 'start:agent': '00000000000000000000000000000003.0.40302360354117184', 'agent': '00000000000000000000000000000003.0.8071264744497758', 'branch:agent:should_continue:tools': '00000000000000000000000000000003.0.517131015522013'}, 'versions_seen': {'__input__': {}, '__start__': {'__start__': '00000000000000000000000000000001.0.37688935776347043'}, 'agent': {'start:agent': '00000000000000000000000000000002.0.005055937078722539'}}, 'pending_sends': []}, metadata={'source': 'loop', 'writes': {'agent': {'messages': [{'lc': 1, 'type': 'constructor', 'id': ['langchain', 'schema', 'messages', 'AIMessage'], 'kwargs': {'content': '', 'additional_kwargs': {'tool_calls': [{'id': 'call_0JgOs4FlXVlPOPNn1gtzlS89', 'function': {'arguments': '{\"city\":\"nyc\"}', 'name': 'get_weather'}, 'type': 'function'}], 'refusal': None}, 'response_metadata': {'token_usage': {'completion_tokens': 16, 'prompt_tokens': 58, 'total_tokens': 74, 'completion_tokens_details': {'accepted_prediction_tokens': 0, 'audio_tokens': 0, 'reasoning_tokens': 0, 'rejected_prediction_tokens': 0}, 'prompt_tokens_details': {'audio_tokens': 0, 'cached_tokens': 0}}, 'model_name': 'gpt-4o-mini-2024-07-18', 'system_fingerprint': 'fp_72ed7ab54c', 'finish_reason': 'tool_calls', 'logprobs': None}, 'type': 'ai', 'id': 'run-144a2e8d-e1b9-402f-bcaa-63bded726078-0', 'tool_calls': [{'name': 'get_weather', 'args': {'city': 'nyc'}, 'id': 'call_0JgOs4FlXVlPOPNn1gtzlS89', 'type': 'tool_call'}], 'usage_metadata': {'input_tokens': 58, 'output_tokens': 16, 'total_tokens': 74, 'input_token_details': {'audio': 0, 'cache_read': 0}, 'output_token_details': {'audio': 0, 'reasoning': 0}}, 'invalid_tool_calls': []}}]}}, 'thread_id': '4', 'step': 1, 'parents': {}}, parent_config=None, pending_writes=[('4183af5d-1ab7-85ed-e041-a318dc482a1a', 'messages', [ToolMessage(content='It might be cloudy in nyc', name='get_weather', id='0a61fa36-35c4-4547-93b9-ab63bd5bc550', tool_call_id='call_0JgOs4FlXVlPOPNn1gtzlS89')]), ('4183af5d-1ab7-85ed-e041-a318dc482a1a', 'tools', 'tools')]),\n",
       " CheckpointTuple(config={'configurable': {'thread_id': '4', 'checkpoint_ns': '', 'checkpoint_id': '1efe3076-88c0-6806-8002-e6179815f9d3'}}, checkpoint={'type': 'json', 'v': 1, 'ts': '2025-02-04T14:50:43.005824+00:00', 'id': '1efe3076-88c0-6806-8002-e6179815f9d3', 'channel_values': {'messages': [HumanMessage(content=\"what's the weather in nyc\", additional_kwargs={}, response_metadata={}, id='04549846-9a7d-40d9-aee3-e3fd34a7f5d8'), AIMessage(content='', additional_kwargs={'tool_calls': [{'id': 'call_0JgOs4FlXVlPOPNn1gtzlS89', 'function': {'arguments': '{\"city\":\"nyc\"}', 'name': 'get_weather'}, 'type': 'function'}], 'refusal': None}, response_metadata={'token_usage': {'completion_tokens': 16, 'prompt_tokens': 58, 'total_tokens': 74, 'completion_tokens_details': {'accepted_prediction_tokens': 0, 'audio_tokens': 0, 'reasoning_tokens': 0, 'rejected_prediction_tokens': 0}, 'prompt_tokens_details': {'audio_tokens': 0, 'cached_tokens': 0}}, 'model_name': 'gpt-4o-mini-2024-07-18', 'system_fingerprint': 'fp_72ed7ab54c', 'finish_reason': 'tool_calls', 'logprobs': None}, id='run-144a2e8d-e1b9-402f-bcaa-63bded726078-0', tool_calls=[{'name': 'get_weather', 'args': {'city': 'nyc'}, 'id': 'call_0JgOs4FlXVlPOPNn1gtzlS89', 'type': 'tool_call'}], usage_metadata={'input_tokens': 58, 'output_tokens': 16, 'total_tokens': 74, 'input_token_details': {'audio': 0, 'cache_read': 0}, 'output_token_details': {'audio': 0, 'reasoning': 0}}), ToolMessage(content='It might be cloudy in nyc', name='get_weather', id='0a61fa36-35c4-4547-93b9-ab63bd5bc550', tool_call_id='call_0JgOs4FlXVlPOPNn1gtzlS89')], 'tools': 'tools'}, 'channel_versions': {'__start__': '00000000000000000000000000000002.0.1387675313892135', 'messages': '00000000000000000000000000000004.0.963404963854201', 'start:agent': '00000000000000000000000000000003.0.40302360354117184', 'agent': '00000000000000000000000000000004.0.8163677125657045', 'branch:agent:should_continue:tools': '00000000000000000000000000000004.0.9962784465456894', 'tools': '00000000000000000000000000000004.0.05474967171538636'}, 'versions_seen': {'__input__': {}, '__start__': {'__start__': '00000000000000000000000000000001.0.37688935776347043'}, 'agent': {'start:agent': '00000000000000000000000000000002.0.005055937078722539'}, 'tools': {'branch:agent:should_continue:tools': '00000000000000000000000000000003.0.517131015522013'}}, 'pending_sends': []}, metadata={'source': 'loop', 'writes': {'tools': {'messages': [{'lc': 1, 'type': 'constructor', 'id': ['langchain', 'schema', 'messages', 'ToolMessage'], 'kwargs': {'content': 'It might be cloudy in nyc', 'type': 'tool', 'name': 'get_weather', 'id': '0a61fa36-35c4-4547-93b9-ab63bd5bc550', 'tool_call_id': 'call_0JgOs4FlXVlPOPNn1gtzlS89', 'status': 'success'}}]}}, 'thread_id': '4', 'step': 2, 'parents': {}}, parent_config=None, pending_writes=[('7cd73f63-00b9-9dc2-f476-137a21552444', 'messages', [AIMessage(content='The weather in NYC might be cloudy.', additional_kwargs={'refusal': None}, response_metadata={'token_usage': {'completion_tokens': 10, 'prompt_tokens': 88, 'total_tokens': 98, 'completion_tokens_details': {'accepted_prediction_tokens': 0, 'audio_tokens': 0, 'reasoning_tokens': 0, 'rejected_prediction_tokens': 0}, 'prompt_tokens_details': {'audio_tokens': 0, 'cached_tokens': 0}}, 'model_name': 'gpt-4o-mini-2024-07-18', 'system_fingerprint': 'fp_72ed7ab54c', 'finish_reason': 'stop', 'logprobs': None}, id='run-e9dd4b77-1bb4-483c-8c00-a78b7e3b75aa-0', usage_metadata={'input_tokens': 88, 'output_tokens': 10, 'total_tokens': 98, 'input_token_details': {'audio': 0, 'cache_read': 0}, 'output_token_details': {'audio': 0, 'reasoning': 0}})]), ('7cd73f63-00b9-9dc2-f476-137a21552444', 'agent', 'agent')]),\n",
       " CheckpointTuple(config={'configurable': {'thread_id': '4', 'checkpoint_ns': '', 'checkpoint_id': '1efe3076-93b9-6299-8003-1c23bc4a7784'}}, checkpoint={'type': 'json', 'v': 1, 'ts': '2025-02-04T14:50:44.156243+00:00', 'id': '1efe3076-93b9-6299-8003-1c23bc4a7784', 'channel_values': {'messages': [HumanMessage(content=\"what's the weather in nyc\", additional_kwargs={}, response_metadata={}, id='04549846-9a7d-40d9-aee3-e3fd34a7f5d8'), AIMessage(content='', additional_kwargs={'tool_calls': [{'id': 'call_0JgOs4FlXVlPOPNn1gtzlS89', 'function': {'arguments': '{\"city\":\"nyc\"}', 'name': 'get_weather'}, 'type': 'function'}], 'refusal': None}, response_metadata={'token_usage': {'completion_tokens': 16, 'prompt_tokens': 58, 'total_tokens': 74, 'completion_tokens_details': {'accepted_prediction_tokens': 0, 'audio_tokens': 0, 'reasoning_tokens': 0, 'rejected_prediction_tokens': 0}, 'prompt_tokens_details': {'audio_tokens': 0, 'cached_tokens': 0}}, 'model_name': 'gpt-4o-mini-2024-07-18', 'system_fingerprint': 'fp_72ed7ab54c', 'finish_reason': 'tool_calls', 'logprobs': None}, id='run-144a2e8d-e1b9-402f-bcaa-63bded726078-0', tool_calls=[{'name': 'get_weather', 'args': {'city': 'nyc'}, 'id': 'call_0JgOs4FlXVlPOPNn1gtzlS89', 'type': 'tool_call'}], usage_metadata={'input_tokens': 58, 'output_tokens': 16, 'total_tokens': 74, 'input_token_details': {'audio': 0, 'cache_read': 0}, 'output_token_details': {'audio': 0, 'reasoning': 0}}), ToolMessage(content='It might be cloudy in nyc', name='get_weather', id='0a61fa36-35c4-4547-93b9-ab63bd5bc550', tool_call_id='call_0JgOs4FlXVlPOPNn1gtzlS89'), AIMessage(content='The weather in NYC might be cloudy.', additional_kwargs={'refusal': None}, response_metadata={'token_usage': {'completion_tokens': 10, 'prompt_tokens': 88, 'total_tokens': 98, 'completion_tokens_details': {'accepted_prediction_tokens': 0, 'audio_tokens': 0, 'reasoning_tokens': 0, 'rejected_prediction_tokens': 0}, 'prompt_tokens_details': {'audio_tokens': 0, 'cached_tokens': 0}}, 'model_name': 'gpt-4o-mini-2024-07-18', 'system_fingerprint': 'fp_72ed7ab54c', 'finish_reason': 'stop', 'logprobs': None}, id='run-e9dd4b77-1bb4-483c-8c00-a78b7e3b75aa-0', usage_metadata={'input_tokens': 88, 'output_tokens': 10, 'total_tokens': 98, 'input_token_details': {'audio': 0, 'cache_read': 0}, 'output_token_details': {'audio': 0, 'reasoning': 0}})], 'agent': 'agent'}, 'channel_versions': {'__start__': '00000000000000000000000000000002.0.1387675313892135', 'messages': '00000000000000000000000000000005.0.44195569419331193', 'start:agent': '00000000000000000000000000000003.0.40302360354117184', 'agent': '00000000000000000000000000000005.0.8025939444104118', 'branch:agent:should_continue:tools': '00000000000000000000000000000004.0.9962784465456894', 'tools': '00000000000000000000000000000005.0.4977754773924551'}, 'versions_seen': {'__input__': {}, '__start__': {'__start__': '00000000000000000000000000000001.0.37688935776347043'}, 'agent': {'start:agent': '00000000000000000000000000000002.0.005055937078722539', 'tools': '00000000000000000000000000000004.0.05474967171538636'}, 'tools': {'branch:agent:should_continue:tools': '00000000000000000000000000000003.0.517131015522013'}}, 'pending_sends': []}, metadata={'source': 'loop', 'writes': {'agent': {'messages': [{'lc': 1, 'type': 'constructor', 'id': ['langchain', 'schema', 'messages', 'AIMessage'], 'kwargs': {'content': 'The weather in NYC might be cloudy.', 'additional_kwargs': {'refusal': None}, 'response_metadata': {'token_usage': {'completion_tokens': 10, 'prompt_tokens': 88, 'total_tokens': 98, 'completion_tokens_details': {'accepted_prediction_tokens': 0, 'audio_tokens': 0, 'reasoning_tokens': 0, 'rejected_prediction_tokens': 0}, 'prompt_tokens_details': {'audio_tokens': 0, 'cached_tokens': 0}}, 'model_name': 'gpt-4o-mini-2024-07-18', 'system_fingerprint': 'fp_72ed7ab54c', 'finish_reason': 'stop', 'logprobs': None}, 'type': 'ai', 'id': 'run-e9dd4b77-1bb4-483c-8c00-a78b7e3b75aa-0', 'usage_metadata': {'input_tokens': 88, 'output_tokens': 10, 'total_tokens': 98, 'input_token_details': {'audio': 0, 'cache_read': 0}, 'output_token_details': {'audio': 0, 'reasoning': 0}}, 'tool_calls': [], 'invalid_tool_calls': []}}]}}, 'thread_id': '4', 'step': 3, 'parents': {}}, parent_config=None, pending_writes=[])]"
      ]
     },
     "execution_count": 15,
     "metadata": {},
     "output_type": "execute_result"
    }
   ],
   "source": [
    "checkpoint_tuples"
   ]
  }
 ],
 "metadata": {
  "kernelspec": {
   "display_name": "Python 3 (ipykernel)",
   "language": "python",
   "name": "python3"
  },
  "language_info": {
   "codemirror_mode": {
    "name": "ipython",
    "version": 3
   },
   "file_extension": ".py",
   "mimetype": "text/x-python",
   "name": "python",
   "nbconvert_exporter": "python",
   "pygments_lexer": "ipython3",
   "version": "3.11.11"
  }
 },
 "nbformat": 4,
 "nbformat_minor": 5
}
