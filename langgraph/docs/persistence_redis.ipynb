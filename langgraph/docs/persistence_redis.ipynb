{
 "cells": [
  {
   "cell_type": "markdown",
   "id": "51466c8d-8ce4-4b3d-be4e-18fdbeda5f53",
   "metadata": {},
   "source": [
    "# How to use the Redis checkpointer for persistence\n",
    "\n",
    "<div class=\"admonition tip\">\n",
    "    <p class=\"admonition-title\">Prerequisites</p>\n",
    "    <p>\n",
    "        This guide assumes familiarity with the following:\n",
    "        <ul>\n",
    "            <li>\n",
    "                <a href=\"https://langchain-ai.github.io/langgraph/concepts/persistence/\">\n",
    "                    Persistence\n",
    "                </a>\n",
    "            </li>       \n",
    "            <li>\n",
    "                <a href=\"https://www.redis.io/\">\n",
    "                    Redis\n",
    "                </a>\n",
    "            </li>        \n",
    "        </ul>\n",
    "    </p>\n",
    "</div> \n",
    "\n",
    "When creating LangGraph agents, you can also set them up so that they persist their state. This allows you to do things like interact with an agent multiple times and have it remember previous interactions.\n",
    "\n",
    "This how-to guide shows how to use `Redis` as the backend for persisting checkpoint state using the [`langgraph-checkpoint-redis`](https://github.com/redis-developer/langgraph-redis) library.\n",
    "\n",
    "For demonstration purposes we add persistence to the [pre-built create react agent](https://langchain-ai.github.io/langgraph/reference/prebuilt/#langgraph.prebuilt.chat_agent_executor.create_react_agent). \n",
    "\n",
    "In general, you can add a checkpointer to any custom graph that you build like this:\n",
    "\n",
    "```python\n",
    "from langgraph.graph import StateGraph\n",
    "\n",
    "builder = StateGraph(....)\n",
    "# ... define the graph\n",
    "checkpointer = # postgres checkpointer (see examples below)\n",
    "graph = builder.compile(checkpointer=checkpointer)\n",
    "...\n",
    "```\n",
    "\n",
    "!!! info \"Setup\"\n",
    "    You need to run `.setup()` once on your checkpointer to initialize the database before you can use it."
   ]
  },
  {
   "cell_type": "markdown",
   "id": "456fa19c-93a5-4750-a410-f2d810b964ad",
   "metadata": {},
   "source": [
    "## Setup\n",
    "\n",
    "First, let's install the required dependencies and ensure we have a Redis instance running.\n",
    "\n",
    "Ensure you have a Redis server running. You can start one using Docker with:\n",
    "\n",
    "```\n",
    "docker run -d -p 6379:6379 redis:latest\n",
    "```\n",
    "\n",
    "Or install and run Redis locally according to your operating system's instructions."
   ]
  },
  {
   "cell_type": "code",
   "execution_count": 1,
   "id": "330e2d96-2dde-4cee-9f7d-6755c5579535",
   "metadata": {},
   "outputs": [
    {
     "name": "stdout",
     "output_type": "stream",
     "text": [
      "langgraph-checkpoint-redis: langgraph-checkpoint-redis_v0.0.1\n"
     ]
    }
   ],
   "source": [
    "# ruff: noqa: T201, I001, E501\n",
    "from langgraph.checkpoint.redis import __lib_name__\n",
    "\n",
    "print(f\"langgraph-checkpoint-redis: {__lib_name__}\")"
   ]
  },
  {
   "cell_type": "markdown",
   "id": "ee3b5fbf-f3e0-4755-9e21-bdff180832a4",
   "metadata": {},
   "source": [
    "Next, let's install the required packages and set our API keys"
   ]
  },
  {
   "cell_type": "code",
   "execution_count": 2,
   "id": "faadfb1b-cebe-4dcf-82fd-34044c380bc4",
   "metadata": {},
   "outputs": [],
   "source": [
    "%%capture --no-stderr\n",
    "%pip install -U langgraph langchain-openai\n",
    "# %pip install -U langgraph-checkpoint-redis - already installed"
   ]
  },
  {
   "cell_type": "code",
   "execution_count": 3,
   "id": "eca9aafb-a155-407a-8036-682a2f1297d7",
   "metadata": {},
   "outputs": [
    {
     "name": "stdin",
     "output_type": "stream",
     "text": [
      "OPENAI_API_KEY:  ········\n"
     ]
    }
   ],
   "source": [
    "import getpass\n",
    "import os\n",
    "\n",
    "\n",
    "def _set_env(var: str):\n",
    "    if not os.environ.get(var):\n",
    "        os.environ[var] = getpass.getpass(f\"{var}: \")\n",
    "\n",
    "\n",
    "_set_env(\"OPENAI_API_KEY\")"
   ]
  },
  {
   "cell_type": "markdown",
   "id": "b394e26c",
   "metadata": {},
   "source": [
    "<div class=\"admonition tip\">\n",
    "    <p class=\"admonition-title\">Set up <a href=\"https://smith.langchain.com\">LangSmith</a> for LangGraph development</p>\n",
    "    <p style=\"padding-top: 5px;\">\n",
    "        Sign up for LangSmith to quickly spot issues and improve the performance of your LangGraph projects. LangSmith lets you use trace data to debug, test, and monitor your LLM apps built with LangGraph — read more about how to get started <a href=\"https://docs.smith.langchain.com\">here</a>. \n",
    "    </p>\n",
    "</div>"
   ]
  },
  {
   "cell_type": "markdown",
   "id": "e26b3204-cca2-414c-800e-7e09032445ae",
   "metadata": {},
   "source": [
    "## Define model and tools for the graph"
   ]
  },
  {
   "cell_type": "code",
   "execution_count": 4,
   "id": "e5213193-5a7d-43e7-aeba-fe732bb1cd7a",
   "metadata": {},
   "outputs": [],
   "source": [
    "from typing import Literal\n",
    "\n",
    "from langchain_core.tools import tool\n",
    "from langchain_openai import ChatOpenAI\n",
    "from langgraph.prebuilt import create_react_agent\n",
    "from langgraph.checkpoint.redis import RedisSaver\n",
    "\n",
    "\n",
    "@tool\n",
    "def get_weather(city: Literal[\"nyc\", \"sf\"]):\n",
    "    \"\"\"Use this to get weather information.\"\"\"\n",
    "    if city == \"nyc\":\n",
    "        return \"It might be cloudy in nyc\"\n",
    "    elif city == \"sf\":\n",
    "        return \"It's always sunny in sf\"\n",
    "    else:\n",
    "        raise AssertionError(\"Unknown city\")\n",
    "\n",
    "\n",
    "tools = [get_weather]\n",
    "model = ChatOpenAI(model_name=\"gpt-4o-mini\", temperature=0)"
   ]
  },
  {
   "cell_type": "markdown",
   "id": "e9342c62-dbb4-40f6-9271-7393f1ca48c4",
   "metadata": {},
   "source": [
    "## Use sync connection\n",
    "\n",
    "This sets up a synchronous connection to the database. \n",
    "\n",
    "Synchronous connections execute operations in a blocking manner, meaning each operation waits for completion before moving to the next one. The `REDIS_URI` is the Redis database connection URI:"
   ]
  },
  {
   "cell_type": "code",
   "execution_count": 5,
   "id": "2b9d13b1-9d72-48a0-b63a-adc062c06c29",
   "metadata": {},
   "outputs": [],
   "source": [
    "REDIS_URI = \"redis://redis:6379\""
   ]
  },
  {
   "cell_type": "markdown",
   "id": "e39fc712-9e1c-4831-9077-dd07b0c13594",
   "metadata": {},
   "source": [
    "### With a connection string\n",
    "\n",
    "This manages create a Redis client internal to the saver: \n"
   ]
  },
  {
   "cell_type": "code",
   "execution_count": 6,
   "id": "bd235fc7-1e5c-4db6-a90b-ea75462ccf7d",
   "metadata": {},
   "outputs": [],
   "source": [
    "with RedisSaver.from_conn_string(REDIS_URI) as checkpointer:\n",
    "    # NOTE: you need to call .setup() the first time you're using your checkpointer\n",
    "    checkpointer.setup()\n",
    "\n",
    "    graph = create_react_agent(model, tools=tools, checkpointer=checkpointer)\n",
    "    config = {\"configurable\": {\"thread_id\": \"1\"}}\n",
    "    res = graph.invoke({\"messages\": [(\"human\", \"what's the weather in sf\")]}, config)\n",
    "    checkpoint = checkpointer.get(config)"
   ]
  },
  {
   "cell_type": "markdown",
   "id": "ebb59926-bf7b-4481-ae72-6a67d3b826bf",
   "metadata": {},
   "source": [
    "#### Examine the response"
   ]
  },
  {
   "cell_type": "code",
   "execution_count": 7,
   "id": "a7e0e7ec-a675-470b-9270-e4bdc59d4a4d",
   "metadata": {},
   "outputs": [
    {
     "data": {
      "text/plain": [
       "{'messages': [HumanMessage(content=\"what's the weather in sf\", additional_kwargs={}, response_metadata={}, id='92a57aaf-0fd8-4e4c-aaee-715cd88c78cf'),\n",
       "  AIMessage(content='', additional_kwargs={'tool_calls': [{'id': 'call_6Rqi6L0zJqGsAHHEMeAhrehi', 'function': {'arguments': '{\"city\":\"sf\"}', 'name': 'get_weather'}, 'type': 'function'}], 'refusal': None}, response_metadata={'token_usage': {'completion_tokens': 15, 'prompt_tokens': 57, 'total_tokens': 72, 'completion_tokens_details': {'accepted_prediction_tokens': 0, 'audio_tokens': 0, 'reasoning_tokens': 0, 'rejected_prediction_tokens': 0}, 'prompt_tokens_details': {'audio_tokens': 0, 'cached_tokens': 0}}, 'model_name': 'gpt-4o-mini-2024-07-18', 'system_fingerprint': 'fp_72ed7ab54c', 'finish_reason': 'tool_calls', 'logprobs': None}, id='run-457f356c-81b0-4da3-91da-b8f5b6a37f61-0', tool_calls=[{'name': 'get_weather', 'args': {'city': 'sf'}, 'id': 'call_6Rqi6L0zJqGsAHHEMeAhrehi', 'type': 'tool_call'}], usage_metadata={'input_tokens': 57, 'output_tokens': 15, 'total_tokens': 72, 'input_token_details': {'audio': 0, 'cache_read': 0}, 'output_token_details': {'audio': 0, 'reasoning': 0}}),\n",
       "  ToolMessage(content=\"It's always sunny in sf\", name='get_weather', id='b1f9012d-a25c-436b-a5dc-18a444307c3c', tool_call_id='call_6Rqi6L0zJqGsAHHEMeAhrehi'),\n",
       "  AIMessage(content='The weather in San Francisco is always sunny!', additional_kwargs={'refusal': None}, response_metadata={'token_usage': {'completion_tokens': 11, 'prompt_tokens': 84, 'total_tokens': 95, 'completion_tokens_details': {'accepted_prediction_tokens': 0, 'audio_tokens': 0, 'reasoning_tokens': 0, 'rejected_prediction_tokens': 0}, 'prompt_tokens_details': {'audio_tokens': 0, 'cached_tokens': 0}}, 'model_name': 'gpt-4o-mini-2024-07-18', 'system_fingerprint': 'fp_72ed7ab54c', 'finish_reason': 'stop', 'logprobs': None}, id='run-c58776f4-902b-42d8-bd63-b39b47757446-0', usage_metadata={'input_tokens': 84, 'output_tokens': 11, 'total_tokens': 95, 'input_token_details': {'audio': 0, 'cache_read': 0}, 'output_token_details': {'audio': 0, 'reasoning': 0}})]}"
      ]
     },
     "execution_count": 7,
     "metadata": {},
     "output_type": "execute_result"
    }
   ],
   "source": [
    "res"
   ]
  },
  {
   "cell_type": "markdown",
   "id": "bd183588-b0c0-4aa6-a38a-ddd91683f8c3",
   "metadata": {},
   "source": [
    "#### Examine the last checkpoint"
   ]
  },
  {
   "cell_type": "code",
   "execution_count": 8,
   "id": "96efd8b2-97c9-4207-83b2-00131723a75a",
   "metadata": {},
   "outputs": [],
   "source": [
    "checkpoint"
   ]
  },
  {
   "cell_type": "markdown",
   "id": "967c95c7-e392-4819-bd71-f29e91c68df3",
   "metadata": {},
   "source": [
    "### Bring your own client\n",
    "\n",
    "You can pass a Redis client directly to the RedisSaver using the `redis_client` parameter:"
   ]
  },
  {
   "cell_type": "code",
   "execution_count": 9,
   "id": "180d6daf-8fa7-4608-bd2e-bfbf44ed5836",
   "metadata": {},
   "outputs": [],
   "source": [
    "from redis import Redis\n",
    "\n",
    "client = Redis.from_url(REDIS_URI)\n",
    "\n",
    "with RedisSaver.from_conn_string(redis_client=client) as checkpointer:\n",
    "    # NOTE: you need to call .setup() the first time you're using your checkpointer\n",
    "    # checkpointer.setup()\n",
    "    graph = create_react_agent(model, tools=tools, checkpointer=checkpointer)\n",
    "    config = {\"configurable\": {\"thread_id\": \"2\"}}\n",
    "    res = graph.invoke({\"messages\": [(\"human\", \"what's the weather in sf\")]}, config)\n",
    "\n",
    "    checkpoint_tuple = checkpointer.get_tuple(config)"
   ]
  },
  {
   "cell_type": "markdown",
   "id": "aa066eac-7c19-40d7-94af-2e715d00278c",
   "metadata": {},
   "source": [
    "#### Retrieve a tuple containing a checkpoint and its associated data"
   ]
  },
  {
   "cell_type": "code",
   "execution_count": 10,
   "id": "613d0bbc-0e38-45c4-aace-1f6f7ae27c7b",
   "metadata": {},
   "outputs": [],
   "source": [
    "checkpoint_tuple"
   ]
  },
  {
   "cell_type": "markdown",
   "id": "6e6e1619-ab3e-4d08-918b-c25cfe9518dd",
   "metadata": {},
   "source": [
    "#### Retrieve all the checkpoint tuples"
   ]
  },
  {
   "cell_type": "code",
   "execution_count": 11,
   "id": "b2ce743b-5896-443b-9ec0-a655b065895c",
   "metadata": {},
   "outputs": [
    {
     "data": {
      "text/plain": [
       "[CheckpointTuple(config={'configurable': {'thread_id': '2', 'checkpoint_ns': '', 'checkpoint_id': '1efe32f3-f419-68a8-bfff-79467feba228'}}, checkpoint={'type': 'json', 'v': 1, 'ts': '2025-02-04T19:35:53.600619+00:00', 'id': '1efe32f3-f419-68a8-bfff-79467feba228', 'channel_values': {'__start__': {'messages': [['human', \"what's the weather in sf\"]]}}, 'channel_versions': {'__start__': '00000000000000000000000000000001.0.8132658908381585'}, 'versions_seen': {'__input__': {}}, 'pending_sends': []}, metadata={'source': 'input', 'writes': {'__start__': {'messages': [['human', \"what's the weather in sf\"]]}}, 'thread_id': '2', 'step': -1, 'parents': {}}, parent_config=None, pending_writes=[('8f177dde-16a5-c002-12f8-43d52de3a2bc', 'messages', [['human', \"what's the weather in sf\"]]), ('8f177dde-16a5-c002-12f8-43d52de3a2bc', 'start:agent', '__start__')]),\n",
       " CheckpointTuple(config={'configurable': {'thread_id': '2', 'checkpoint_ns': '', 'checkpoint_id': '1efe32f3-f41c-6d74-8000-66a2bcf9ab77'}}, checkpoint={'type': 'json', 'v': 1, 'ts': '2025-02-04T19:35:53.601972+00:00', 'id': '1efe32f3-f41c-6d74-8000-66a2bcf9ab77', 'channel_values': {'messages': [HumanMessage(content=\"what's the weather in sf\", additional_kwargs={}, response_metadata={}, id='0a67656e-01df-42cc-9221-ba0ffef5c2d1')], 'start:agent': '__start__'}, 'channel_versions': {'__start__': '00000000000000000000000000000002.0.4212068305755119', 'messages': '00000000000000000000000000000002.0.7493166419141271', 'start:agent': '00000000000000000000000000000002.0.8843759558054323'}, 'versions_seen': {'__input__': {}, '__start__': {'__start__': '00000000000000000000000000000001.0.8132658908381585'}}, 'pending_sends': []}, metadata={'source': 'loop', 'writes': None, 'thread_id': '2', 'step': 0, 'parents': {}}, parent_config=None, pending_writes=[('d4d0b575-819e-f756-8aa7-03279d130389', 'messages', [AIMessage(content='', additional_kwargs={'tool_calls': [{'id': 'call_92HJ2MgBpFcA9qC3BkwVC2Bn', 'function': {'arguments': '{\"city\":\"sf\"}', 'name': 'get_weather'}, 'type': 'function'}], 'refusal': None}, response_metadata={'token_usage': {'completion_tokens': 15, 'prompt_tokens': 57, 'total_tokens': 72, 'completion_tokens_details': {'accepted_prediction_tokens': 0, 'audio_tokens': 0, 'reasoning_tokens': 0, 'rejected_prediction_tokens': 0}, 'prompt_tokens_details': {'audio_tokens': 0, 'cached_tokens': 0}}, 'model_name': 'gpt-4o-mini-2024-07-18', 'system_fingerprint': 'fp_bd83329f63', 'finish_reason': 'tool_calls', 'logprobs': None}, id='run-b41fce22-19c2-4a17-a81f-8f3a36e679aa-0', tool_calls=[{'name': 'get_weather', 'args': {'city': 'sf'}, 'id': 'call_92HJ2MgBpFcA9qC3BkwVC2Bn', 'type': 'tool_call'}], usage_metadata={'input_tokens': 57, 'output_tokens': 15, 'total_tokens': 72, 'input_token_details': {'audio': 0, 'cache_read': 0}, 'output_token_details': {'audio': 0, 'reasoning': 0}})]), ('d4d0b575-819e-f756-8aa7-03279d130389', 'agent', 'agent'), ('d4d0b575-819e-f756-8aa7-03279d130389', 'branch:agent:should_continue:tools', 'agent')]),\n",
       " CheckpointTuple(config={'configurable': {'thread_id': '2', 'checkpoint_ns': '', 'checkpoint_id': '1efe32f4-0275-6012-8001-8d7bae22de83'}}, checkpoint={'type': 'json', 'v': 1, 'ts': '2025-02-04T19:35:55.106065+00:00', 'id': '1efe32f4-0275-6012-8001-8d7bae22de83', 'channel_values': {'messages': [HumanMessage(content=\"what's the weather in sf\", additional_kwargs={}, response_metadata={}, id='0a67656e-01df-42cc-9221-ba0ffef5c2d1'), AIMessage(content='', additional_kwargs={'tool_calls': [{'id': 'call_92HJ2MgBpFcA9qC3BkwVC2Bn', 'function': {'arguments': '{\"city\":\"sf\"}', 'name': 'get_weather'}, 'type': 'function'}], 'refusal': None}, response_metadata={'token_usage': {'completion_tokens': 15, 'prompt_tokens': 57, 'total_tokens': 72, 'completion_tokens_details': {'accepted_prediction_tokens': 0, 'audio_tokens': 0, 'reasoning_tokens': 0, 'rejected_prediction_tokens': 0}, 'prompt_tokens_details': {'audio_tokens': 0, 'cached_tokens': 0}}, 'model_name': 'gpt-4o-mini-2024-07-18', 'system_fingerprint': 'fp_bd83329f63', 'finish_reason': 'tool_calls', 'logprobs': None}, id='run-b41fce22-19c2-4a17-a81f-8f3a36e679aa-0', tool_calls=[{'name': 'get_weather', 'args': {'city': 'sf'}, 'id': 'call_92HJ2MgBpFcA9qC3BkwVC2Bn', 'type': 'tool_call'}], usage_metadata={'input_tokens': 57, 'output_tokens': 15, 'total_tokens': 72, 'input_token_details': {'audio': 0, 'cache_read': 0}, 'output_token_details': {'audio': 0, 'reasoning': 0}})], 'agent': 'agent', 'branch:agent:should_continue:tools': 'agent'}, 'channel_versions': {'__start__': '00000000000000000000000000000002.0.4212068305755119', 'messages': '00000000000000000000000000000003.0.09741697468460842', 'start:agent': '00000000000000000000000000000003.0.7046308014058774', 'agent': '00000000000000000000000000000003.0.6066491420702625', 'branch:agent:should_continue:tools': '00000000000000000000000000000003.0.08120128452475128'}, 'versions_seen': {'__input__': {}, '__start__': {'__start__': '00000000000000000000000000000001.0.8132658908381585'}, 'agent': {'start:agent': '00000000000000000000000000000002.0.8843759558054323'}}, 'pending_sends': []}, metadata={'source': 'loop', 'writes': {'agent': {'messages': [{'lc': 1, 'type': 'constructor', 'id': ['langchain', 'schema', 'messages', 'AIMessage'], 'kwargs': {'content': '', 'additional_kwargs': {'tool_calls': [{'id': 'call_92HJ2MgBpFcA9qC3BkwVC2Bn', 'function': {'arguments': '{\"city\":\"sf\"}', 'name': 'get_weather'}, 'type': 'function'}], 'refusal': None}, 'response_metadata': {'token_usage': {'completion_tokens': 15, 'prompt_tokens': 57, 'total_tokens': 72, 'completion_tokens_details': {'accepted_prediction_tokens': 0, 'audio_tokens': 0, 'reasoning_tokens': 0, 'rejected_prediction_tokens': 0}, 'prompt_tokens_details': {'audio_tokens': 0, 'cached_tokens': 0}}, 'model_name': 'gpt-4o-mini-2024-07-18', 'system_fingerprint': 'fp_bd83329f63', 'finish_reason': 'tool_calls', 'logprobs': None}, 'type': 'ai', 'id': 'run-b41fce22-19c2-4a17-a81f-8f3a36e679aa-0', 'tool_calls': [{'name': 'get_weather', 'args': {'city': 'sf'}, 'id': 'call_92HJ2MgBpFcA9qC3BkwVC2Bn', 'type': 'tool_call'}], 'usage_metadata': {'input_tokens': 57, 'output_tokens': 15, 'total_tokens': 72, 'input_token_details': {'audio': 0, 'cache_read': 0}, 'output_token_details': {'audio': 0, 'reasoning': 0}}, 'invalid_tool_calls': []}}]}}, 'thread_id': '2', 'step': 1, 'parents': {}}, parent_config=None, pending_writes=[('92da0b25-eede-948a-645b-5e8067b93901', 'messages', [ToolMessage(content=\"It's always sunny in sf\", name='get_weather', id='b61c2ced-08b3-411f-925a-7e39f5ac0c7b', tool_call_id='call_92HJ2MgBpFcA9qC3BkwVC2Bn')]), ('92da0b25-eede-948a-645b-5e8067b93901', 'tools', 'tools')]),\n",
       " CheckpointTuple(config={'configurable': {'thread_id': '2', 'checkpoint_ns': '', 'checkpoint_id': '1efe32f4-027e-65e4-8002-0ef3b524f70c'}}, checkpoint={'type': 'json', 'v': 1, 'ts': '2025-02-04T19:35:55.109907+00:00', 'id': '1efe32f4-027e-65e4-8002-0ef3b524f70c', 'channel_values': {'messages': [HumanMessage(content=\"what's the weather in sf\", additional_kwargs={}, response_metadata={}, id='0a67656e-01df-42cc-9221-ba0ffef5c2d1'), AIMessage(content='', additional_kwargs={'tool_calls': [{'id': 'call_92HJ2MgBpFcA9qC3BkwVC2Bn', 'function': {'arguments': '{\"city\":\"sf\"}', 'name': 'get_weather'}, 'type': 'function'}], 'refusal': None}, response_metadata={'token_usage': {'completion_tokens': 15, 'prompt_tokens': 57, 'total_tokens': 72, 'completion_tokens_details': {'accepted_prediction_tokens': 0, 'audio_tokens': 0, 'reasoning_tokens': 0, 'rejected_prediction_tokens': 0}, 'prompt_tokens_details': {'audio_tokens': 0, 'cached_tokens': 0}}, 'model_name': 'gpt-4o-mini-2024-07-18', 'system_fingerprint': 'fp_bd83329f63', 'finish_reason': 'tool_calls', 'logprobs': None}, id='run-b41fce22-19c2-4a17-a81f-8f3a36e679aa-0', tool_calls=[{'name': 'get_weather', 'args': {'city': 'sf'}, 'id': 'call_92HJ2MgBpFcA9qC3BkwVC2Bn', 'type': 'tool_call'}], usage_metadata={'input_tokens': 57, 'output_tokens': 15, 'total_tokens': 72, 'input_token_details': {'audio': 0, 'cache_read': 0}, 'output_token_details': {'audio': 0, 'reasoning': 0}}), ToolMessage(content=\"It's always sunny in sf\", name='get_weather', id='b61c2ced-08b3-411f-925a-7e39f5ac0c7b', tool_call_id='call_92HJ2MgBpFcA9qC3BkwVC2Bn')], 'tools': 'tools'}, 'channel_versions': {'__start__': '00000000000000000000000000000002.0.4212068305755119', 'messages': '00000000000000000000000000000004.0.6137320046825878', 'start:agent': '00000000000000000000000000000003.0.7046308014058774', 'agent': '00000000000000000000000000000004.0.2539561237928193', 'branch:agent:should_continue:tools': '00000000000000000000000000000004.0.7580903550958455', 'tools': '00000000000000000000000000000004.0.9881719162793727'}, 'versions_seen': {'__input__': {}, '__start__': {'__start__': '00000000000000000000000000000001.0.8132658908381585'}, 'agent': {'start:agent': '00000000000000000000000000000002.0.8843759558054323'}, 'tools': {'branch:agent:should_continue:tools': '00000000000000000000000000000003.0.08120128452475128'}}, 'pending_sends': []}, metadata={'source': 'loop', 'writes': {'tools': {'messages': [{'lc': 1, 'type': 'constructor', 'id': ['langchain', 'schema', 'messages', 'ToolMessage'], 'kwargs': {'content': \"It's always sunny in sf\", 'type': 'tool', 'name': 'get_weather', 'id': 'b61c2ced-08b3-411f-925a-7e39f5ac0c7b', 'tool_call_id': 'call_92HJ2MgBpFcA9qC3BkwVC2Bn', 'status': 'success'}}]}}, 'thread_id': '2', 'step': 2, 'parents': {}}, parent_config=None, pending_writes=[('29cbcd91-1c09-4c89-43a9-b745265b5519', 'messages', [AIMessage(content='The weather in San Francisco is always sunny!', additional_kwargs={'refusal': None}, response_metadata={'token_usage': {'completion_tokens': 11, 'prompt_tokens': 84, 'total_tokens': 95, 'completion_tokens_details': {'accepted_prediction_tokens': 0, 'audio_tokens': 0, 'reasoning_tokens': 0, 'rejected_prediction_tokens': 0}, 'prompt_tokens_details': {'audio_tokens': 0, 'cached_tokens': 0}}, 'model_name': 'gpt-4o-mini-2024-07-18', 'system_fingerprint': 'fp_72ed7ab54c', 'finish_reason': 'stop', 'logprobs': None}, id='run-45026796-3c16-4d7a-b43d-6afb869f7033-0', usage_metadata={'input_tokens': 84, 'output_tokens': 11, 'total_tokens': 95, 'input_token_details': {'audio': 0, 'cache_read': 0}, 'output_token_details': {'audio': 0, 'reasoning': 0}})]), ('29cbcd91-1c09-4c89-43a9-b745265b5519', 'agent', 'agent')]),\n",
       " CheckpointTuple(config={'configurable': {'thread_id': '2', 'checkpoint_ns': '', 'checkpoint_id': '1efe32f4-0b6a-61d8-8003-3550479d0f95'}}, checkpoint={'type': 'json', 'v': 1, 'ts': '2025-02-04T19:35:56.045243+00:00', 'id': '1efe32f4-0b6a-61d8-8003-3550479d0f95', 'channel_values': {'messages': [HumanMessage(content=\"what's the weather in sf\", additional_kwargs={}, response_metadata={}, id='0a67656e-01df-42cc-9221-ba0ffef5c2d1'), AIMessage(content='', additional_kwargs={'tool_calls': [{'id': 'call_92HJ2MgBpFcA9qC3BkwVC2Bn', 'function': {'arguments': '{\"city\":\"sf\"}', 'name': 'get_weather'}, 'type': 'function'}], 'refusal': None}, response_metadata={'token_usage': {'completion_tokens': 15, 'prompt_tokens': 57, 'total_tokens': 72, 'completion_tokens_details': {'accepted_prediction_tokens': 0, 'audio_tokens': 0, 'reasoning_tokens': 0, 'rejected_prediction_tokens': 0}, 'prompt_tokens_details': {'audio_tokens': 0, 'cached_tokens': 0}}, 'model_name': 'gpt-4o-mini-2024-07-18', 'system_fingerprint': 'fp_bd83329f63', 'finish_reason': 'tool_calls', 'logprobs': None}, id='run-b41fce22-19c2-4a17-a81f-8f3a36e679aa-0', tool_calls=[{'name': 'get_weather', 'args': {'city': 'sf'}, 'id': 'call_92HJ2MgBpFcA9qC3BkwVC2Bn', 'type': 'tool_call'}], usage_metadata={'input_tokens': 57, 'output_tokens': 15, 'total_tokens': 72, 'input_token_details': {'audio': 0, 'cache_read': 0}, 'output_token_details': {'audio': 0, 'reasoning': 0}}), ToolMessage(content=\"It's always sunny in sf\", name='get_weather', id='b61c2ced-08b3-411f-925a-7e39f5ac0c7b', tool_call_id='call_92HJ2MgBpFcA9qC3BkwVC2Bn'), AIMessage(content='The weather in San Francisco is always sunny!', additional_kwargs={'refusal': None}, response_metadata={'token_usage': {'completion_tokens': 11, 'prompt_tokens': 84, 'total_tokens': 95, 'completion_tokens_details': {'accepted_prediction_tokens': 0, 'audio_tokens': 0, 'reasoning_tokens': 0, 'rejected_prediction_tokens': 0}, 'prompt_tokens_details': {'audio_tokens': 0, 'cached_tokens': 0}}, 'model_name': 'gpt-4o-mini-2024-07-18', 'system_fingerprint': 'fp_72ed7ab54c', 'finish_reason': 'stop', 'logprobs': None}, id='run-45026796-3c16-4d7a-b43d-6afb869f7033-0', usage_metadata={'input_tokens': 84, 'output_tokens': 11, 'total_tokens': 95, 'input_token_details': {'audio': 0, 'cache_read': 0}, 'output_token_details': {'audio': 0, 'reasoning': 0}})], 'agent': 'agent'}, 'channel_versions': {'__start__': '00000000000000000000000000000002.0.4212068305755119', 'messages': '00000000000000000000000000000005.0.5938877096913094', 'start:agent': '00000000000000000000000000000003.0.7046308014058774', 'agent': '00000000000000000000000000000005.0.49774395583702613', 'branch:agent:should_continue:tools': '00000000000000000000000000000004.0.7580903550958455', 'tools': '00000000000000000000000000000005.0.1076149781750626'}, 'versions_seen': {'__input__': {}, '__start__': {'__start__': '00000000000000000000000000000001.0.8132658908381585'}, 'agent': {'start:agent': '00000000000000000000000000000002.0.8843759558054323', 'tools': '00000000000000000000000000000004.0.9881719162793727'}, 'tools': {'branch:agent:should_continue:tools': '00000000000000000000000000000003.0.08120128452475128'}}, 'pending_sends': []}, metadata={'source': 'loop', 'writes': {'agent': {'messages': [{'lc': 1, 'type': 'constructor', 'id': ['langchain', 'schema', 'messages', 'AIMessage'], 'kwargs': {'content': 'The weather in San Francisco is always sunny!', 'additional_kwargs': {'refusal': None}, 'response_metadata': {'token_usage': {'completion_tokens': 11, 'prompt_tokens': 84, 'total_tokens': 95, 'completion_tokens_details': {'accepted_prediction_tokens': 0, 'audio_tokens': 0, 'reasoning_tokens': 0, 'rejected_prediction_tokens': 0}, 'prompt_tokens_details': {'audio_tokens': 0, 'cached_tokens': 0}}, 'model_name': 'gpt-4o-mini-2024-07-18', 'system_fingerprint': 'fp_72ed7ab54c', 'finish_reason': 'stop', 'logprobs': None}, 'type': 'ai', 'id': 'run-45026796-3c16-4d7a-b43d-6afb869f7033-0', 'usage_metadata': {'input_tokens': 84, 'output_tokens': 11, 'total_tokens': 95, 'input_token_details': {'audio': 0, 'cache_read': 0}, 'output_token_details': {'audio': 0, 'reasoning': 0}}, 'tool_calls': [], 'invalid_tool_calls': []}}]}}, 'thread_id': '2', 'step': 3, 'parents': {}}, parent_config=None, pending_writes=[])]"
      ]
     },
     "execution_count": 11,
     "metadata": {},
     "output_type": "execute_result"
    }
   ],
   "source": [
    "checkpoint_tuples = list(checkpointer.list(config))\n",
    "checkpoint_tuples"
   ]
  },
  {
   "cell_type": "markdown",
   "id": "c0a47d3e-e588-48fc-a5d4-2145dff17e77",
   "metadata": {},
   "source": [
    "## Use async connection\n",
    "\n",
    "This sets up an asynchronous connection to the database. \n",
    "\n",
    "Async connections allow non-blocking database operations. This means other parts of your application can continue running while waiting for database operations to complete. It's particularly useful in high-concurrency scenarios or when dealing with I/O-bound operations."
   ]
  },
  {
   "cell_type": "code",
   "execution_count": 12,
   "id": "4faf6087-73cc-4957-9a4f-f3509a32a740",
   "metadata": {},
   "outputs": [
    {
     "name": "stdout",
     "output_type": "stream",
     "text": [
      "19:35:56 redisvl.index.index INFO   Index already exists, not overwriting.\n",
      "19:35:56 redisvl.index.index INFO   Index already exists, not overwriting.\n",
      "19:35:56 redisvl.index.index INFO   Index already exists, not overwriting.\n"
     ]
    }
   ],
   "source": [
    "from langgraph.checkpoint.redis.aio import AsyncRedisSaver\n",
    "\n",
    "async with AsyncRedisSaver.from_conn_string(REDIS_URI) as checkpointer:\n",
    "    # NOTE: you need to call .setup() the first time you're using your checkpointer\n",
    "    await checkpointer.asetup()\n",
    "\n",
    "    graph = create_react_agent(model, tools=tools, checkpointer=checkpointer)\n",
    "    config = {\"configurable\": {\"thread_id\": \"4\"}}\n",
    "    res = await graph.ainvoke(\n",
    "        {\"messages\": [(\"human\", \"what's the weather in nyc\")]}, config\n",
    "    )\n",
    "\n",
    "    checkpoint = await checkpointer.aget(config)\n",
    "    checkpoint_tuple = await checkpointer.aget_tuple(config)\n",
    "    checkpoint_tuples = [c async for c in checkpointer.alist(config)]"
   ]
  },
  {
   "cell_type": "code",
   "execution_count": 13,
   "id": "e0c42044-4de6-4742-8e00-fe295d50c95a",
   "metadata": {},
   "outputs": [
    {
     "data": {
      "text/plain": [
       "{'type': 'json',\n",
       " 'v': 1,\n",
       " 'ts': '2025-02-04T19:35:58.617303+00:00',\n",
       " 'id': '1efe32f4-23f1-658d-8003-bbde492186f5',\n",
       " 'channel_values': {'messages': [HumanMessage(content=\"what's the weather in nyc\", additional_kwargs={}, response_metadata={}, id='16f5a776-d246-41fc-820a-20827c034a71'),\n",
       "   AIMessage(content='', additional_kwargs={'tool_calls': [{'id': 'call_zlRT5aioEXiJzTBup8d38ky1', 'function': {'arguments': '{\"city\":\"nyc\"}', 'name': 'get_weather'}, 'type': 'function'}], 'refusal': None}, response_metadata={'token_usage': {'completion_tokens': 16, 'prompt_tokens': 58, 'total_tokens': 74, 'completion_tokens_details': {'accepted_prediction_tokens': 0, 'audio_tokens': 0, 'reasoning_tokens': 0, 'rejected_prediction_tokens': 0}, 'prompt_tokens_details': {'audio_tokens': 0, 'cached_tokens': 0}}, 'model_name': 'gpt-4o-mini-2024-07-18', 'system_fingerprint': 'fp_bd83329f63', 'finish_reason': 'tool_calls', 'logprobs': None}, id='run-dc9a2b30-4888-4e30-8522-0326d1d77032-0', tool_calls=[{'name': 'get_weather', 'args': {'city': 'nyc'}, 'id': 'call_zlRT5aioEXiJzTBup8d38ky1', 'type': 'tool_call'}], usage_metadata={'input_tokens': 58, 'output_tokens': 16, 'total_tokens': 74, 'input_token_details': {'audio': 0, 'cache_read': 0}, 'output_token_details': {'audio': 0, 'reasoning': 0}}),\n",
       "   ToolMessage(content='It might be cloudy in nyc', name='get_weather', id='d354213f-ae64-47a0-b56d-56ec0f040877', tool_call_id='call_zlRT5aioEXiJzTBup8d38ky1'),\n",
       "   AIMessage(content='The weather in NYC might be cloudy.', additional_kwargs={'refusal': None}, response_metadata={'token_usage': {'completion_tokens': 10, 'prompt_tokens': 88, 'total_tokens': 98, 'completion_tokens_details': {'accepted_prediction_tokens': 0, 'audio_tokens': 0, 'reasoning_tokens': 0, 'rejected_prediction_tokens': 0}, 'prompt_tokens_details': {'audio_tokens': 0, 'cached_tokens': 0}}, 'model_name': 'gpt-4o-mini-2024-07-18', 'system_fingerprint': 'fp_bd83329f63', 'finish_reason': 'stop', 'logprobs': None}, id='run-82897287-9c5e-4557-8c3a-00eafcf896e1-0', usage_metadata={'input_tokens': 88, 'output_tokens': 10, 'total_tokens': 98, 'input_token_details': {'audio': 0, 'cache_read': 0}, 'output_token_details': {'audio': 0, 'reasoning': 0}})],\n",
       "  'agent': 'agent'},\n",
       " 'channel_versions': {'__start__': '00000000000000000000000000000002.0.571659546194528',\n",
       "  'messages': '00000000000000000000000000000005.0.8450874109853694',\n",
       "  'start:agent': '00000000000000000000000000000003.0.5115764358196082',\n",
       "  'agent': '00000000000000000000000000000005.0.7750039566988334',\n",
       "  'branch:agent:should_continue:tools': '00000000000000000000000000000004.0.6006542935710992',\n",
       "  'tools': '00000000000000000000000000000005.0.22290195520047118'},\n",
       " 'versions_seen': {'__input__': {},\n",
       "  '__start__': {'__start__': '00000000000000000000000000000001.0.485332083238627'},\n",
       "  'agent': {'start:agent': '00000000000000000000000000000002.0.07832423191348759',\n",
       "   'tools': '00000000000000000000000000000004.0.42098070579693636'},\n",
       "  'tools': {'branch:agent:should_continue:tools': '00000000000000000000000000000003.0.043533215571942896'}},\n",
       " 'pending_sends': []}"
      ]
     },
     "execution_count": 13,
     "metadata": {},
     "output_type": "execute_result"
    }
   ],
   "source": [
    "checkpoint"
   ]
  },
  {
   "cell_type": "code",
   "execution_count": 14,
   "id": "d1ed1344-c923-4a46-b04e-cc3646737d48",
   "metadata": {},
   "outputs": [
    {
     "data": {
      "text/plain": [
       "CheckpointTuple(config={'configurable': {'thread_id': '4', 'checkpoint_ns': '', 'checkpoint_id': '1efe32f4-23f1-658d-8003-bbde492186f5'}}, checkpoint={'type': 'json', 'v': 1, 'ts': '2025-02-04T19:35:58.617303+00:00', 'id': '1efe32f4-23f1-658d-8003-bbde492186f5', 'channel_values': {'messages': [HumanMessage(content=\"what's the weather in nyc\", additional_kwargs={}, response_metadata={}, id='16f5a776-d246-41fc-820a-20827c034a71'), AIMessage(content='', additional_kwargs={'tool_calls': [{'id': 'call_zlRT5aioEXiJzTBup8d38ky1', 'function': {'arguments': '{\"city\":\"nyc\"}', 'name': 'get_weather'}, 'type': 'function'}], 'refusal': None}, response_metadata={'token_usage': {'completion_tokens': 16, 'prompt_tokens': 58, 'total_tokens': 74, 'completion_tokens_details': {'accepted_prediction_tokens': 0, 'audio_tokens': 0, 'reasoning_tokens': 0, 'rejected_prediction_tokens': 0}, 'prompt_tokens_details': {'audio_tokens': 0, 'cached_tokens': 0}}, 'model_name': 'gpt-4o-mini-2024-07-18', 'system_fingerprint': 'fp_bd83329f63', 'finish_reason': 'tool_calls', 'logprobs': None}, id='run-dc9a2b30-4888-4e30-8522-0326d1d77032-0', tool_calls=[{'name': 'get_weather', 'args': {'city': 'nyc'}, 'id': 'call_zlRT5aioEXiJzTBup8d38ky1', 'type': 'tool_call'}], usage_metadata={'input_tokens': 58, 'output_tokens': 16, 'total_tokens': 74, 'input_token_details': {'audio': 0, 'cache_read': 0}, 'output_token_details': {'audio': 0, 'reasoning': 0}}), ToolMessage(content='It might be cloudy in nyc', name='get_weather', id='d354213f-ae64-47a0-b56d-56ec0f040877', tool_call_id='call_zlRT5aioEXiJzTBup8d38ky1'), AIMessage(content='The weather in NYC might be cloudy.', additional_kwargs={'refusal': None}, response_metadata={'token_usage': {'completion_tokens': 10, 'prompt_tokens': 88, 'total_tokens': 98, 'completion_tokens_details': {'accepted_prediction_tokens': 0, 'audio_tokens': 0, 'reasoning_tokens': 0, 'rejected_prediction_tokens': 0}, 'prompt_tokens_details': {'audio_tokens': 0, 'cached_tokens': 0}}, 'model_name': 'gpt-4o-mini-2024-07-18', 'system_fingerprint': 'fp_bd83329f63', 'finish_reason': 'stop', 'logprobs': None}, id='run-82897287-9c5e-4557-8c3a-00eafcf896e1-0', usage_metadata={'input_tokens': 88, 'output_tokens': 10, 'total_tokens': 98, 'input_token_details': {'audio': 0, 'cache_read': 0}, 'output_token_details': {'audio': 0, 'reasoning': 0}})], 'agent': 'agent'}, 'channel_versions': {'__start__': '00000000000000000000000000000002.0.571659546194528', 'messages': '00000000000000000000000000000005.0.8450874109853694', 'start:agent': '00000000000000000000000000000003.0.5115764358196082', 'agent': '00000000000000000000000000000005.0.7750039566988334', 'branch:agent:should_continue:tools': '00000000000000000000000000000004.0.6006542935710992', 'tools': '00000000000000000000000000000005.0.22290195520047118'}, 'versions_seen': {'__input__': {}, '__start__': {'__start__': '00000000000000000000000000000001.0.485332083238627'}, 'agent': {'start:agent': '00000000000000000000000000000002.0.07832423191348759', 'tools': '00000000000000000000000000000004.0.42098070579693636'}, 'tools': {'branch:agent:should_continue:tools': '00000000000000000000000000000003.0.043533215571942896'}}, 'pending_sends': []}, metadata={'source': 'loop', 'writes': {'agent': {'messages': [{'lc': 1, 'type': 'constructor', 'id': ['langchain', 'schema', 'messages', 'AIMessage'], 'kwargs': {'content': 'The weather in NYC might be cloudy.', 'additional_kwargs': {'refusal': None}, 'response_metadata': {'token_usage': {'completion_tokens': 10, 'prompt_tokens': 88, 'total_tokens': 98, 'completion_tokens_details': {'accepted_prediction_tokens': 0, 'audio_tokens': 0, 'reasoning_tokens': 0, 'rejected_prediction_tokens': 0}, 'prompt_tokens_details': {'audio_tokens': 0, 'cached_tokens': 0}}, 'model_name': 'gpt-4o-mini-2024-07-18', 'system_fingerprint': 'fp_bd83329f63', 'finish_reason': 'stop', 'logprobs': None}, 'type': 'ai', 'id': 'run-82897287-9c5e-4557-8c3a-00eafcf896e1-0', 'usage_metadata': {'input_tokens': 88, 'output_tokens': 10, 'total_tokens': 98, 'input_token_details': {'audio': 0, 'cache_read': 0}, 'output_token_details': {'audio': 0, 'reasoning': 0}}, 'tool_calls': [], 'invalid_tool_calls': []}}]}}, 'thread_id': '4', 'step': 3, 'parents': {}}, parent_config=None, pending_writes=[])"
      ]
     },
     "execution_count": 14,
     "metadata": {},
     "output_type": "execute_result"
    }
   ],
   "source": [
    "checkpoint_tuple"
   ]
  },
  {
   "cell_type": "code",
   "execution_count": 15,
   "id": "2b6d73ca-519e-45f7-90c2-1b8596624505",
   "metadata": {},
   "outputs": [
    {
     "data": {
      "text/plain": [
       "[CheckpointTuple(config={'configurable': {'thread_id': '4', 'checkpoint_ns': '', 'checkpoint_id': '1efe32f4-0bd7-6a10-bfff-ee8bce9ebead'}}, checkpoint={'type': 'json', 'v': 1, 'ts': '2025-02-04T19:35:56.090210+00:00', 'id': '1efe32f4-0bd7-6a10-bfff-ee8bce9ebead', 'channel_values': {'__start__': {'messages': [['human', \"what's the weather in nyc\"]]}}, 'channel_versions': {'__start__': '00000000000000000000000000000001.0.485332083238627'}, 'versions_seen': {'__input__': {}}, 'pending_sends': []}, metadata={'source': 'input', 'writes': {'__start__': {'messages': [['human', \"what's the weather in nyc\"]]}}, 'thread_id': '4', 'step': -1, 'parents': {}}, parent_config=None, pending_writes=[('a4588b61-8303-4b21-60cd-06b020bfe3a2', 'messages', [['human', \"what's the weather in nyc\"]]), ('a4588b61-8303-4b21-60cd-06b020bfe3a2', 'start:agent', '__start__')]),\n",
       " CheckpointTuple(config={'configurable': {'thread_id': '4', 'checkpoint_ns': '', 'checkpoint_id': '1efe32f4-0bda-61fd-8000-f17f537eb5a2'}}, checkpoint={'type': 'json', 'v': 1, 'ts': '2025-02-04T19:35:56.091230+00:00', 'id': '1efe32f4-0bda-61fd-8000-f17f537eb5a2', 'channel_values': {'messages': [HumanMessage(content=\"what's the weather in nyc\", additional_kwargs={}, response_metadata={}, id='16f5a776-d246-41fc-820a-20827c034a71')], 'start:agent': '__start__'}, 'channel_versions': {'__start__': '00000000000000000000000000000002.0.571659546194528', 'messages': '00000000000000000000000000000002.0.5949594223680105', 'start:agent': '00000000000000000000000000000002.0.07832423191348759'}, 'versions_seen': {'__input__': {}, '__start__': {'__start__': '00000000000000000000000000000001.0.485332083238627'}}, 'pending_sends': []}, metadata={'source': 'loop', 'writes': None, 'thread_id': '4', 'step': 0, 'parents': {}}, parent_config=None, pending_writes=[('d1d58db3-5b58-0910-7499-3683e66eed74', 'messages', [AIMessage(content='', additional_kwargs={'tool_calls': [{'id': 'call_zlRT5aioEXiJzTBup8d38ky1', 'function': {'arguments': '{\"city\":\"nyc\"}', 'name': 'get_weather'}, 'type': 'function'}], 'refusal': None}, response_metadata={'token_usage': {'completion_tokens': 16, 'prompt_tokens': 58, 'total_tokens': 74, 'completion_tokens_details': {'accepted_prediction_tokens': 0, 'audio_tokens': 0, 'reasoning_tokens': 0, 'rejected_prediction_tokens': 0}, 'prompt_tokens_details': {'audio_tokens': 0, 'cached_tokens': 0}}, 'model_name': 'gpt-4o-mini-2024-07-18', 'system_fingerprint': 'fp_bd83329f63', 'finish_reason': 'tool_calls', 'logprobs': None}, id='run-dc9a2b30-4888-4e30-8522-0326d1d77032-0', tool_calls=[{'name': 'get_weather', 'args': {'city': 'nyc'}, 'id': 'call_zlRT5aioEXiJzTBup8d38ky1', 'type': 'tool_call'}], usage_metadata={'input_tokens': 58, 'output_tokens': 16, 'total_tokens': 74, 'input_token_details': {'audio': 0, 'cache_read': 0}, 'output_token_details': {'audio': 0, 'reasoning': 0}})]), ('d1d58db3-5b58-0910-7499-3683e66eed74', 'agent', 'agent'), ('d1d58db3-5b58-0910-7499-3683e66eed74', 'branch:agent:should_continue:tools', 'agent')]),\n",
       " CheckpointTuple(config={'configurable': {'thread_id': '4', 'checkpoint_ns': '', 'checkpoint_id': '1efe32f4-1878-6304-8001-fa73cfa2f9a4'}}, checkpoint={'type': 'json', 'v': 1, 'ts': '2025-02-04T19:35:57.414248+00:00', 'id': '1efe32f4-1878-6304-8001-fa73cfa2f9a4', 'channel_values': {'messages': [HumanMessage(content=\"what's the weather in nyc\", additional_kwargs={}, response_metadata={}, id='16f5a776-d246-41fc-820a-20827c034a71'), AIMessage(content='', additional_kwargs={'tool_calls': [{'id': 'call_zlRT5aioEXiJzTBup8d38ky1', 'function': {'arguments': '{\"city\":\"nyc\"}', 'name': 'get_weather'}, 'type': 'function'}], 'refusal': None}, response_metadata={'token_usage': {'completion_tokens': 16, 'prompt_tokens': 58, 'total_tokens': 74, 'completion_tokens_details': {'accepted_prediction_tokens': 0, 'audio_tokens': 0, 'reasoning_tokens': 0, 'rejected_prediction_tokens': 0}, 'prompt_tokens_details': {'audio_tokens': 0, 'cached_tokens': 0}}, 'model_name': 'gpt-4o-mini-2024-07-18', 'system_fingerprint': 'fp_bd83329f63', 'finish_reason': 'tool_calls', 'logprobs': None}, id='run-dc9a2b30-4888-4e30-8522-0326d1d77032-0', tool_calls=[{'name': 'get_weather', 'args': {'city': 'nyc'}, 'id': 'call_zlRT5aioEXiJzTBup8d38ky1', 'type': 'tool_call'}], usage_metadata={'input_tokens': 58, 'output_tokens': 16, 'total_tokens': 74, 'input_token_details': {'audio': 0, 'cache_read': 0}, 'output_token_details': {'audio': 0, 'reasoning': 0}})], 'agent': 'agent', 'branch:agent:should_continue:tools': 'agent'}, 'channel_versions': {'__start__': '00000000000000000000000000000002.0.571659546194528', 'messages': '00000000000000000000000000000003.0.5422121822202823', 'start:agent': '00000000000000000000000000000003.0.5115764358196082', 'agent': '00000000000000000000000000000003.0.7607176558378208', 'branch:agent:should_continue:tools': '00000000000000000000000000000003.0.043533215571942896'}, 'versions_seen': {'__input__': {}, '__start__': {'__start__': '00000000000000000000000000000001.0.485332083238627'}, 'agent': {'start:agent': '00000000000000000000000000000002.0.07832423191348759'}}, 'pending_sends': []}, metadata={'source': 'loop', 'writes': {'agent': {'messages': [{'lc': 1, 'type': 'constructor', 'id': ['langchain', 'schema', 'messages', 'AIMessage'], 'kwargs': {'content': '', 'additional_kwargs': {'tool_calls': [{'id': 'call_zlRT5aioEXiJzTBup8d38ky1', 'function': {'arguments': '{\"city\":\"nyc\"}', 'name': 'get_weather'}, 'type': 'function'}], 'refusal': None}, 'response_metadata': {'token_usage': {'completion_tokens': 16, 'prompt_tokens': 58, 'total_tokens': 74, 'completion_tokens_details': {'accepted_prediction_tokens': 0, 'audio_tokens': 0, 'reasoning_tokens': 0, 'rejected_prediction_tokens': 0}, 'prompt_tokens_details': {'audio_tokens': 0, 'cached_tokens': 0}}, 'model_name': 'gpt-4o-mini-2024-07-18', 'system_fingerprint': 'fp_bd83329f63', 'finish_reason': 'tool_calls', 'logprobs': None}, 'type': 'ai', 'id': 'run-dc9a2b30-4888-4e30-8522-0326d1d77032-0', 'tool_calls': [{'name': 'get_weather', 'args': {'city': 'nyc'}, 'id': 'call_zlRT5aioEXiJzTBup8d38ky1', 'type': 'tool_call'}], 'usage_metadata': {'input_tokens': 58, 'output_tokens': 16, 'total_tokens': 74, 'input_token_details': {'audio': 0, 'cache_read': 0}, 'output_token_details': {'audio': 0, 'reasoning': 0}}, 'invalid_tool_calls': []}}]}}, 'thread_id': '4', 'step': 1, 'parents': {}}, parent_config=None, pending_writes=[('3afdb107-4225-fb3f-62f6-dd6d22f71705', 'messages', [ToolMessage(content='It might be cloudy in nyc', name='get_weather', id='d354213f-ae64-47a0-b56d-56ec0f040877', tool_call_id='call_zlRT5aioEXiJzTBup8d38ky1')]), ('3afdb107-4225-fb3f-62f6-dd6d22f71705', 'tools', 'tools')]),\n",
       " CheckpointTuple(config={'configurable': {'thread_id': '4', 'checkpoint_ns': '', 'checkpoint_id': '1efe32f4-1886-6df0-8002-a8a07c39b00b'}}, checkpoint={'type': 'json', 'v': 1, 'ts': '2025-02-04T19:35:57.420267+00:00', 'id': '1efe32f4-1886-6df0-8002-a8a07c39b00b', 'channel_values': {'messages': [HumanMessage(content=\"what's the weather in nyc\", additional_kwargs={}, response_metadata={}, id='16f5a776-d246-41fc-820a-20827c034a71'), AIMessage(content='', additional_kwargs={'tool_calls': [{'id': 'call_zlRT5aioEXiJzTBup8d38ky1', 'function': {'arguments': '{\"city\":\"nyc\"}', 'name': 'get_weather'}, 'type': 'function'}], 'refusal': None}, response_metadata={'token_usage': {'completion_tokens': 16, 'prompt_tokens': 58, 'total_tokens': 74, 'completion_tokens_details': {'accepted_prediction_tokens': 0, 'audio_tokens': 0, 'reasoning_tokens': 0, 'rejected_prediction_tokens': 0}, 'prompt_tokens_details': {'audio_tokens': 0, 'cached_tokens': 0}}, 'model_name': 'gpt-4o-mini-2024-07-18', 'system_fingerprint': 'fp_bd83329f63', 'finish_reason': 'tool_calls', 'logprobs': None}, id='run-dc9a2b30-4888-4e30-8522-0326d1d77032-0', tool_calls=[{'name': 'get_weather', 'args': {'city': 'nyc'}, 'id': 'call_zlRT5aioEXiJzTBup8d38ky1', 'type': 'tool_call'}], usage_metadata={'input_tokens': 58, 'output_tokens': 16, 'total_tokens': 74, 'input_token_details': {'audio': 0, 'cache_read': 0}, 'output_token_details': {'audio': 0, 'reasoning': 0}}), ToolMessage(content='It might be cloudy in nyc', name='get_weather', id='d354213f-ae64-47a0-b56d-56ec0f040877', tool_call_id='call_zlRT5aioEXiJzTBup8d38ky1')], 'tools': 'tools'}, 'channel_versions': {'__start__': '00000000000000000000000000000002.0.571659546194528', 'messages': '00000000000000000000000000000004.0.50691457736017', 'start:agent': '00000000000000000000000000000003.0.5115764358196082', 'agent': '00000000000000000000000000000004.0.2506618682080841', 'branch:agent:should_continue:tools': '00000000000000000000000000000004.0.6006542935710992', 'tools': '00000000000000000000000000000004.0.42098070579693636'}, 'versions_seen': {'__input__': {}, '__start__': {'__start__': '00000000000000000000000000000001.0.485332083238627'}, 'agent': {'start:agent': '00000000000000000000000000000002.0.07832423191348759'}, 'tools': {'branch:agent:should_continue:tools': '00000000000000000000000000000003.0.043533215571942896'}}, 'pending_sends': []}, metadata={'source': 'loop', 'writes': {'tools': {'messages': [{'lc': 1, 'type': 'constructor', 'id': ['langchain', 'schema', 'messages', 'ToolMessage'], 'kwargs': {'content': 'It might be cloudy in nyc', 'type': 'tool', 'name': 'get_weather', 'id': 'd354213f-ae64-47a0-b56d-56ec0f040877', 'tool_call_id': 'call_zlRT5aioEXiJzTBup8d38ky1', 'status': 'success'}}]}}, 'thread_id': '4', 'step': 2, 'parents': {}}, parent_config=None, pending_writes=[('6982c293-3f81-d3f2-bb7c-637a179f75d4', 'messages', [AIMessage(content='The weather in NYC might be cloudy.', additional_kwargs={'refusal': None}, response_metadata={'token_usage': {'completion_tokens': 10, 'prompt_tokens': 88, 'total_tokens': 98, 'completion_tokens_details': {'accepted_prediction_tokens': 0, 'audio_tokens': 0, 'reasoning_tokens': 0, 'rejected_prediction_tokens': 0}, 'prompt_tokens_details': {'audio_tokens': 0, 'cached_tokens': 0}}, 'model_name': 'gpt-4o-mini-2024-07-18', 'system_fingerprint': 'fp_bd83329f63', 'finish_reason': 'stop', 'logprobs': None}, id='run-82897287-9c5e-4557-8c3a-00eafcf896e1-0', usage_metadata={'input_tokens': 88, 'output_tokens': 10, 'total_tokens': 98, 'input_token_details': {'audio': 0, 'cache_read': 0}, 'output_token_details': {'audio': 0, 'reasoning': 0}})]), ('6982c293-3f81-d3f2-bb7c-637a179f75d4', 'agent', 'agent')]),\n",
       " CheckpointTuple(config={'configurable': {'thread_id': '4', 'checkpoint_ns': '', 'checkpoint_id': '1efe32f4-23f1-658d-8003-bbde492186f5'}}, checkpoint={'type': 'json', 'v': 1, 'ts': '2025-02-04T19:35:58.617303+00:00', 'id': '1efe32f4-23f1-658d-8003-bbde492186f5', 'channel_values': {'messages': [HumanMessage(content=\"what's the weather in nyc\", additional_kwargs={}, response_metadata={}, id='16f5a776-d246-41fc-820a-20827c034a71'), AIMessage(content='', additional_kwargs={'tool_calls': [{'id': 'call_zlRT5aioEXiJzTBup8d38ky1', 'function': {'arguments': '{\"city\":\"nyc\"}', 'name': 'get_weather'}, 'type': 'function'}], 'refusal': None}, response_metadata={'token_usage': {'completion_tokens': 16, 'prompt_tokens': 58, 'total_tokens': 74, 'completion_tokens_details': {'accepted_prediction_tokens': 0, 'audio_tokens': 0, 'reasoning_tokens': 0, 'rejected_prediction_tokens': 0}, 'prompt_tokens_details': {'audio_tokens': 0, 'cached_tokens': 0}}, 'model_name': 'gpt-4o-mini-2024-07-18', 'system_fingerprint': 'fp_bd83329f63', 'finish_reason': 'tool_calls', 'logprobs': None}, id='run-dc9a2b30-4888-4e30-8522-0326d1d77032-0', tool_calls=[{'name': 'get_weather', 'args': {'city': 'nyc'}, 'id': 'call_zlRT5aioEXiJzTBup8d38ky1', 'type': 'tool_call'}], usage_metadata={'input_tokens': 58, 'output_tokens': 16, 'total_tokens': 74, 'input_token_details': {'audio': 0, 'cache_read': 0}, 'output_token_details': {'audio': 0, 'reasoning': 0}}), ToolMessage(content='It might be cloudy in nyc', name='get_weather', id='d354213f-ae64-47a0-b56d-56ec0f040877', tool_call_id='call_zlRT5aioEXiJzTBup8d38ky1'), AIMessage(content='The weather in NYC might be cloudy.', additional_kwargs={'refusal': None}, response_metadata={'token_usage': {'completion_tokens': 10, 'prompt_tokens': 88, 'total_tokens': 98, 'completion_tokens_details': {'accepted_prediction_tokens': 0, 'audio_tokens': 0, 'reasoning_tokens': 0, 'rejected_prediction_tokens': 0}, 'prompt_tokens_details': {'audio_tokens': 0, 'cached_tokens': 0}}, 'model_name': 'gpt-4o-mini-2024-07-18', 'system_fingerprint': 'fp_bd83329f63', 'finish_reason': 'stop', 'logprobs': None}, id='run-82897287-9c5e-4557-8c3a-00eafcf896e1-0', usage_metadata={'input_tokens': 88, 'output_tokens': 10, 'total_tokens': 98, 'input_token_details': {'audio': 0, 'cache_read': 0}, 'output_token_details': {'audio': 0, 'reasoning': 0}})], 'agent': 'agent'}, 'channel_versions': {'__start__': '00000000000000000000000000000002.0.571659546194528', 'messages': '00000000000000000000000000000005.0.8450874109853694', 'start:agent': '00000000000000000000000000000003.0.5115764358196082', 'agent': '00000000000000000000000000000005.0.7750039566988334', 'branch:agent:should_continue:tools': '00000000000000000000000000000004.0.6006542935710992', 'tools': '00000000000000000000000000000005.0.22290195520047118'}, 'versions_seen': {'__input__': {}, '__start__': {'__start__': '00000000000000000000000000000001.0.485332083238627'}, 'agent': {'start:agent': '00000000000000000000000000000002.0.07832423191348759', 'tools': '00000000000000000000000000000004.0.42098070579693636'}, 'tools': {'branch:agent:should_continue:tools': '00000000000000000000000000000003.0.043533215571942896'}}, 'pending_sends': []}, metadata={'source': 'loop', 'writes': {'agent': {'messages': [{'lc': 1, 'type': 'constructor', 'id': ['langchain', 'schema', 'messages', 'AIMessage'], 'kwargs': {'content': 'The weather in NYC might be cloudy.', 'additional_kwargs': {'refusal': None}, 'response_metadata': {'token_usage': {'completion_tokens': 10, 'prompt_tokens': 88, 'total_tokens': 98, 'completion_tokens_details': {'accepted_prediction_tokens': 0, 'audio_tokens': 0, 'reasoning_tokens': 0, 'rejected_prediction_tokens': 0}, 'prompt_tokens_details': {'audio_tokens': 0, 'cached_tokens': 0}}, 'model_name': 'gpt-4o-mini-2024-07-18', 'system_fingerprint': 'fp_bd83329f63', 'finish_reason': 'stop', 'logprobs': None}, 'type': 'ai', 'id': 'run-82897287-9c5e-4557-8c3a-00eafcf896e1-0', 'usage_metadata': {'input_tokens': 88, 'output_tokens': 10, 'total_tokens': 98, 'input_token_details': {'audio': 0, 'cache_read': 0}, 'output_token_details': {'audio': 0, 'reasoning': 0}}, 'tool_calls': [], 'invalid_tool_calls': []}}]}}, 'thread_id': '4', 'step': 3, 'parents': {}}, parent_config=None, pending_writes=[])]"
      ]
     },
     "execution_count": 15,
     "metadata": {},
     "output_type": "execute_result"
    }
   ],
   "source": [
    "checkpoint_tuples"
   ]
  }
 ],
 "metadata": {
  "kernelspec": {
   "display_name": "Python 3 (ipykernel)",
   "language": "python",
   "name": "python3"
  },
  "language_info": {
   "codemirror_mode": {
    "name": "ipython",
    "version": 3
   },
   "file_extension": ".py",
   "mimetype": "text/x-python",
   "name": "python",
   "nbconvert_exporter": "python",
   "pygments_lexer": "ipython3",
   "version": "3.11.11"
  }
 },
 "nbformat": 4,
 "nbformat_minor": 5
}
